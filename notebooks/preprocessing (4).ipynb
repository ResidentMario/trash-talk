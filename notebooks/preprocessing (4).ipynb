{
 "cells": [
  {
   "cell_type": "code",
   "execution_count": 1,
   "metadata": {},
   "outputs": [],
   "source": [
    "import geopandas as gpd\n",
    "import pandas as pd\n",
    "from shapely.geometry import Polygon, MultiPolygon, LineString, mapping, Point\n",
    "import numpy as np\n",
    "import itertools\n",
    "import rtree\n",
    "from tqdm import tqdm\n",
    "pd.set_option('max_columns', None)\n",
    "%matplotlib inline\n",
    "\n",
    "\n",
    "street_segments = gpd.read_file(\"../data/processed/street_segments.geojson\")\n",
    "blocks = gpd.read_file(\"../data/processed/blocks.geojson\")\n",
    "buildings = gpd.read_file(\"../data/processed/buildings.geojson\")\n",
    "blockfaces = gpd.read_file(\"../data/processed/blockfaces.geojson\")"
   ]
  },
  {
   "cell_type": "code",
   "execution_count": 50,
   "metadata": {},
   "outputs": [],
   "source": [
    "def filter_on_block_id(block_id, block_id_key=\"geoid10\"):\n",
    "    def select(df):\n",
    "        return (df.set_index(block_id_key)\n",
    "                    .filter(like=block_id, axis='rows')\n",
    "                    .reset_index()\n",
    "               )\n",
    "    \n",
    "    return select\n",
    "\n",
    "\n",
    "def get_block_data(block_id):\n",
    "    ss = street_segments.pipe(filter_on_block_id(block_id))\n",
    "    bf = blockfaces.pipe(filter_on_block_id(block_id))\n",
    "    bldgs = buildings.pipe(filter_on_block_id(block_id))\n",
    "    return ss, bf, bldgs\n",
    "\n",
    "\n",
    "def plot_block(block_id):\n",
    "    street_segments, blockfaces, buildings = get_block_data(block_id)\n",
    "    \n",
    "    ax = street_segments.plot(color='red', linewidth=1)\n",
    "    blockfaces.plot(color='black', ax=ax, linewidth=1)\n",
    "    buildings.plot(ax=ax, color='lightsteelblue', linewidth=1, edgecolor='steelblue')\n",
    "    return ax\n",
    "\n",
    "\n",
    "def simplify_linestring(inp):\n",
    "    inp = inp.convex_hull\n",
    "    coords = np.round(mapping(inp)['coordinates'], decimals=4)\n",
    "    out = LineString(coords)\n",
    "    return out\n",
    "    \n",
    "    \n",
    "def simplify_bldg(bldg):\n",
    "    if isinstance(bldg, MultiPolygon):\n",
    "        bldg = bldg.buffer(0)\n",
    "    \n",
    "    if isinstance(bldg, MultiPolygon):\n",
    "        raise NotImplemented  # TODO\n",
    "    \n",
    "    coords = [xyz[:2] for xyz in mapping(bldg.convex_hull)['coordinates'][0]]\n",
    "    bldg = Polygon(bldg)\n",
    "    \n",
    "    return bldg\n",
    "\n",
    "\n",
    "def pairwise_combinations(keys):\n",
    "    return itertools.combinations({'a': 12, 'b': 15, 'c': 13}.keys(), r=2)\n",
    "\n",
    "\n",
    "def collect_strides(point_observations):\n",
    "    point_obs_keys = list(point_observations.keys())\n",
    "    curr_obs_start_offset = point_obs_keys[0]\n",
    "    curr_obs_start_bldg = point_observations[point_obs_keys[0]]    \n",
    "    strides = dict()\n",
    "    \n",
    "    for point_obs in point_obs_keys[1:]:\n",
    "        bldg_observed = point_observations[point_obs]\n",
    "        if bldg_observed != curr_obs_start_bldg:\n",
    "            strides[(curr_obs_start_offset, point_obs)] = curr_obs_start_bldg\n",
    "            curr_obs_start_offset = point_obs\n",
    "            curr_obs_start_bldg = bldg_observed\n",
    "        else:\n",
    "            continue\n",
    "            \n",
    "    strides[(curr_obs_start_offset, '1.00')] = bldg_observed\n",
    "    \n",
    "    return strides\n",
    "\n",
    "\n",
    "def get_stride_boundaries(strides, step_size=0.02):\n",
    "    boundaries = list()\n",
    "    \n",
    "    keys = list(strides.keys())\n",
    "    for idx, key in enumerate(keys[1:]):\n",
    "        curr = strides[key]\n",
    "        boundaries.append((key[0], str(float(key[0]) + step_size)))\n",
    "\n",
    "    return boundaries\n",
    "\n",
    "\n",
    "def cut(line, distance):\n",
    "    # Cuts a line in two at a distance from its starting point\n",
    "    if distance <= 0.0 or distance >= 1.0:\n",
    "        return [LineString(line)]\n",
    "    coords = list(line.coords)\n",
    "    for i, p in enumerate(coords):\n",
    "        pd = line.project(Point(p), normalized=True)\n",
    "        if pd == distance:\n",
    "            return [\n",
    "                LineString(coords[:i+1]),\n",
    "                LineString(coords[i:])]\n",
    "        if pd > distance:\n",
    "            cp = line.interpolate(distance, normalized=True)\n",
    "            return [\n",
    "                LineString(coords[:i] + [(cp.x, cp.y)]),\n",
    "                LineString([(cp.x, cp.y)] + coords[i:])]\n",
    "\n",
    "\n",
    "def reverse(l):\n",
    "    l_x, l_y = l.coords.xy\n",
    "    l_x, l_y = l_x[::-1], l_y[::-1]\n",
    "    return LineString(zip(l_x, l_y))\n",
    "\n",
    "    \n",
    "def chop_line_segment_using_offsets(line, offsets):\n",
    "    offset_keys = list(offsets.keys())\n",
    "    out = []\n",
    "    \n",
    "    for off_start, off_end in offset_keys:\n",
    "        out_line = LineString(line.coords)\n",
    "        orig_length = out_line.length\n",
    "        \n",
    "        # Reverse to cut off the start.\n",
    "        out_line = reverse(out_line)\n",
    "        out_line = cut(out_line, 1 - float(off_start))\n",
    "        out_line = reverse(out_line)\n",
    "        intermediate_length = out_line.length\n",
    "        \n",
    "        # Calculate the new cutoff end point, and apply it to the line.\n",
    "        l_1_2 = (float(off_end) - float(off_start)) * orig_length\n",
    "        l_1_3 = (1 - float(off_start)) * orig_length\n",
    "        new_off_end = l_1_2 - l_1_3\n",
    "        \n",
    "        # Perform the cut.\n",
    "        out_line = cut(out_line, new_off_end)\n",
    "        \n",
    "        if cut_result is None:\n",
    "            return np.nan\n",
    "        elif len(cut_result) == 1:\n",
    "            out.append(cut_result[0])\n",
    "        else:\n",
    "            to_out, rest = cut(line, float(off_end))\n",
    "            out.append(to_out)\n",
    "        \n",
    "    return out\n",
    "\n",
    "\n",
    "def frontages_for_blockface(bldgs, blockface, step_size=0.01):\n",
    "    index = rtree.Rtree()\n",
    "    \n",
    "    if len(bldgs) == 0:\n",
    "        return gpd.GeoDataFrame()\n",
    "    \n",
    "    for idx, bldg in bldgs.iterrows():\n",
    "        index.insert(idx, bldg.geometry.bounds)\n",
    "    \n",
    "    bldg_frontage_points = dict()\n",
    "    \n",
    "    search_space = np.arange(0, 1, step_size)\n",
    "    next_search_space = []\n",
    "    while len(search_space) > 0:\n",
    "        for offset in search_space:\n",
    "            search_point = blockface.geometry.interpolate(offset, normalized=True)\n",
    "            nearest_bldg = list(index.nearest(search_point.bounds, 1))[0]\n",
    "            bldg_frontage_points[str(offset)[:6]] = nearest_bldg\n",
    "            \n",
    "        strides = collect_strides(bldg_frontage_points)\n",
    "        search_space = next_search_space\n",
    "        \n",
    "    # convert the list of strides to a proper GeoDataFrame\n",
    "    out = []\n",
    "    for sk in strides.keys():\n",
    "        srs = bldgs.loc[strides[sk], ['geoid10', 'sf16_BldgID']]\n",
    "        srs['geoid10_n'] = blockface['geoid10_n']\n",
    "        srs['geom_offset_start'] = sk[0]\n",
    "        srs['geom_offset_end'] = sk[1]\n",
    "        out.append(srs)\n",
    "    \n",
    "    out = gpd.GeoDataFrame(out)\n",
    "    \n",
    "    geoms = chop_line_segment_using_offsets(blockface.geometry, strides)\n",
    "    out['geometry'] = geoms\n",
    "\n",
    "    return out"
   ]
  },
  {
   "cell_type": "code",
   "execution_count": 3,
   "metadata": {},
   "outputs": [],
   "source": [
    "# model_street_segments, model_blockfaces, model_buildings = get_block_data('060759809001134')"
   ]
  },
  {
   "cell_type": "code",
   "execution_count": 4,
   "metadata": {},
   "outputs": [],
   "source": [
    "# frontages_for_blockface(model_buildings, model_blockfaces.iloc[0]).plot(color=['red', 'green', 'blue'])"
   ]
  },
  {
   "cell_type": "code",
   "execution_count": 3,
   "metadata": {},
   "outputs": [],
   "source": [
    "from tqdm import tqdm"
   ]
  },
  {
   "cell_type": "code",
   "execution_count": 4,
   "metadata": {},
   "outputs": [],
   "source": [
    "def calculate_frontages(blocks, streets, blockfaces, buildings):\n",
    "    frontages = []\n",
    "\n",
    "    for block_idx, block in tqdm(list(blocks.iterrows())):\n",
    "        _, blockfaces, buildings = get_block_data(block.geoid10)\n",
    "        for blockface_idx, blockface in blockfaces.iterrows():\n",
    "            result = frontages_for_blockface(buildings, blockface)\n",
    "            frontages.append(result)\n",
    "    \n",
    "    frontages = gpd.GeoDataFrame(pd.concat(frontages)).groupby('sf16_BldgID').apply(\n",
    "        lambda df: df.assign(sf16_BldgID_n=[f'{df.iloc[0].sf16_BldgID}_{n}' for n in range(len(df))])\n",
    "    ).reset_index(drop=True)\n",
    "    \n",
    "    return frontages"
   ]
  },
  {
   "cell_type": "code",
   "execution_count": 5,
   "metadata": {
    "scrolled": false
   },
   "outputs": [
    {
     "name": "stderr",
     "output_type": "stream",
     "text": [
      " 12%|█▏        | 121/1000 [01:53<13:43,  1.07it/s]"
     ]
    },
    {
     "ename": "ValueError",
     "evalue": "Length of values does not match length of index",
     "output_type": "error",
     "traceback": [
      "\u001b[0;31m---------------------------------------------------------------------------\u001b[0m",
      "\u001b[0;31mValueError\u001b[0m                                Traceback (most recent call last)",
      "\u001b[0;32m<ipython-input-5-98353ac3ea1f>\u001b[0m in \u001b[0;36m<module>\u001b[0;34m\u001b[0m\n\u001b[0;32m----> 1\u001b[0;31m \u001b[0mfrontages\u001b[0m \u001b[0;34m=\u001b[0m \u001b[0mcalculate_frontages\u001b[0m\u001b[0;34m(\u001b[0m\u001b[0mblocks\u001b[0m\u001b[0;34m.\u001b[0m\u001b[0miloc\u001b[0m\u001b[0;34m[\u001b[0m\u001b[0;34m:\u001b[0m\u001b[0;36m1000\u001b[0m\u001b[0;34m]\u001b[0m\u001b[0;34m,\u001b[0m \u001b[0mstreet_segments\u001b[0m\u001b[0;34m,\u001b[0m \u001b[0mblockfaces\u001b[0m\u001b[0;34m,\u001b[0m \u001b[0mbuildings\u001b[0m\u001b[0;34m)\u001b[0m\u001b[0;34m\u001b[0m\u001b[0m\n\u001b[0m",
      "\u001b[0;32m<ipython-input-4-cfa4e4e4d554>\u001b[0m in \u001b[0;36mcalculate_frontages\u001b[0;34m(blocks, streets, blockfaces, buildings)\u001b[0m\n\u001b[1;32m      5\u001b[0m         \u001b[0m_\u001b[0m\u001b[0;34m,\u001b[0m \u001b[0mblockfaces\u001b[0m\u001b[0;34m,\u001b[0m \u001b[0mbuildings\u001b[0m \u001b[0;34m=\u001b[0m \u001b[0mget_block_data\u001b[0m\u001b[0;34m(\u001b[0m\u001b[0mblock\u001b[0m\u001b[0;34m.\u001b[0m\u001b[0mgeoid10\u001b[0m\u001b[0;34m)\u001b[0m\u001b[0;34m\u001b[0m\u001b[0m\n\u001b[1;32m      6\u001b[0m         \u001b[0;32mfor\u001b[0m \u001b[0mblockface_idx\u001b[0m\u001b[0;34m,\u001b[0m \u001b[0mblockface\u001b[0m \u001b[0;32min\u001b[0m \u001b[0mblockfaces\u001b[0m\u001b[0;34m.\u001b[0m\u001b[0miterrows\u001b[0m\u001b[0;34m(\u001b[0m\u001b[0;34m)\u001b[0m\u001b[0;34m:\u001b[0m\u001b[0;34m\u001b[0m\u001b[0m\n\u001b[0;32m----> 7\u001b[0;31m             \u001b[0mresult\u001b[0m \u001b[0;34m=\u001b[0m \u001b[0mfrontages_for_blockface\u001b[0m\u001b[0;34m(\u001b[0m\u001b[0mbuildings\u001b[0m\u001b[0;34m,\u001b[0m \u001b[0mblockface\u001b[0m\u001b[0;34m)\u001b[0m\u001b[0;34m\u001b[0m\u001b[0m\n\u001b[0m\u001b[1;32m      8\u001b[0m             \u001b[0mfrontages\u001b[0m\u001b[0;34m.\u001b[0m\u001b[0mappend\u001b[0m\u001b[0;34m(\u001b[0m\u001b[0mresult\u001b[0m\u001b[0;34m)\u001b[0m\u001b[0;34m\u001b[0m\u001b[0m\n\u001b[1;32m      9\u001b[0m \u001b[0;34m\u001b[0m\u001b[0m\n",
      "\u001b[0;32m<ipython-input-2-8e0887aed4d9>\u001b[0m in \u001b[0;36mfrontages_for_blockface\u001b[0;34m(bldgs, blockface, step_size)\u001b[0m\n\u001b[1;32m    150\u001b[0m \u001b[0;34m\u001b[0m\u001b[0m\n\u001b[1;32m    151\u001b[0m     \u001b[0mgeoms\u001b[0m \u001b[0;34m=\u001b[0m \u001b[0mchop_line_segment_using_offsets\u001b[0m\u001b[0;34m(\u001b[0m\u001b[0mblockface\u001b[0m\u001b[0;34m.\u001b[0m\u001b[0mgeometry\u001b[0m\u001b[0;34m,\u001b[0m \u001b[0mstrides\u001b[0m\u001b[0;34m)\u001b[0m\u001b[0;34m\u001b[0m\u001b[0m\n\u001b[0;32m--> 152\u001b[0;31m     \u001b[0mout\u001b[0m\u001b[0;34m[\u001b[0m\u001b[0;34m'geometry'\u001b[0m\u001b[0;34m]\u001b[0m \u001b[0;34m=\u001b[0m \u001b[0mgeoms\u001b[0m\u001b[0;34m\u001b[0m\u001b[0m\n\u001b[0m\u001b[1;32m    153\u001b[0m \u001b[0;34m\u001b[0m\u001b[0m\n\u001b[1;32m    154\u001b[0m     \u001b[0;32mreturn\u001b[0m \u001b[0mout\u001b[0m\u001b[0;34m\u001b[0m\u001b[0m\n",
      "\u001b[0;32m~/miniconda3/envs/trash-talk/lib/python3.6/site-packages/pandas/core/frame.py\u001b[0m in \u001b[0;36m__setitem__\u001b[0;34m(self, key, value)\u001b[0m\n\u001b[1;32m   3117\u001b[0m         \u001b[0;32melse\u001b[0m\u001b[0;34m:\u001b[0m\u001b[0;34m\u001b[0m\u001b[0m\n\u001b[1;32m   3118\u001b[0m             \u001b[0;31m# set column\u001b[0m\u001b[0;34m\u001b[0m\u001b[0;34m\u001b[0m\u001b[0m\n\u001b[0;32m-> 3119\u001b[0;31m             \u001b[0mself\u001b[0m\u001b[0;34m.\u001b[0m\u001b[0m_set_item\u001b[0m\u001b[0;34m(\u001b[0m\u001b[0mkey\u001b[0m\u001b[0;34m,\u001b[0m \u001b[0mvalue\u001b[0m\u001b[0;34m)\u001b[0m\u001b[0;34m\u001b[0m\u001b[0m\n\u001b[0m\u001b[1;32m   3120\u001b[0m \u001b[0;34m\u001b[0m\u001b[0m\n\u001b[1;32m   3121\u001b[0m     \u001b[0;32mdef\u001b[0m \u001b[0m_setitem_slice\u001b[0m\u001b[0;34m(\u001b[0m\u001b[0mself\u001b[0m\u001b[0;34m,\u001b[0m \u001b[0mkey\u001b[0m\u001b[0;34m,\u001b[0m \u001b[0mvalue\u001b[0m\u001b[0;34m)\u001b[0m\u001b[0;34m:\u001b[0m\u001b[0;34m\u001b[0m\u001b[0m\n",
      "\u001b[0;32m~/miniconda3/envs/trash-talk/lib/python3.6/site-packages/pandas/core/frame.py\u001b[0m in \u001b[0;36m_set_item\u001b[0;34m(self, key, value)\u001b[0m\n\u001b[1;32m   3192\u001b[0m \u001b[0;34m\u001b[0m\u001b[0m\n\u001b[1;32m   3193\u001b[0m         \u001b[0mself\u001b[0m\u001b[0;34m.\u001b[0m\u001b[0m_ensure_valid_index\u001b[0m\u001b[0;34m(\u001b[0m\u001b[0mvalue\u001b[0m\u001b[0;34m)\u001b[0m\u001b[0;34m\u001b[0m\u001b[0m\n\u001b[0;32m-> 3194\u001b[0;31m         \u001b[0mvalue\u001b[0m \u001b[0;34m=\u001b[0m \u001b[0mself\u001b[0m\u001b[0;34m.\u001b[0m\u001b[0m_sanitize_column\u001b[0m\u001b[0;34m(\u001b[0m\u001b[0mkey\u001b[0m\u001b[0;34m,\u001b[0m \u001b[0mvalue\u001b[0m\u001b[0;34m)\u001b[0m\u001b[0;34m\u001b[0m\u001b[0m\n\u001b[0m\u001b[1;32m   3195\u001b[0m         \u001b[0mNDFrame\u001b[0m\u001b[0;34m.\u001b[0m\u001b[0m_set_item\u001b[0m\u001b[0;34m(\u001b[0m\u001b[0mself\u001b[0m\u001b[0;34m,\u001b[0m \u001b[0mkey\u001b[0m\u001b[0;34m,\u001b[0m \u001b[0mvalue\u001b[0m\u001b[0;34m)\u001b[0m\u001b[0;34m\u001b[0m\u001b[0m\n\u001b[1;32m   3196\u001b[0m \u001b[0;34m\u001b[0m\u001b[0m\n",
      "\u001b[0;32m~/miniconda3/envs/trash-talk/lib/python3.6/site-packages/pandas/core/frame.py\u001b[0m in \u001b[0;36m_sanitize_column\u001b[0;34m(self, key, value, broadcast)\u001b[0m\n\u001b[1;32m   3389\u001b[0m \u001b[0;34m\u001b[0m\u001b[0m\n\u001b[1;32m   3390\u001b[0m             \u001b[0;31m# turn me into an ndarray\u001b[0m\u001b[0;34m\u001b[0m\u001b[0;34m\u001b[0m\u001b[0m\n\u001b[0;32m-> 3391\u001b[0;31m             \u001b[0mvalue\u001b[0m \u001b[0;34m=\u001b[0m \u001b[0m_sanitize_index\u001b[0m\u001b[0;34m(\u001b[0m\u001b[0mvalue\u001b[0m\u001b[0;34m,\u001b[0m \u001b[0mself\u001b[0m\u001b[0;34m.\u001b[0m\u001b[0mindex\u001b[0m\u001b[0;34m,\u001b[0m \u001b[0mcopy\u001b[0m\u001b[0;34m=\u001b[0m\u001b[0;32mFalse\u001b[0m\u001b[0;34m)\u001b[0m\u001b[0;34m\u001b[0m\u001b[0m\n\u001b[0m\u001b[1;32m   3392\u001b[0m             \u001b[0;32mif\u001b[0m \u001b[0;32mnot\u001b[0m \u001b[0misinstance\u001b[0m\u001b[0;34m(\u001b[0m\u001b[0mvalue\u001b[0m\u001b[0;34m,\u001b[0m \u001b[0;34m(\u001b[0m\u001b[0mnp\u001b[0m\u001b[0;34m.\u001b[0m\u001b[0mndarray\u001b[0m\u001b[0;34m,\u001b[0m \u001b[0mIndex\u001b[0m\u001b[0;34m)\u001b[0m\u001b[0;34m)\u001b[0m\u001b[0;34m:\u001b[0m\u001b[0;34m\u001b[0m\u001b[0m\n\u001b[1;32m   3393\u001b[0m                 \u001b[0;32mif\u001b[0m \u001b[0misinstance\u001b[0m\u001b[0;34m(\u001b[0m\u001b[0mvalue\u001b[0m\u001b[0;34m,\u001b[0m \u001b[0mlist\u001b[0m\u001b[0;34m)\u001b[0m \u001b[0;32mand\u001b[0m \u001b[0mlen\u001b[0m\u001b[0;34m(\u001b[0m\u001b[0mvalue\u001b[0m\u001b[0;34m)\u001b[0m \u001b[0;34m>\u001b[0m \u001b[0;36m0\u001b[0m\u001b[0;34m:\u001b[0m\u001b[0;34m\u001b[0m\u001b[0m\n",
      "\u001b[0;32m~/miniconda3/envs/trash-talk/lib/python3.6/site-packages/pandas/core/series.py\u001b[0m in \u001b[0;36m_sanitize_index\u001b[0;34m(data, index, copy)\u001b[0m\n\u001b[1;32m   3999\u001b[0m \u001b[0;34m\u001b[0m\u001b[0m\n\u001b[1;32m   4000\u001b[0m     \u001b[0;32mif\u001b[0m \u001b[0mlen\u001b[0m\u001b[0;34m(\u001b[0m\u001b[0mdata\u001b[0m\u001b[0;34m)\u001b[0m \u001b[0;34m!=\u001b[0m \u001b[0mlen\u001b[0m\u001b[0;34m(\u001b[0m\u001b[0mindex\u001b[0m\u001b[0;34m)\u001b[0m\u001b[0;34m:\u001b[0m\u001b[0;34m\u001b[0m\u001b[0m\n\u001b[0;32m-> 4001\u001b[0;31m         \u001b[0;32mraise\u001b[0m \u001b[0mValueError\u001b[0m\u001b[0;34m(\u001b[0m\u001b[0;34m'Length of values does not match length of '\u001b[0m \u001b[0;34m'index'\u001b[0m\u001b[0;34m)\u001b[0m\u001b[0;34m\u001b[0m\u001b[0m\n\u001b[0m\u001b[1;32m   4002\u001b[0m \u001b[0;34m\u001b[0m\u001b[0m\n\u001b[1;32m   4003\u001b[0m     \u001b[0;32mif\u001b[0m \u001b[0misinstance\u001b[0m\u001b[0;34m(\u001b[0m\u001b[0mdata\u001b[0m\u001b[0;34m,\u001b[0m \u001b[0mABCIndexClass\u001b[0m\u001b[0;34m)\u001b[0m \u001b[0;32mand\u001b[0m \u001b[0;32mnot\u001b[0m \u001b[0mcopy\u001b[0m\u001b[0;34m:\u001b[0m\u001b[0;34m\u001b[0m\u001b[0m\n",
      "\u001b[0;31mValueError\u001b[0m: Length of values does not match length of index"
     ]
    }
   ],
   "source": [
    "frontages = calculate_frontages(blocks.iloc[:1000], street_segments, blockfaces, buildings)"
   ]
  },
  {
   "cell_type": "code",
   "execution_count": 28,
   "metadata": {},
   "outputs": [
    {
     "name": "stderr",
     "output_type": "stream",
     "text": [
      "\n",
      "  0%|          | 0/1 [00:00<?, ?it/s]\u001b[A"
     ]
    },
    {
     "name": "stdout",
     "output_type": "stream",
     "text": [
      "> <ipython-input-27-22ee7cb1520b>(106)chop_line_segment_using_offsets()\n",
      "-> for off_start, off_end in offset_keys:\n",
      "(Pdb) offset_keys\n",
      "[('0.0', '0.33'), ('0.33', '0.43'), ('0.43', '0.52'), ('0.52', '0.63'), ('0.63', '0.71'), ('0.71', '0.81'), ('0.81', '1.00')]\n",
      "(Pdb) q\n"
     ]
    },
    {
     "ename": "BdbQuit",
     "evalue": "",
     "output_type": "error",
     "traceback": [
      "\u001b[0;31m---------------------------------------------------------------------------\u001b[0m",
      "\u001b[0;31mBdbQuit\u001b[0m                                   Traceback (most recent call last)",
      "\u001b[0;32m<ipython-input-28-bd2a005e62be>\u001b[0m in \u001b[0;36m<module>\u001b[0;34m\u001b[0m\n\u001b[0;32m----> 1\u001b[0;31m \u001b[0mcalculate_frontages\u001b[0m\u001b[0;34m(\u001b[0m\u001b[0mblocks\u001b[0m\u001b[0;34m.\u001b[0m\u001b[0miloc\u001b[0m\u001b[0;34m[\u001b[0m\u001b[0;36m121\u001b[0m\u001b[0;34m:\u001b[0m\u001b[0;36m122\u001b[0m\u001b[0;34m]\u001b[0m\u001b[0;34m,\u001b[0m \u001b[0mstreet_segments\u001b[0m\u001b[0;34m,\u001b[0m \u001b[0mblockfaces\u001b[0m\u001b[0;34m,\u001b[0m \u001b[0mbuildings\u001b[0m\u001b[0;34m)\u001b[0m\u001b[0;34m\u001b[0m\u001b[0m\n\u001b[0m",
      "\u001b[0;32m<ipython-input-4-cfa4e4e4d554>\u001b[0m in \u001b[0;36mcalculate_frontages\u001b[0;34m(blocks, streets, blockfaces, buildings)\u001b[0m\n\u001b[1;32m      5\u001b[0m         \u001b[0m_\u001b[0m\u001b[0;34m,\u001b[0m \u001b[0mblockfaces\u001b[0m\u001b[0;34m,\u001b[0m \u001b[0mbuildings\u001b[0m \u001b[0;34m=\u001b[0m \u001b[0mget_block_data\u001b[0m\u001b[0;34m(\u001b[0m\u001b[0mblock\u001b[0m\u001b[0;34m.\u001b[0m\u001b[0mgeoid10\u001b[0m\u001b[0;34m)\u001b[0m\u001b[0;34m\u001b[0m\u001b[0m\n\u001b[1;32m      6\u001b[0m         \u001b[0;32mfor\u001b[0m \u001b[0mblockface_idx\u001b[0m\u001b[0;34m,\u001b[0m \u001b[0mblockface\u001b[0m \u001b[0;32min\u001b[0m \u001b[0mblockfaces\u001b[0m\u001b[0;34m.\u001b[0m\u001b[0miterrows\u001b[0m\u001b[0;34m(\u001b[0m\u001b[0;34m)\u001b[0m\u001b[0;34m:\u001b[0m\u001b[0;34m\u001b[0m\u001b[0m\n\u001b[0;32m----> 7\u001b[0;31m             \u001b[0mresult\u001b[0m \u001b[0;34m=\u001b[0m \u001b[0mfrontages_for_blockface\u001b[0m\u001b[0;34m(\u001b[0m\u001b[0mbuildings\u001b[0m\u001b[0;34m,\u001b[0m \u001b[0mblockface\u001b[0m\u001b[0;34m)\u001b[0m\u001b[0;34m\u001b[0m\u001b[0m\n\u001b[0m\u001b[1;32m      8\u001b[0m             \u001b[0mfrontages\u001b[0m\u001b[0;34m.\u001b[0m\u001b[0mappend\u001b[0m\u001b[0;34m(\u001b[0m\u001b[0mresult\u001b[0m\u001b[0;34m)\u001b[0m\u001b[0;34m\u001b[0m\u001b[0m\n\u001b[1;32m      9\u001b[0m \u001b[0;34m\u001b[0m\u001b[0m\n",
      "\u001b[0;32m<ipython-input-27-22ee7cb1520b>\u001b[0m in \u001b[0;36mfrontages_for_blockface\u001b[0;34m(bldgs, blockface, step_size)\u001b[0m\n\u001b[1;32m    151\u001b[0m     \u001b[0mout\u001b[0m \u001b[0;34m=\u001b[0m \u001b[0mgpd\u001b[0m\u001b[0;34m.\u001b[0m\u001b[0mGeoDataFrame\u001b[0m\u001b[0;34m(\u001b[0m\u001b[0mout\u001b[0m\u001b[0;34m)\u001b[0m\u001b[0;34m\u001b[0m\u001b[0m\n\u001b[1;32m    152\u001b[0m \u001b[0;34m\u001b[0m\u001b[0m\n\u001b[0;32m--> 153\u001b[0;31m     \u001b[0mgeoms\u001b[0m \u001b[0;34m=\u001b[0m \u001b[0mchop_line_segment_using_offsets\u001b[0m\u001b[0;34m(\u001b[0m\u001b[0mblockface\u001b[0m\u001b[0;34m.\u001b[0m\u001b[0mgeometry\u001b[0m\u001b[0;34m,\u001b[0m \u001b[0mstrides\u001b[0m\u001b[0;34m)\u001b[0m\u001b[0;34m\u001b[0m\u001b[0m\n\u001b[0m\u001b[1;32m    154\u001b[0m     \u001b[0mout\u001b[0m\u001b[0;34m[\u001b[0m\u001b[0;34m'geometry'\u001b[0m\u001b[0;34m]\u001b[0m \u001b[0;34m=\u001b[0m \u001b[0mgeoms\u001b[0m\u001b[0;34m\u001b[0m\u001b[0m\n\u001b[1;32m    155\u001b[0m \u001b[0;34m\u001b[0m\u001b[0m\n",
      "\u001b[0;32m<ipython-input-27-22ee7cb1520b>\u001b[0m in \u001b[0;36mchop_line_segment_using_offsets\u001b[0;34m(line, offsets)\u001b[0m\n\u001b[1;32m    104\u001b[0m     \u001b[0;32mimport\u001b[0m \u001b[0mpdb\u001b[0m\u001b[0;34m;\u001b[0m \u001b[0mpdb\u001b[0m\u001b[0;34m.\u001b[0m\u001b[0mset_trace\u001b[0m\u001b[0;34m(\u001b[0m\u001b[0;34m)\u001b[0m\u001b[0;34m\u001b[0m\u001b[0m\n\u001b[1;32m    105\u001b[0m \u001b[0;34m\u001b[0m\u001b[0m\n\u001b[0;32m--> 106\u001b[0;31m     \u001b[0;32mfor\u001b[0m \u001b[0moff_start\u001b[0m\u001b[0;34m,\u001b[0m \u001b[0moff_end\u001b[0m \u001b[0;32min\u001b[0m \u001b[0moffset_keys\u001b[0m\u001b[0;34m:\u001b[0m\u001b[0;34m\u001b[0m\u001b[0m\n\u001b[0m\u001b[1;32m    107\u001b[0m         \u001b[0mcut_result\u001b[0m \u001b[0;34m=\u001b[0m \u001b[0mcut\u001b[0m\u001b[0;34m(\u001b[0m\u001b[0mline\u001b[0m\u001b[0;34m,\u001b[0m \u001b[0mfloat\u001b[0m\u001b[0;34m(\u001b[0m\u001b[0moff_end\u001b[0m\u001b[0;34m)\u001b[0m\u001b[0;34m)\u001b[0m\u001b[0;34m\u001b[0m\u001b[0m\n\u001b[1;32m    108\u001b[0m         \u001b[0;32mif\u001b[0m \u001b[0mcut_result\u001b[0m \u001b[0;32mis\u001b[0m \u001b[0;32mNone\u001b[0m\u001b[0;34m:\u001b[0m\u001b[0;34m\u001b[0m\u001b[0m\n",
      "\u001b[0;32m<ipython-input-27-22ee7cb1520b>\u001b[0m in \u001b[0;36mchop_line_segment_using_offsets\u001b[0;34m(line, offsets)\u001b[0m\n\u001b[1;32m    104\u001b[0m     \u001b[0;32mimport\u001b[0m \u001b[0mpdb\u001b[0m\u001b[0;34m;\u001b[0m \u001b[0mpdb\u001b[0m\u001b[0;34m.\u001b[0m\u001b[0mset_trace\u001b[0m\u001b[0;34m(\u001b[0m\u001b[0;34m)\u001b[0m\u001b[0;34m\u001b[0m\u001b[0m\n\u001b[1;32m    105\u001b[0m \u001b[0;34m\u001b[0m\u001b[0m\n\u001b[0;32m--> 106\u001b[0;31m     \u001b[0;32mfor\u001b[0m \u001b[0moff_start\u001b[0m\u001b[0;34m,\u001b[0m \u001b[0moff_end\u001b[0m \u001b[0;32min\u001b[0m \u001b[0moffset_keys\u001b[0m\u001b[0;34m:\u001b[0m\u001b[0;34m\u001b[0m\u001b[0m\n\u001b[0m\u001b[1;32m    107\u001b[0m         \u001b[0mcut_result\u001b[0m \u001b[0;34m=\u001b[0m \u001b[0mcut\u001b[0m\u001b[0;34m(\u001b[0m\u001b[0mline\u001b[0m\u001b[0;34m,\u001b[0m \u001b[0mfloat\u001b[0m\u001b[0;34m(\u001b[0m\u001b[0moff_end\u001b[0m\u001b[0;34m)\u001b[0m\u001b[0;34m)\u001b[0m\u001b[0;34m\u001b[0m\u001b[0m\n\u001b[1;32m    108\u001b[0m         \u001b[0;32mif\u001b[0m \u001b[0mcut_result\u001b[0m \u001b[0;32mis\u001b[0m \u001b[0;32mNone\u001b[0m\u001b[0;34m:\u001b[0m\u001b[0;34m\u001b[0m\u001b[0m\n",
      "\u001b[0;32m~/miniconda3/envs/trash-talk/lib/python3.6/bdb.py\u001b[0m in \u001b[0;36mtrace_dispatch\u001b[0;34m(self, frame, event, arg)\u001b[0m\n\u001b[1;32m     49\u001b[0m             \u001b[0;32mreturn\u001b[0m \u001b[0;31m# None\u001b[0m\u001b[0;34m\u001b[0m\u001b[0m\n\u001b[1;32m     50\u001b[0m         \u001b[0;32mif\u001b[0m \u001b[0mevent\u001b[0m \u001b[0;34m==\u001b[0m \u001b[0;34m'line'\u001b[0m\u001b[0;34m:\u001b[0m\u001b[0;34m\u001b[0m\u001b[0m\n\u001b[0;32m---> 51\u001b[0;31m             \u001b[0;32mreturn\u001b[0m \u001b[0mself\u001b[0m\u001b[0;34m.\u001b[0m\u001b[0mdispatch_line\u001b[0m\u001b[0;34m(\u001b[0m\u001b[0mframe\u001b[0m\u001b[0;34m)\u001b[0m\u001b[0;34m\u001b[0m\u001b[0m\n\u001b[0m\u001b[1;32m     52\u001b[0m         \u001b[0;32mif\u001b[0m \u001b[0mevent\u001b[0m \u001b[0;34m==\u001b[0m \u001b[0;34m'call'\u001b[0m\u001b[0;34m:\u001b[0m\u001b[0;34m\u001b[0m\u001b[0m\n\u001b[1;32m     53\u001b[0m             \u001b[0;32mreturn\u001b[0m \u001b[0mself\u001b[0m\u001b[0;34m.\u001b[0m\u001b[0mdispatch_call\u001b[0m\u001b[0;34m(\u001b[0m\u001b[0mframe\u001b[0m\u001b[0;34m,\u001b[0m \u001b[0marg\u001b[0m\u001b[0;34m)\u001b[0m\u001b[0;34m\u001b[0m\u001b[0m\n",
      "\u001b[0;32m~/miniconda3/envs/trash-talk/lib/python3.6/bdb.py\u001b[0m in \u001b[0;36mdispatch_line\u001b[0;34m(self, frame)\u001b[0m\n\u001b[1;32m     68\u001b[0m         \u001b[0;32mif\u001b[0m \u001b[0mself\u001b[0m\u001b[0;34m.\u001b[0m\u001b[0mstop_here\u001b[0m\u001b[0;34m(\u001b[0m\u001b[0mframe\u001b[0m\u001b[0;34m)\u001b[0m \u001b[0;32mor\u001b[0m \u001b[0mself\u001b[0m\u001b[0;34m.\u001b[0m\u001b[0mbreak_here\u001b[0m\u001b[0;34m(\u001b[0m\u001b[0mframe\u001b[0m\u001b[0;34m)\u001b[0m\u001b[0;34m:\u001b[0m\u001b[0;34m\u001b[0m\u001b[0m\n\u001b[1;32m     69\u001b[0m             \u001b[0mself\u001b[0m\u001b[0;34m.\u001b[0m\u001b[0muser_line\u001b[0m\u001b[0;34m(\u001b[0m\u001b[0mframe\u001b[0m\u001b[0;34m)\u001b[0m\u001b[0;34m\u001b[0m\u001b[0m\n\u001b[0;32m---> 70\u001b[0;31m             \u001b[0;32mif\u001b[0m \u001b[0mself\u001b[0m\u001b[0;34m.\u001b[0m\u001b[0mquitting\u001b[0m\u001b[0;34m:\u001b[0m \u001b[0;32mraise\u001b[0m \u001b[0mBdbQuit\u001b[0m\u001b[0;34m\u001b[0m\u001b[0m\n\u001b[0m\u001b[1;32m     71\u001b[0m         \u001b[0;32mreturn\u001b[0m \u001b[0mself\u001b[0m\u001b[0;34m.\u001b[0m\u001b[0mtrace_dispatch\u001b[0m\u001b[0;34m\u001b[0m\u001b[0m\n\u001b[1;32m     72\u001b[0m \u001b[0;34m\u001b[0m\u001b[0m\n",
      "\u001b[0;31mBdbQuit\u001b[0m: "
     ]
    }
   ],
   "source": [
    "calculate_frontages(blocks.iloc[121:122], street_segments, blockfaces, buildings)"
   ]
  },
  {
   "cell_type": "code",
   "execution_count": 7,
   "metadata": {
    "scrolled": true
   },
   "outputs": [
    {
     "name": "stdout",
     "output_type": "stream",
     "text": [
      "> \u001b[0;32m/Users/alex/miniconda3/envs/trash-talk/lib/python3.6/site-packages/pandas/core/series.py\u001b[0m(4001)\u001b[0;36m_sanitize_index\u001b[0;34m()\u001b[0m\n",
      "\u001b[0;32m   3999 \u001b[0;31m\u001b[0;34m\u001b[0m\u001b[0m\n",
      "\u001b[0m\u001b[0;32m   4000 \u001b[0;31m    \u001b[0;32mif\u001b[0m \u001b[0mlen\u001b[0m\u001b[0;34m(\u001b[0m\u001b[0mdata\u001b[0m\u001b[0;34m)\u001b[0m \u001b[0;34m!=\u001b[0m \u001b[0mlen\u001b[0m\u001b[0;34m(\u001b[0m\u001b[0mindex\u001b[0m\u001b[0;34m)\u001b[0m\u001b[0;34m:\u001b[0m\u001b[0;34m\u001b[0m\u001b[0m\n",
      "\u001b[0m\u001b[0;32m-> 4001 \u001b[0;31m        \u001b[0;32mraise\u001b[0m \u001b[0mValueError\u001b[0m\u001b[0;34m(\u001b[0m\u001b[0;34m'Length of values does not match length of '\u001b[0m \u001b[0;34m'index'\u001b[0m\u001b[0;34m)\u001b[0m\u001b[0;34m\u001b[0m\u001b[0m\n",
      "\u001b[0m\u001b[0;32m   4002 \u001b[0;31m\u001b[0;34m\u001b[0m\u001b[0m\n",
      "\u001b[0m\u001b[0;32m   4003 \u001b[0;31m    \u001b[0;32mif\u001b[0m \u001b[0misinstance\u001b[0m\u001b[0;34m(\u001b[0m\u001b[0mdata\u001b[0m\u001b[0;34m,\u001b[0m \u001b[0mABCIndexClass\u001b[0m\u001b[0;34m)\u001b[0m \u001b[0;32mand\u001b[0m \u001b[0;32mnot\u001b[0m \u001b[0mcopy\u001b[0m\u001b[0;34m:\u001b[0m\u001b[0;34m\u001b[0m\u001b[0m\n",
      "\u001b[0m\n",
      "ipdb> up\n",
      "> \u001b[0;32m/Users/alex/miniconda3/envs/trash-talk/lib/python3.6/site-packages/pandas/core/frame.py\u001b[0m(3391)\u001b[0;36m_sanitize_column\u001b[0;34m()\u001b[0m\n",
      "\u001b[0;32m   3389 \u001b[0;31m\u001b[0;34m\u001b[0m\u001b[0m\n",
      "\u001b[0m\u001b[0;32m   3390 \u001b[0;31m            \u001b[0;31m# turn me into an ndarray\u001b[0m\u001b[0;34m\u001b[0m\u001b[0;34m\u001b[0m\u001b[0m\n",
      "\u001b[0m\u001b[0;32m-> 3391 \u001b[0;31m            \u001b[0mvalue\u001b[0m \u001b[0;34m=\u001b[0m \u001b[0m_sanitize_index\u001b[0m\u001b[0;34m(\u001b[0m\u001b[0mvalue\u001b[0m\u001b[0;34m,\u001b[0m \u001b[0mself\u001b[0m\u001b[0;34m.\u001b[0m\u001b[0mindex\u001b[0m\u001b[0;34m,\u001b[0m \u001b[0mcopy\u001b[0m\u001b[0;34m=\u001b[0m\u001b[0;32mFalse\u001b[0m\u001b[0;34m)\u001b[0m\u001b[0;34m\u001b[0m\u001b[0m\n",
      "\u001b[0m\u001b[0;32m   3392 \u001b[0;31m            \u001b[0;32mif\u001b[0m \u001b[0;32mnot\u001b[0m \u001b[0misinstance\u001b[0m\u001b[0;34m(\u001b[0m\u001b[0mvalue\u001b[0m\u001b[0;34m,\u001b[0m \u001b[0;34m(\u001b[0m\u001b[0mnp\u001b[0m\u001b[0;34m.\u001b[0m\u001b[0mndarray\u001b[0m\u001b[0;34m,\u001b[0m \u001b[0mIndex\u001b[0m\u001b[0;34m)\u001b[0m\u001b[0;34m)\u001b[0m\u001b[0;34m:\u001b[0m\u001b[0;34m\u001b[0m\u001b[0m\n",
      "\u001b[0m\u001b[0;32m   3393 \u001b[0;31m                \u001b[0;32mif\u001b[0m \u001b[0misinstance\u001b[0m\u001b[0;34m(\u001b[0m\u001b[0mvalue\u001b[0m\u001b[0;34m,\u001b[0m \u001b[0mlist\u001b[0m\u001b[0;34m)\u001b[0m \u001b[0;32mand\u001b[0m \u001b[0mlen\u001b[0m\u001b[0;34m(\u001b[0m\u001b[0mvalue\u001b[0m\u001b[0;34m)\u001b[0m \u001b[0;34m>\u001b[0m \u001b[0;36m0\u001b[0m\u001b[0;34m:\u001b[0m\u001b[0;34m\u001b[0m\u001b[0m\n",
      "\u001b[0m\n",
      "ipdb> up\n",
      "> \u001b[0;32m/Users/alex/miniconda3/envs/trash-talk/lib/python3.6/site-packages/pandas/core/frame.py\u001b[0m(3194)\u001b[0;36m_set_item\u001b[0;34m()\u001b[0m\n",
      "\u001b[0;32m   3192 \u001b[0;31m\u001b[0;34m\u001b[0m\u001b[0m\n",
      "\u001b[0m\u001b[0;32m   3193 \u001b[0;31m        \u001b[0mself\u001b[0m\u001b[0;34m.\u001b[0m\u001b[0m_ensure_valid_index\u001b[0m\u001b[0;34m(\u001b[0m\u001b[0mvalue\u001b[0m\u001b[0;34m)\u001b[0m\u001b[0;34m\u001b[0m\u001b[0m\n",
      "\u001b[0m\u001b[0;32m-> 3194 \u001b[0;31m        \u001b[0mvalue\u001b[0m \u001b[0;34m=\u001b[0m \u001b[0mself\u001b[0m\u001b[0;34m.\u001b[0m\u001b[0m_sanitize_column\u001b[0m\u001b[0;34m(\u001b[0m\u001b[0mkey\u001b[0m\u001b[0;34m,\u001b[0m \u001b[0mvalue\u001b[0m\u001b[0;34m)\u001b[0m\u001b[0;34m\u001b[0m\u001b[0m\n",
      "\u001b[0m\u001b[0;32m   3195 \u001b[0;31m        \u001b[0mNDFrame\u001b[0m\u001b[0;34m.\u001b[0m\u001b[0m_set_item\u001b[0m\u001b[0;34m(\u001b[0m\u001b[0mself\u001b[0m\u001b[0;34m,\u001b[0m \u001b[0mkey\u001b[0m\u001b[0;34m,\u001b[0m \u001b[0mvalue\u001b[0m\u001b[0;34m)\u001b[0m\u001b[0;34m\u001b[0m\u001b[0m\n",
      "\u001b[0m\u001b[0;32m   3196 \u001b[0;31m\u001b[0;34m\u001b[0m\u001b[0m\n",
      "\u001b[0m\n",
      "ipdb> up\n",
      "> \u001b[0;32m/Users/alex/miniconda3/envs/trash-talk/lib/python3.6/site-packages/pandas/core/frame.py\u001b[0m(3119)\u001b[0;36m__setitem__\u001b[0;34m()\u001b[0m\n",
      "\u001b[0;32m   3117 \u001b[0;31m        \u001b[0;32melse\u001b[0m\u001b[0;34m:\u001b[0m\u001b[0;34m\u001b[0m\u001b[0m\n",
      "\u001b[0m\u001b[0;32m   3118 \u001b[0;31m            \u001b[0;31m# set column\u001b[0m\u001b[0;34m\u001b[0m\u001b[0;34m\u001b[0m\u001b[0m\n",
      "\u001b[0m\u001b[0;32m-> 3119 \u001b[0;31m            \u001b[0mself\u001b[0m\u001b[0;34m.\u001b[0m\u001b[0m_set_item\u001b[0m\u001b[0;34m(\u001b[0m\u001b[0mkey\u001b[0m\u001b[0;34m,\u001b[0m \u001b[0mvalue\u001b[0m\u001b[0;34m)\u001b[0m\u001b[0;34m\u001b[0m\u001b[0m\n",
      "\u001b[0m\u001b[0;32m   3120 \u001b[0;31m\u001b[0;34m\u001b[0m\u001b[0m\n",
      "\u001b[0m\u001b[0;32m   3121 \u001b[0;31m    \u001b[0;32mdef\u001b[0m \u001b[0m_setitem_slice\u001b[0m\u001b[0;34m(\u001b[0m\u001b[0mself\u001b[0m\u001b[0;34m,\u001b[0m \u001b[0mkey\u001b[0m\u001b[0;34m,\u001b[0m \u001b[0mvalue\u001b[0m\u001b[0;34m)\u001b[0m\u001b[0;34m:\u001b[0m\u001b[0;34m\u001b[0m\u001b[0m\n",
      "\u001b[0m\n",
      "ipdb> up\n",
      "> \u001b[0;32m<ipython-input-2-8e0887aed4d9>\u001b[0m(152)\u001b[0;36mfrontages_for_blockface\u001b[0;34m()\u001b[0m\n",
      "\u001b[0;32m    150 \u001b[0;31m\u001b[0;34m\u001b[0m\u001b[0m\n",
      "\u001b[0m\u001b[0;32m    151 \u001b[0;31m    \u001b[0mgeoms\u001b[0m \u001b[0;34m=\u001b[0m \u001b[0mchop_line_segment_using_offsets\u001b[0m\u001b[0;34m(\u001b[0m\u001b[0mblockface\u001b[0m\u001b[0;34m.\u001b[0m\u001b[0mgeometry\u001b[0m\u001b[0;34m,\u001b[0m \u001b[0mstrides\u001b[0m\u001b[0;34m)\u001b[0m\u001b[0;34m\u001b[0m\u001b[0m\n",
      "\u001b[0m\u001b[0;32m--> 152 \u001b[0;31m    \u001b[0mout\u001b[0m\u001b[0;34m[\u001b[0m\u001b[0;34m'geometry'\u001b[0m\u001b[0;34m]\u001b[0m \u001b[0;34m=\u001b[0m \u001b[0mgeoms\u001b[0m\u001b[0;34m\u001b[0m\u001b[0m\n",
      "\u001b[0m\u001b[0;32m    153 \u001b[0;31m\u001b[0;34m\u001b[0m\u001b[0m\n",
      "\u001b[0m\u001b[0;32m    154 \u001b[0;31m    \u001b[0;32mreturn\u001b[0m \u001b[0mout\u001b[0m\u001b[0;34m\u001b[0m\u001b[0m\n",
      "\u001b[0m\n",
      "ipdb> geoms\n",
      "[<shapely.geometry.linestring.LineString object at 0x12a7f20b8>, <shapely.geometry.linestring.LineString object at 0x12aa57198>, <shapely.geometry.linestring.LineString object at 0x12aed60b8>, <shapely.geometry.linestring.LineString object at 0x12aed6c88>, <shapely.geometry.linestring.LineString object at 0x12aebfc50>, <shapely.geometry.linestring.LineString object at 0x12aebfe80>, <shapely.geometry.linestring.LineString object at 0x12aeaff28>, <shapely.geometry.linestring.LineString object at 0x12aeb39b0>, <shapely.geometry.linestring.LineString object at 0x12aeaf4e0>, <shapely.geometry.linestring.LineString object at 0x12a816be0>, <shapely.geometry.linestring.LineString object at 0x12aebaa90>, <shapely.geometry.linestring.LineString object at 0x12aebad30>, <shapely.geometry.linestring.LineString object at 0x12aa940f0>, <shapely.geometry.linestring.LineString object at 0x12aa59278>, <shapely.geometry.linestring.LineString object at 0x12aeb51d0>, <shapely.geometry.linestring.LineString object at 0x12aeb5320>, <shapely.geometry.linestring.LineString object at 0x12aeb5dd8>, <shapely.geometry.linestring.LineString object at 0x12a980668>, <shapely.geometry.linestring.LineString object at 0x12aeb1ef0>, <shapely.geometry.linestring.LineString object at 0x12aa75630>, <shapely.geometry.linestring.LineString object at 0x12aeb14e0>, <shapely.geometry.linestring.LineString object at 0x12aec0828>, <shapely.geometry.linestring.LineString object at 0x12aeb1a58>, <shapely.geometry.linestring.LineString object at 0x12aec04a8>, <shapely.geometry.linestring.LineString object at 0x12aeacda0>, <shapely.geometry.linestring.LineString object at 0x12aec0668>, <shapely.geometry.linestring.LineString object at 0x12aeac5f8>, <shapely.geometry.linestring.LineString object at 0x12aebaef0>, <shapely.geometry.linestring.LineString object at 0x12aec2358>, <shapely.geometry.linestring.LineString object at 0x12aeac208>, <shapely.geometry.linestring.LineString object at 0x12aec2668>, <shapely.geometry.linestring.LineString object at 0x12aec7518>, <shapely.geometry.linestring.LineString object at 0x12aec72e8>, <shapely.geometry.linestring.LineString object at 0x12aec2a58>, <shapely.geometry.linestring.LineString object at 0x12aec7668>, <shapely.geometry.linestring.LineString object at 0x12aec5a20>, <shapely.geometry.linestring.LineString object at 0x12aec2b70>, <shapely.geometry.linestring.LineString object at 0x12aec5be0>, <shapely.geometry.linestring.LineString object at 0x12a98e6d8>, <shapely.geometry.linestring.LineString object at 0x12aec9748>]\n",
      "ipdb> out\n",
      "             geoid10     sf16_BldgID          geoid10_n geom_offset_start  \\\n",
      "82   060750230013000  201006.0136383  060750230013000_4               0.0   \n",
      "40   060750230013000  201006.0097875  060750230013000_4              0.05   \n",
      "9    060750230013000  201006.0058290  060750230013000_4              0.08   \n",
      "42   060750230013000  201006.0103693  060750230013000_4              0.11   \n",
      "37   060750230013000  201006.0092343  060750230013000_4              0.13   \n",
      "114  060750230013000  201006.0176386  060750230013000_4              0.14   \n",
      "26   060750230013000  201006.0083080  060750230013000_4              0.15   \n",
      "11   060750230013000  201006.0061756  060750230013000_4              0.17   \n",
      "10   060750230013000  201006.0060151  060750230013000_4              0.18   \n",
      "94   060750230013000  201006.0167061  060750230013000_4              0.21   \n",
      "47   060750230013000  201006.0106347  060750230013000_4              0.24   \n",
      "100  060750230013000  201006.0170294  060750230013000_4              0.26   \n",
      "20   060750230013000  201006.0075270  060750230013000_4              0.29   \n",
      "4    060750230013000  201006.0044419  060750230013000_4               0.3   \n",
      "8    060750230013000  201006.0050760  060750230013000_4              0.32   \n",
      "87   060750230013000  201006.0139229  060750230013000_4            0.3500   \n",
      "80   060750230013000  201006.0132978  060750230013000_4              0.36   \n",
      "7    060750230013000  201006.0047876  060750230013000_4              0.38   \n",
      "85   060750230013000  201006.0138447  060750230013000_4               0.4   \n",
      "12   060750230013000  201006.0063076  060750230013000_4              0.42   \n",
      "52   060750230013000  201006.0111607  060750230013000_4              0.45   \n",
      "22   060750230013000  201006.0079941  060750230013000_4            0.4700   \n",
      "6    060750230013000  201006.0046061  060750230013000_4               0.5   \n",
      "5    060750230013000  201006.0044749  060750230013000_4              0.52   \n",
      "39   060750230013000  201006.0096151  060750230013000_4              0.54   \n",
      "36   060750230013000  201006.0091028  060750230013000_4              0.56   \n",
      "34   060750230013000  201006.0089781  060750230013000_4              0.58   \n",
      "25   060750230013000  201006.0080966  060750230013000_4              0.62   \n",
      "53   060750230013000  201006.0111608  060750230013000_4              0.63   \n",
      "62   060750230013000  201006.0120500  060750230013000_4              0.65   \n",
      "75   060750230013000  201006.0126039  060750230013000_4              0.67   \n",
      "76   060750230013000  201006.0126243  060750230013000_4            0.6900   \n",
      "67   060750230013000  201006.0122012  060750230013000_4              0.71   \n",
      "78   060750230013000  201006.0128902  060750230013000_4              0.74   \n",
      "77   060750230013000  201006.0128897  060750230013000_4              0.76   \n",
      "45   060750230013000  201006.0105384  060750230013000_4              0.78   \n",
      "48   060750230013000  201006.0106630  060750230013000_4               0.8   \n",
      "44   060750230013000  201006.0104443  060750230013000_4            0.8200   \n",
      "18   060750230013000  201006.0074734  060750230013000_4              0.84   \n",
      "14   060750230013000  201006.0065142  060750230013000_4              0.86   \n",
      "1    060750230013000  201006.0027838  060750230013000_4              0.89   \n",
      "\n",
      "    geom_offset_end  \n",
      "82             0.05  \n",
      "40             0.08  \n",
      "9              0.11  \n",
      "42             0.13  \n",
      "37             0.14  \n",
      "114            0.15  \n",
      "26             0.17  \n",
      "11             0.18  \n",
      "10             0.21  \n",
      "94             0.24  \n",
      "47             0.26  \n",
      "100            0.29  \n",
      "20              0.3  \n",
      "4              0.32  \n",
      "8            0.3500  \n",
      "87             0.36  \n",
      "80             0.38  \n",
      "7               0.4  \n",
      "85             0.42  \n",
      "12             0.45  \n",
      "52           0.4700  \n",
      "22              0.5  \n",
      "6              0.52  \n",
      "5              0.54  \n",
      "39             0.56  \n",
      "36             0.58  \n",
      "34             0.62  \n",
      "25             0.63  \n",
      "53             0.65  \n",
      "62             0.67  \n",
      "75           0.6900  \n",
      "76             0.71  \n",
      "67             0.74  \n",
      "78             0.76  \n",
      "77             0.78  \n",
      "45              0.8  \n",
      "48           0.8200  \n",
      "44             0.84  \n",
      "18             0.86  \n",
      "14             0.89  \n",
      "1              1.00  \n"
     ]
    },
    {
     "name": "stdout",
     "output_type": "stream",
     "text": [
      "ipdb> len(out)\n",
      "41\n",
      "ipdb> len(geoms)\n",
      "40\n",
      "ipdb> geoms\n",
      "[<shapely.geometry.linestring.LineString object at 0x12a7f20b8>, <shapely.geometry.linestring.LineString object at 0x12aa57198>, <shapely.geometry.linestring.LineString object at 0x12aed60b8>, <shapely.geometry.linestring.LineString object at 0x12aed6c88>, <shapely.geometry.linestring.LineString object at 0x12aebfc50>, <shapely.geometry.linestring.LineString object at 0x12aebfe80>, <shapely.geometry.linestring.LineString object at 0x12aeaff28>, <shapely.geometry.linestring.LineString object at 0x12aeb39b0>, <shapely.geometry.linestring.LineString object at 0x12aeaf4e0>, <shapely.geometry.linestring.LineString object at 0x12a816be0>, <shapely.geometry.linestring.LineString object at 0x12aebaa90>, <shapely.geometry.linestring.LineString object at 0x12aebad30>, <shapely.geometry.linestring.LineString object at 0x12aa940f0>, <shapely.geometry.linestring.LineString object at 0x12aa59278>, <shapely.geometry.linestring.LineString object at 0x12aeb51d0>, <shapely.geometry.linestring.LineString object at 0x12aeb5320>, <shapely.geometry.linestring.LineString object at 0x12aeb5dd8>, <shapely.geometry.linestring.LineString object at 0x12a980668>, <shapely.geometry.linestring.LineString object at 0x12aeb1ef0>, <shapely.geometry.linestring.LineString object at 0x12aa75630>, <shapely.geometry.linestring.LineString object at 0x12aeb14e0>, <shapely.geometry.linestring.LineString object at 0x12aec0828>, <shapely.geometry.linestring.LineString object at 0x12aeb1a58>, <shapely.geometry.linestring.LineString object at 0x12aec04a8>, <shapely.geometry.linestring.LineString object at 0x12aeacda0>, <shapely.geometry.linestring.LineString object at 0x12aec0668>, <shapely.geometry.linestring.LineString object at 0x12aeac5f8>, <shapely.geometry.linestring.LineString object at 0x12aebaef0>, <shapely.geometry.linestring.LineString object at 0x12aec2358>, <shapely.geometry.linestring.LineString object at 0x12aeac208>, <shapely.geometry.linestring.LineString object at 0x12aec2668>, <shapely.geometry.linestring.LineString object at 0x12aec7518>, <shapely.geometry.linestring.LineString object at 0x12aec72e8>, <shapely.geometry.linestring.LineString object at 0x12aec2a58>, <shapely.geometry.linestring.LineString object at 0x12aec7668>, <shapely.geometry.linestring.LineString object at 0x12aec5a20>, <shapely.geometry.linestring.LineString object at 0x12aec2b70>, <shapely.geometry.linestring.LineString object at 0x12aec5be0>, <shapely.geometry.linestring.LineString object at 0x12a98e6d8>, <shapely.geometry.linestring.LineString object at 0x12aec9748>]\n",
      "ipdb> gpd.GeoSeries(geoms)\n",
      "0     LINESTRING (-122.402114 37.73443, -122.4019794...\n",
      "1     LINESTRING (-122.4019794626151 37.734293637495...\n",
      "2     LINESTRING (-122.4017749657901 37.734086366488...\n",
      "3     LINESTRING (-122.4015162773065 37.733824168665...\n",
      "4     LINESTRING (-122.401244184056 37.7335483842273...\n",
      "5     LINESTRING (-122.4009892536105 37.733289995423...\n",
      "6     LINESTRING (-122.4007543534144 37.733051908596...\n",
      "7     LINESTRING (-122.4005280180893 37.732822599171...\n",
      "8     LINESTRING (-122.4003288992318 37.732621284149...\n",
      "9     LINESTRING (-122.400138408858 37.7324286927792...\n",
      "10    LINESTRING (-122.3999665341752 37.732254700798...\n",
      "11    LINESTRING (-122.3998252152897 37.732111258591...\n",
      "12    LINESTRING (-122.3997085728557 37.731992863599...\n",
      "13    LINESTRING (-122.399622900999 37.7319059045198...\n",
      "14    LINESTRING (-122.3995589326793 37.731840975073...\n",
      "15    LINESTRING (-122.3995113562415 37.731792683797...\n",
      "16    LINESTRING (-122.3994795479946 37.731760397630...\n",
      "17    LINESTRING (-122.3994580597566 37.731738586530...\n",
      "18    LINESTRING (-122.399444035854 37.7317243519185...\n",
      "19    LINESTRING (-122.3994352007953 37.731715384112...\n",
      "20    LINESTRING (-122.3994297104374 37.731709811262...\n",
      "21    LINESTRING (-122.3994265565318 37.731706609968...\n",
      "22    LINESTRING (-122.3994247782659 37.731704804984...\n",
      "23    LINESTRING (-122.3994238535676 37.731703866392...\n",
      "24    LINESTRING (-122.3994233926411 37.731703398540...\n",
      "25    LINESTRING (-122.3994231727621 37.731703175357...\n",
      "26    LINESTRING (-122.3994230725601 37.731703073650...\n",
      "27    LINESTRING (-122.3994230275728 37.731703027987...\n",
      "28    LINESTRING (-122.3994230102019 37.731703010355...\n",
      "29    LINESTRING (-122.3994230035707 37.731703003624...\n",
      "30    LINESTRING (-122.3994230011783 37.731703001196...\n",
      "31    LINESTRING (-122.3994230003653 37.731703000370...\n",
      "32    LINESTRING (-122.3994230001059 37.731703000107...\n",
      "33    LINESTRING (-122.3994230000275 37.731703000027...\n",
      "34    LINESTRING (-122.3994230000066 37.731703000006...\n",
      "35    LINESTRING (-122.3994230000014 37.731703000001...\n",
      "36    LINESTRING (-122.3994230000003 37.731703000000...\n",
      "37    LINESTRING (-122.3994230000001 37.731703000000...\n",
      "38    LINESTRING (-122.399423 37.73170300000001, -12...\n",
      "39    LINESTRING (-122.399423 37.731703, -122.399423...\n",
      "dtype: object\n",
      "ipdb> gpd.GeoSeries(geoms).to_file(\"temp.geojson\")\n",
      "ipdb> exit\n"
     ]
    }
   ],
   "source": [
    "%debug"
   ]
  },
  {
   "cell_type": "code",
   "execution_count": 16,
   "metadata": {},
   "outputs": [],
   "source": [
    "d = gpd.read_file(\"temp.geojson\").set_index('id')"
   ]
  },
  {
   "cell_type": "code",
   "execution_count": 19,
   "metadata": {},
   "outputs": [
    {
     "data": {
      "text/plain": [
       "id\n",
       "0     1.915595e-04\n",
       "1     2.911704e-04\n",
       "2     3.683306e-04\n",
       "3     3.874168e-04\n",
       "4     3.629798e-04\n",
       "5     3.344599e-04\n",
       "6     3.221964e-04\n",
       "7     2.831538e-04\n",
       "8     2.708838e-04\n",
       "9     2.445693e-04\n",
       "10    2.013621e-04\n",
       "11    1.662012e-04\n",
       "12    1.220719e-04\n",
       "13    9.114702e-05\n",
       "14    6.779059e-05\n",
       "15    4.532285e-05\n",
       "16    3.061811e-05\n",
       "17    1.998234e-05\n",
       "18    1.258888e-05\n",
       "19    7.823087e-06\n",
       "20    4.493929e-06\n",
       "21    2.533811e-06\n",
       "22    1.317582e-06\n",
       "23    6.567638e-07\n",
       "24    3.133007e-07\n",
       "25    1.427756e-07\n",
       "26    6.410132e-08\n",
       "27    2.475138e-08\n",
       "28    9.448742e-09\n",
       "29    3.408813e-09\n",
       "30    1.158489e-09\n",
       "31    3.695422e-10\n",
       "32    1.116932e-10\n",
       "33    2.982504e-11\n",
       "34    7.345692e-12\n",
       "35    1.658048e-12\n",
       "36    3.317557e-13\n",
       "37    6.550880e-14\n",
       "38    1.588822e-14\n",
       "39    0.000000e+00\n",
       "Name: geometry, dtype: float64"
      ]
     },
     "execution_count": 19,
     "metadata": {},
     "output_type": "execute_result"
    }
   ],
   "source": [
    "d.geometry.map(lambda shp: shp.length)"
   ]
  },
  {
   "cell_type": "code",
   "execution_count": 23,
   "metadata": {},
   "outputs": [],
   "source": [
    "from shapely.geometry import LineString\n",
    "s, e = cut(LineString(((0, 0), (0, 5))), 0.5)"
   ]
  },
  {
   "cell_type": "code",
   "execution_count": 25,
   "metadata": {},
   "outputs": [
    {
     "data": {
      "text/plain": [
       "{'type': 'LineString', 'coordinates': ((0.0, 0.0), (0.0, 2.5))}"
      ]
     },
     "execution_count": 25,
     "metadata": {},
     "output_type": "execute_result"
    }
   ],
   "source": [
    "mapping(s)"
   ]
  },
  {
   "cell_type": "code",
   "execution_count": 26,
   "metadata": {},
   "outputs": [
    {
     "data": {
      "text/plain": [
       "{'type': 'LineString', 'coordinates': ((0.0, 2.5), (0.0, 5.0))}"
      ]
     },
     "execution_count": 26,
     "metadata": {},
     "output_type": "execute_result"
    }
   ],
   "source": [
    "mapping(e)"
   ]
  },
  {
   "cell_type": "code",
   "execution_count": 49,
   "metadata": {},
   "outputs": [
    {
     "data": {
      "image/svg+xml": [
       "<svg xmlns=\"http://www.w3.org/2000/svg\" xmlns:xlink=\"http://www.w3.org/1999/xlink\" width=\"100.0\" height=\"100.0\" viewBox=\"-0.04 -0.04 1.08 1.08\" preserveAspectRatio=\"xMinYMin meet\"><g transform=\"matrix(1,0,0,-1,0,1.0)\"><polyline fill=\"none\" stroke=\"#66cc99\" stroke-width=\"0.0216\" points=\"0.0,0.0 1.0,1.0\" opacity=\"0.8\" /></g></svg>"
      ],
      "text/plain": [
       "<shapely.geometry.linestring.LineString at 0x12b0fc860>"
      ]
     },
     "execution_count": 49,
     "metadata": {},
     "output_type": "execute_result"
    }
   ],
   "source": [
    "l"
   ]
  },
  {
   "cell_type": "code",
   "execution_count": 47,
   "metadata": {},
   "outputs": [
    {
     "data": {
      "text/plain": [
       "{'type': 'LineString', 'coordinates': ((0.0, 0.0), (1.0, 1.0))}"
      ]
     },
     "execution_count": 47,
     "metadata": {},
     "output_type": "execute_result"
    }
   ],
   "source": [
    "l = LineString(((0, 0), (1, 1)))\n",
    "mapping(reverse(l))"
   ]
  },
  {
   "cell_type": "markdown",
   "metadata": {},
   "source": [
    "TODO: check frontages for consistency."
   ]
  }
 ],
 "metadata": {
  "kernelspec": {
   "display_name": "Python 3",
   "language": "python",
   "name": "python3"
  },
  "language_info": {
   "codemirror_mode": {
    "name": "ipython",
    "version": 3
   },
   "file_extension": ".py",
   "mimetype": "text/x-python",
   "name": "python",
   "nbconvert_exporter": "python",
   "pygments_lexer": "ipython3",
   "version": "3.6.6"
  }
 },
 "nbformat": 4,
 "nbformat_minor": 2
}
