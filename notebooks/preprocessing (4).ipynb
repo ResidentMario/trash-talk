{
 "cells": [
  {
   "cell_type": "code",
   "execution_count": 1,
   "metadata": {},
   "outputs": [],
   "source": [
    "import geopandas as gpd\n",
    "import pandas as pd\n",
    "from shapely.geometry import Polygon, MultiPolygon, LineString, mapping, Point\n",
    "import numpy as np\n",
    "import itertools\n",
    "import rtree\n",
    "from tqdm import tqdm\n",
    "pd.set_option('max_columns', None)\n",
    "%matplotlib inline\n",
    "\n",
    "\n",
    "street_segments = gpd.read_file(\"../data/processed/street_segments.geojson\")\n",
    "blocks = gpd.read_file(\"../data/processed/blocks.geojson\")\n",
    "buildings = gpd.read_file(\"../data/processed/buildings.geojson\")\n",
    "blockfaces = gpd.read_file(\"../data/processed/blockfaces.geojson\")"
   ]
  },
  {
   "cell_type": "code",
   "execution_count": 2,
   "metadata": {},
   "outputs": [],
   "source": [
    "def filter_on_block_id(block_id, block_id_key=\"geoid10\"):\n",
    "    def select(df):\n",
    "        return (df.set_index(block_id_key)\n",
    "                    .filter(like=block_id, axis='rows')\n",
    "                    .reset_index()\n",
    "               )\n",
    "    \n",
    "    return select\n",
    "\n",
    "\n",
    "def get_block_data(block_id):\n",
    "    ss = street_segments.pipe(filter_on_block_id(block_id))\n",
    "    bf = blockfaces.pipe(filter_on_block_id(block_id))\n",
    "    bldgs = buildings.pipe(filter_on_block_id(block_id))\n",
    "    return ss, bf, bldgs\n",
    "\n",
    "\n",
    "def plot_block(block_id):\n",
    "    street_segments, blockfaces, buildings = get_block_data(block_id)\n",
    "    \n",
    "    ax = street_segments.plot(color='red', linewidth=1)\n",
    "    blockfaces.plot(color='black', ax=ax, linewidth=1)\n",
    "    buildings.plot(ax=ax, color='lightsteelblue', linewidth=1, edgecolor='steelblue')\n",
    "    return ax\n",
    "\n",
    "\n",
    "def simplify_linestring(inp):\n",
    "    inp = inp.convex_hull\n",
    "    coords = np.round(mapping(inp)['coordinates'], decimals=4)\n",
    "    out = LineString(coords)\n",
    "    return out\n",
    "    \n",
    "    \n",
    "def simplify_bldg(bldg):\n",
    "    if isinstance(bldg, MultiPolygon):\n",
    "        bldg = bldg.buffer(0)\n",
    "    \n",
    "    if isinstance(bldg, MultiPolygon):\n",
    "        raise NotImplemented  # TODO\n",
    "    \n",
    "    coords = [xyz[:2] for xyz in mapping(bldg.convex_hull)['coordinates'][0]]\n",
    "    bldg = Polygon(bldg)\n",
    "    \n",
    "    return bldg\n",
    "\n",
    "\n",
    "def pairwise_combinations(keys):\n",
    "    return itertools.combinations({'a': 12, 'b': 15, 'c': 13}.keys(), r=2)\n",
    "\n",
    "\n",
    "def collect_strides(point_observations):\n",
    "    point_obs_keys = list(point_observations.keys())\n",
    "    curr_obs_start_offset = point_obs_keys[0]\n",
    "    curr_obs_start_bldg = point_observations[point_obs_keys[0]]    \n",
    "    strides = dict()\n",
    "    \n",
    "    for point_obs in point_obs_keys[1:]:\n",
    "        bldg_observed = point_observations[point_obs]\n",
    "        if bldg_observed != curr_obs_start_bldg:\n",
    "            strides[(curr_obs_start_offset, point_obs)] = curr_obs_start_bldg\n",
    "            curr_obs_start_offset = point_obs\n",
    "            curr_obs_start_bldg = bldg_observed\n",
    "        else:\n",
    "            continue\n",
    "            \n",
    "    strides[(curr_obs_start_offset, '1.00')] = bldg_observed\n",
    "    \n",
    "    return strides\n",
    "\n",
    "\n",
    "def get_stride_boundaries(strides, step_size=0.02):\n",
    "    boundaries = list()\n",
    "    \n",
    "    keys = list(strides.keys())\n",
    "    for idx, key in enumerate(keys[1:]):\n",
    "        curr = strides[key]\n",
    "        boundaries.append((key[0], str(float(key[0]) + step_size)))\n",
    "\n",
    "    return boundaries\n",
    "\n",
    "\n",
    "def cut(line, distance):\n",
    "    # Cuts a line in two at a distance from its starting point\n",
    "    if distance <= 0.0 or distance >= 1.0:\n",
    "        return [LineString(line)]\n",
    "    coords = list(line.coords)\n",
    "    for i, p in enumerate(coords):\n",
    "        pd = line.project(Point(p), normalized=True)\n",
    "        if pd == distance:\n",
    "            return [\n",
    "                LineString(coords[:i+1]),\n",
    "                LineString(coords[i:])]\n",
    "        if pd > distance:\n",
    "            cp = line.interpolate(distance, normalized=True)\n",
    "            return [\n",
    "                LineString(coords[:i] + [(cp.x, cp.y)]),\n",
    "                LineString([(cp.x, cp.y)] + coords[i:])]\n",
    "\n",
    "\n",
    "def reverse(l):\n",
    "    l_x, l_y = l.coords.xy\n",
    "    l_x, l_y = l_x[::-1], l_y[::-1]\n",
    "    return LineString(zip(l_x, l_y))\n",
    "\n",
    "\n",
    "def frontages_for_blockface(bldgs, blockface, step_size=0.01):\n",
    "    index = rtree.Rtree()\n",
    "    \n",
    "    if len(bldgs) == 0:\n",
    "        return gpd.GeoDataFrame()\n",
    "    \n",
    "    for idx, bldg in bldgs.iterrows():\n",
    "        index.insert(idx, bldg.geometry.bounds)\n",
    "    \n",
    "    bldg_frontage_points = dict()\n",
    "    \n",
    "    search_space = np.arange(0, 1, step_size)\n",
    "    next_search_space = []\n",
    "    while len(search_space) > 0:\n",
    "        for offset in search_space:\n",
    "            search_point = blockface.geometry.interpolate(offset, normalized=True)\n",
    "            nearest_bldg = list(index.nearest(search_point.bounds, 1))[0]\n",
    "            bldg_frontage_points[str(offset)[:6]] = nearest_bldg\n",
    "            \n",
    "        strides = collect_strides(bldg_frontage_points)\n",
    "        search_space = next_search_space\n",
    "        \n",
    "    # convert the list of strides to a proper GeoDataFrame\n",
    "    out = []\n",
    "    for sk in strides.keys():\n",
    "        srs = bldgs.loc[strides[sk], ['geoid10', 'sf16_BldgID']]\n",
    "        srs['geoid10_n'] = blockface['geoid10_n']\n",
    "        srs['geom_offset_start'] = sk[0]\n",
    "        srs['geom_offset_end'] = sk[1]\n",
    "        out.append(srs)\n",
    "    \n",
    "    out = gpd.GeoDataFrame(out)\n",
    "    \n",
    "    geoms = chop_line_segment_using_offsets(blockface.geometry, strides)\n",
    "    out['geometry'] = geoms\n",
    "\n",
    "    return out"
   ]
  },
  {
   "cell_type": "code",
   "execution_count": 3,
   "metadata": {},
   "outputs": [],
   "source": [
    "# model_street_segments, model_blockfaces, model_buildings = get_block_data('060759809001134')"
   ]
  },
  {
   "cell_type": "code",
   "execution_count": 4,
   "metadata": {},
   "outputs": [],
   "source": [
    "# frontages_for_blockface(model_buildings, model_blockfaces.iloc[0]).plot(color=['red', 'green', 'blue'])"
   ]
  },
  {
   "cell_type": "code",
   "execution_count": 3,
   "metadata": {},
   "outputs": [],
   "source": [
    "from tqdm import tqdm"
   ]
  },
  {
   "cell_type": "code",
   "execution_count": 4,
   "metadata": {},
   "outputs": [],
   "source": [
    "def calculate_frontages(blocks, streets, blockfaces, buildings):\n",
    "    frontages = []\n",
    "\n",
    "    for block_idx, block in tqdm(list(blocks.iterrows())):\n",
    "        _, blockfaces, buildings = get_block_data(block.geoid10)\n",
    "        for blockface_idx, blockface in blockfaces.iterrows():\n",
    "            result = frontages_for_blockface(buildings, blockface)\n",
    "            frontages.append(result)\n",
    "    \n",
    "    frontages = gpd.GeoDataFrame(pd.concat(frontages)).groupby('sf16_BldgID').apply(\n",
    "        lambda df: df.assign(sf16_BldgID_n=[f'{df.iloc[0].sf16_BldgID}_{n}' for n in range(len(df))])\n",
    "    ).reset_index(drop=True)\n",
    "    \n",
    "    return frontages"
   ]
  },
  {
   "cell_type": "code",
   "execution_count": 51,
   "metadata": {
    "scrolled": false
   },
   "outputs": [],
   "source": [
    "# frontages = calculate_frontages(blocks.iloc[:1000], street_segments, blockfaces, buildings)"
   ]
  },
  {
   "cell_type": "code",
   "execution_count": 4,
   "metadata": {},
   "outputs": [],
   "source": [
    "%load_ext autoreload\n",
    "%autoreload 2"
   ]
  },
  {
   "cell_type": "code",
   "execution_count": 5,
   "metadata": {},
   "outputs": [],
   "source": [
    "import garbageman"
   ]
  },
  {
   "cell_type": "code",
   "execution_count": 15,
   "metadata": {
    "scrolled": false
   },
   "outputs": [
    {
     "name": "stderr",
     "output_type": "stream",
     "text": [
      "\n",
      "\n",
      "\n",
      "\n",
      "  0%|          | 0/1 [00:00<?, ?it/s]\u001b[A\u001b[A\u001b[A\u001b[A\n",
      "\n",
      "\n",
      "\n",
      "100%|██████████| 1/1 [00:01<00:00,  1.41s/it]\u001b[A\u001b[A\u001b[A\u001b[A\n",
      "\n",
      "\n",
      "\n",
      "\u001b[A\u001b[A\u001b[A\u001b[A"
     ]
    }
   ],
   "source": [
    "out = garbageman.pipeline.calculate_frontages(blocks.iloc[121:122], street_segments, blockfaces, buildings)"
   ]
  },
  {
   "cell_type": "markdown",
   "metadata": {},
   "source": [
    "TODO: check frontages for consistency."
   ]
  }
 ],
 "metadata": {
  "kernelspec": {
   "display_name": "Python 3",
   "language": "python",
   "name": "python3"
  },
  "language_info": {
   "codemirror_mode": {
    "name": "ipython",
    "version": 3
   },
   "file_extension": ".py",
   "mimetype": "text/x-python",
   "name": "python",
   "nbconvert_exporter": "python",
   "pygments_lexer": "ipython3",
   "version": "3.6.6"
  }
 },
 "nbformat": 4,
 "nbformat_minor": 2
}
