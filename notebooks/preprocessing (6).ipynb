{
 "cells": [
  {
   "cell_type": "code",
   "execution_count": 1,
   "metadata": {},
   "outputs": [],
   "source": [
    "%load_ext autoreload\n",
    "%autoreload 2"
   ]
  },
  {
   "cell_type": "code",
   "execution_count": 2,
   "metadata": {},
   "outputs": [],
   "source": [
    "import pandas as pd\n",
    "import numpy as np\n",
    "import geopandas as gpd\n",
    "from shapely.geometry import Polygon, Point\n",
    "import garbageman"
   ]
  },
  {
   "cell_type": "code",
   "execution_count": 3,
   "metadata": {},
   "outputs": [],
   "source": [
    "street_segments = gpd.read_file(\"../data/processed/street_segments.geojson\")\n",
    "blocks = gpd.read_file(\"../data/processed/blocks.geojson\")\n",
    "buildings = gpd.read_file(\"../data/processed/buildings.geojson\")\n",
    "blockfaces = gpd.read_file(\"../data/processed/blockfaces.geojson\")"
   ]
  },
  {
   "cell_type": "code",
   "execution_count": 4,
   "metadata": {},
   "outputs": [],
   "source": [
    "trash = pd.read_excel(\"../data/one-month-data.xlsx\")\n",
    "trash = gpd.GeoDataFrame(trash, \n",
    "                         geometry=trash.apply(lambda srs: Point(srs['long'], srs['lat']),axis='columns'))"
   ]
  },
  {
   "cell_type": "code",
   "execution_count": 5,
   "metadata": {},
   "outputs": [
    {
     "name": "stderr",
     "output_type": "stream",
     "text": [
      "100%|██████████| 71/71 [01:09<00:00,  1.24s/it]\n"
     ]
    }
   ],
   "source": [
    "selection_area = Polygon(\n",
    "    ((-122.422836714479, 37.7849452051136), \n",
    "     (-122.419309755901, 37.7849452051136), \n",
    "     (-122.419309755901, 37.7998665826739), \n",
    "     (-122.422836714479, 37.7998665826739), \n",
    "     (-122.422836714479, 37.7849452051136))\n",
    ").buffer(0.001)\n",
    "\n",
    "\n",
    "blocks_of_interest = garbageman.pipeline.select_area_of_interest(blocks, selection_area)\n",
    "frontages_of_interest = garbageman.pipeline.calculate_frontages(blocks_of_interest, \n",
    "                                                                street_segments, blockfaces, buildings)\n",
    "trash_of_interest = garbageman.pipeline.select_area_of_interest(trash, selection_area)"
   ]
  },
  {
   "cell_type": "code",
   "execution_count": 11,
   "metadata": {},
   "outputs": [],
   "source": [
    "f_index = garbageman.pipeline.create_index(frontages_of_interest)\n",
    "trash_frontage_mapping = garbageman.pipeline.assign_points_to_frontages(trash_of_interest, \n",
    "                                                                        frontages_of_interest, f_index)"
   ]
  },
  {
   "cell_type": "code",
   "execution_count": 25,
   "metadata": {
    "scrolled": false
   },
   "outputs": [],
   "source": [
    "augmented_trash = trash_of_interest.assign(sf16_BldgID_n=trash_frontage_mapping.values)"
   ]
  },
  {
   "cell_type": "code",
   "execution_count": 26,
   "metadata": {},
   "outputs": [
    {
     "data": {
      "text/html": [
       "<div>\n",
       "<style scoped>\n",
       "    .dataframe tbody tr th:only-of-type {\n",
       "        vertical-align: middle;\n",
       "    }\n",
       "\n",
       "    .dataframe tbody tr th {\n",
       "        vertical-align: top;\n",
       "    }\n",
       "\n",
       "    .dataframe thead th {\n",
       "        text-align: right;\n",
       "    }\n",
       "</style>\n",
       "<table border=\"1\" class=\"dataframe\">\n",
       "  <thead>\n",
       "    <tr style=\"text-align: right;\">\n",
       "      <th></th>\n",
       "      <th>itemsTagged</th>\n",
       "      <th>likes</th>\n",
       "      <th>street</th>\n",
       "      <th>type</th>\n",
       "      <th>time</th>\n",
       "      <th>userPrimaryCommunityName</th>\n",
       "      <th>userCity</th>\n",
       "      <th>userCityDistrict</th>\n",
       "      <th>userState</th>\n",
       "      <th>userZipCode</th>\n",
       "      <th>lat</th>\n",
       "      <th>long</th>\n",
       "      <th>totalNumberOfItemsTagged</th>\n",
       "      <th>pickedUp</th>\n",
       "      <th>geometry</th>\n",
       "      <th>sf16_BldgID_n</th>\n",
       "    </tr>\n",
       "  </thead>\n",
       "  <tbody>\n",
       "    <tr>\n",
       "      <th>0</th>\n",
       "      <td>1</td>\n",
       "      <td>0</td>\n",
       "      <td>Filbert St</td>\n",
       "      <td>tobacco</td>\n",
       "      <td>9/18/2018, 12:45:07 AM</td>\n",
       "      <td>Russian Hill</td>\n",
       "      <td>San Francisco</td>\n",
       "      <td>San Francisco County</td>\n",
       "      <td>California</td>\n",
       "      <td>94109</td>\n",
       "      <td>37.799602</td>\n",
       "      <td>-122.422209</td>\n",
       "      <td>1</td>\n",
       "      <td>True</td>\n",
       "      <td>POINT (-122.422208928493 37.7996024350634)</td>\n",
       "      <td>201006.0022929_0</td>\n",
       "    </tr>\n",
       "    <tr>\n",
       "      <th>1</th>\n",
       "      <td>1</td>\n",
       "      <td>0</td>\n",
       "      <td>Filbert St</td>\n",
       "      <td>other</td>\n",
       "      <td>9/18/2018, 12:45:05 AM</td>\n",
       "      <td>Russian Hill</td>\n",
       "      <td>San Francisco</td>\n",
       "      <td>San Francisco County</td>\n",
       "      <td>California</td>\n",
       "      <td>94109</td>\n",
       "      <td>37.799808</td>\n",
       "      <td>-122.422168</td>\n",
       "      <td>1</td>\n",
       "      <td>True</td>\n",
       "      <td>POINT (-122.422168068763 37.7998081601673)</td>\n",
       "      <td>201006.0014843_1</td>\n",
       "    </tr>\n",
       "    <tr>\n",
       "      <th>2</th>\n",
       "      <td>1</td>\n",
       "      <td>0</td>\n",
       "      <td>Filbert St</td>\n",
       "      <td>other</td>\n",
       "      <td>9/18/2018, 12:45:04 AM</td>\n",
       "      <td>Russian Hill</td>\n",
       "      <td>San Francisco</td>\n",
       "      <td>San Francisco County</td>\n",
       "      <td>California</td>\n",
       "      <td>94109</td>\n",
       "      <td>37.799744</td>\n",
       "      <td>-122.422153</td>\n",
       "      <td>1</td>\n",
       "      <td>True</td>\n",
       "      <td>POINT (-122.422152552981 37.7997437724664)</td>\n",
       "      <td>201006.0022929_0</td>\n",
       "    </tr>\n",
       "    <tr>\n",
       "      <th>3</th>\n",
       "      <td>1</td>\n",
       "      <td>0</td>\n",
       "      <td>Filbert St</td>\n",
       "      <td>other</td>\n",
       "      <td>9/18/2018, 12:45:03 AM</td>\n",
       "      <td>Russian Hill</td>\n",
       "      <td>San Francisco</td>\n",
       "      <td>San Francisco County</td>\n",
       "      <td>California</td>\n",
       "      <td>94109</td>\n",
       "      <td>37.799807</td>\n",
       "      <td>-122.422091</td>\n",
       "      <td>1</td>\n",
       "      <td>True</td>\n",
       "      <td>POINT (-122.422090792739 37.7998066128486)</td>\n",
       "      <td>201006.0020953_0</td>\n",
       "    </tr>\n",
       "    <tr>\n",
       "      <th>4</th>\n",
       "      <td>1</td>\n",
       "      <td>0</td>\n",
       "      <td>Polk St</td>\n",
       "      <td>tobacco</td>\n",
       "      <td>9/18/2018, 12:42:13 AM</td>\n",
       "      <td>Russian Hill</td>\n",
       "      <td>San Francisco</td>\n",
       "      <td>San Francisco County</td>\n",
       "      <td>California</td>\n",
       "      <td>94109</td>\n",
       "      <td>37.799505</td>\n",
       "      <td>-122.422302</td>\n",
       "      <td>1</td>\n",
       "      <td>True</td>\n",
       "      <td>POINT (-122.422302477379 37.799504567795)</td>\n",
       "      <td>201006.0031962_0</td>\n",
       "    </tr>\n",
       "  </tbody>\n",
       "</table>\n",
       "</div>"
      ],
      "text/plain": [
       "   itemsTagged  likes      street     type                    time  \\\n",
       "0            1      0  Filbert St  tobacco  9/18/2018, 12:45:07 AM   \n",
       "1            1      0  Filbert St    other  9/18/2018, 12:45:05 AM   \n",
       "2            1      0  Filbert St    other  9/18/2018, 12:45:04 AM   \n",
       "3            1      0  Filbert St    other  9/18/2018, 12:45:03 AM   \n",
       "4            1      0     Polk St  tobacco  9/18/2018, 12:42:13 AM   \n",
       "\n",
       "  userPrimaryCommunityName       userCity      userCityDistrict   userState  \\\n",
       "0             Russian Hill  San Francisco  San Francisco County  California   \n",
       "1             Russian Hill  San Francisco  San Francisco County  California   \n",
       "2             Russian Hill  San Francisco  San Francisco County  California   \n",
       "3             Russian Hill  San Francisco  San Francisco County  California   \n",
       "4             Russian Hill  San Francisco  San Francisco County  California   \n",
       "\n",
       "  userZipCode        lat        long totalNumberOfItemsTagged  pickedUp  \\\n",
       "0       94109  37.799602 -122.422209                        1      True   \n",
       "1       94109  37.799808 -122.422168                        1      True   \n",
       "2       94109  37.799744 -122.422153                        1      True   \n",
       "3       94109  37.799807 -122.422091                        1      True   \n",
       "4       94109  37.799505 -122.422302                        1      True   \n",
       "\n",
       "                                     geometry     sf16_BldgID_n  \n",
       "0  POINT (-122.422208928493 37.7996024350634)  201006.0022929_0  \n",
       "1  POINT (-122.422168068763 37.7998081601673)  201006.0014843_1  \n",
       "2  POINT (-122.422152552981 37.7997437724664)  201006.0022929_0  \n",
       "3  POINT (-122.422090792739 37.7998066128486)  201006.0020953_0  \n",
       "4   POINT (-122.422302477379 37.799504567795)  201006.0031962_0  "
      ]
     },
     "execution_count": 26,
     "metadata": {},
     "output_type": "execute_result"
    }
   ],
   "source": [
    "augmented_trash.head()"
   ]
  },
  {
   "cell_type": "code",
   "execution_count": 32,
   "metadata": {},
   "outputs": [],
   "source": [
    "(augmented_trash\n",
    "     .assign(pickedUp=augmented_trash.pickedUp.astype(int))\n",
    "     .to_file('../data/processed/trash-polk.geojson', driver='GeoJSON'))"
   ]
  },
  {
   "cell_type": "code",
   "execution_count": 33,
   "metadata": {},
   "outputs": [],
   "source": [
    "frontages_of_interest.to_file(\"../data/processed/frontages-polk.geojson\", driver='GeoJSON')"
   ]
  }
 ],
 "metadata": {
  "kernelspec": {
   "display_name": "Python 3",
   "language": "python",
   "name": "python3"
  },
  "language_info": {
   "codemirror_mode": {
    "name": "ipython",
    "version": 3
   },
   "file_extension": ".py",
   "mimetype": "text/x-python",
   "name": "python",
   "nbconvert_exporter": "python",
   "pygments_lexer": "ipython3",
   "version": "3.6.6"
  }
 },
 "nbformat": 4,
 "nbformat_minor": 2
}
