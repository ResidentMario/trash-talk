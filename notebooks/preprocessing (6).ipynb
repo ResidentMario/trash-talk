{
 "cells": [
  {
   "cell_type": "code",
   "execution_count": 1,
   "metadata": {},
   "outputs": [],
   "source": [
    "%load_ext autoreload\n",
    "%autoreload 2"
   ]
  },
  {
   "cell_type": "code",
   "execution_count": 2,
   "metadata": {},
   "outputs": [],
   "source": [
    "import pandas as pd\n",
    "import numpy as np\n",
    "import geopandas as gpd\n",
    "from shapely.geometry import Polygon, Point\n",
    "import streetmapper"
   ]
  },
  {
   "cell_type": "code",
   "execution_count": 3,
   "metadata": {},
   "outputs": [],
   "source": [
    "street_segments = gpd.read_file(\"../data/processed/street_segments.geojson\")\n",
    "blocks = gpd.read_file(\"../data/processed/blocks.geojson\")\n",
    "buildings = gpd.read_file(\"../data/processed/buildings.geojson\")\n",
    "blockfaces = gpd.read_file(\"../data/processed/blockfaces.geojson\")"
   ]
  },
  {
   "cell_type": "code",
   "execution_count": 4,
   "metadata": {},
   "outputs": [],
   "source": [
    "trash = pd.read_excel(\"../data/one-month-data.xlsx\")\n",
    "trash = gpd.GeoDataFrame(trash, \n",
    "                         geometry=trash.apply(lambda srs: Point(srs['long'], srs['lat']),axis='columns'))"
   ]
  },
  {
   "cell_type": "code",
   "execution_count": 5,
   "metadata": {},
   "outputs": [
    {
     "name": "stderr",
     "output_type": "stream",
     "text": [
      "100%|██████████| 71/71 [01:14<00:00,  1.13s/it]\n"
     ]
    }
   ],
   "source": [
    "selection_area = Polygon(\n",
    "    ((-122.422836714479, 37.7849452051136), \n",
    "     (-122.419309755901, 37.7849452051136), \n",
    "     (-122.419309755901, 37.7998665826739), \n",
    "     (-122.422836714479, 37.7998665826739), \n",
    "     (-122.422836714479, 37.7849452051136))\n",
    ").buffer(0.001)\n",
    "\n",
    "\n",
    "blocks_of_interest = streetmapper.pipeline.select_area_of_interest(blocks, selection_area)\n",
    "frontages_of_interest = streetmapper.pipeline.calculate_frontages(blocks_of_interest, \n",
    "                                                                street_segments, blockfaces, buildings)\n",
    "trash_of_interest = streetmapper.pipeline.select_area_of_interest(trash, selection_area)"
   ]
  },
  {
   "cell_type": "code",
   "execution_count": 6,
   "metadata": {},
   "outputs": [],
   "source": [
    "f_index = streetmapper.pipeline.create_index(frontages_of_interest)\n",
    "trash_frontage_mapping = streetmapper.pipeline.assign_points_to_frontages(trash_of_interest, \n",
    "                                                                          frontages_of_interest, f_index)"
   ]
  },
  {
   "cell_type": "code",
   "execution_count": 7,
   "metadata": {
    "scrolled": false
   },
   "outputs": [],
   "source": [
    "augmented_trash = trash_of_interest.assign(sf16_BldgID_n=trash_frontage_mapping.values)"
   ]
  },
  {
   "cell_type": "code",
   "execution_count": 8,
   "metadata": {},
   "outputs": [
    {
     "data": {
      "text/html": [
       "<div>\n",
       "<style scoped>\n",
       "    .dataframe tbody tr th:only-of-type {\n",
       "        vertical-align: middle;\n",
       "    }\n",
       "\n",
       "    .dataframe tbody tr th {\n",
       "        vertical-align: top;\n",
       "    }\n",
       "\n",
       "    .dataframe thead th {\n",
       "        text-align: right;\n",
       "    }\n",
       "</style>\n",
       "<table border=\"1\" class=\"dataframe\">\n",
       "  <thead>\n",
       "    <tr style=\"text-align: right;\">\n",
       "      <th></th>\n",
       "      <th>itemsTagged</th>\n",
       "      <th>likes</th>\n",
       "      <th>street</th>\n",
       "      <th>type</th>\n",
       "      <th>time</th>\n",
       "      <th>userPrimaryCommunityName</th>\n",
       "      <th>userCity</th>\n",
       "      <th>userCityDistrict</th>\n",
       "      <th>userState</th>\n",
       "      <th>userZipCode</th>\n",
       "      <th>lat</th>\n",
       "      <th>long</th>\n",
       "      <th>totalNumberOfItemsTagged</th>\n",
       "      <th>pickedUp</th>\n",
       "      <th>geometry</th>\n",
       "      <th>sf16_BldgID_n</th>\n",
       "    </tr>\n",
       "  </thead>\n",
       "  <tbody>\n",
       "    <tr>\n",
       "      <th>0</th>\n",
       "      <td>1</td>\n",
       "      <td>0</td>\n",
       "      <td>Filbert St</td>\n",
       "      <td>tobacco</td>\n",
       "      <td>9/18/2018, 12:45:07 AM</td>\n",
       "      <td>Russian Hill</td>\n",
       "      <td>San Francisco</td>\n",
       "      <td>San Francisco County</td>\n",
       "      <td>California</td>\n",
       "      <td>94109</td>\n",
       "      <td>37.799602</td>\n",
       "      <td>-122.422209</td>\n",
       "      <td>1</td>\n",
       "      <td>True</td>\n",
       "      <td>POINT (-122.422208928493 37.7996024350634)</td>\n",
       "      <td>201006.0022929_0</td>\n",
       "    </tr>\n",
       "    <tr>\n",
       "      <th>1</th>\n",
       "      <td>1</td>\n",
       "      <td>0</td>\n",
       "      <td>Filbert St</td>\n",
       "      <td>other</td>\n",
       "      <td>9/18/2018, 12:45:05 AM</td>\n",
       "      <td>Russian Hill</td>\n",
       "      <td>San Francisco</td>\n",
       "      <td>San Francisco County</td>\n",
       "      <td>California</td>\n",
       "      <td>94109</td>\n",
       "      <td>37.799808</td>\n",
       "      <td>-122.422168</td>\n",
       "      <td>1</td>\n",
       "      <td>True</td>\n",
       "      <td>POINT (-122.422168068763 37.7998081601673)</td>\n",
       "      <td>201006.0014843_1</td>\n",
       "    </tr>\n",
       "    <tr>\n",
       "      <th>2</th>\n",
       "      <td>1</td>\n",
       "      <td>0</td>\n",
       "      <td>Filbert St</td>\n",
       "      <td>other</td>\n",
       "      <td>9/18/2018, 12:45:04 AM</td>\n",
       "      <td>Russian Hill</td>\n",
       "      <td>San Francisco</td>\n",
       "      <td>San Francisco County</td>\n",
       "      <td>California</td>\n",
       "      <td>94109</td>\n",
       "      <td>37.799744</td>\n",
       "      <td>-122.422153</td>\n",
       "      <td>1</td>\n",
       "      <td>True</td>\n",
       "      <td>POINT (-122.422152552981 37.7997437724664)</td>\n",
       "      <td>201006.0022929_0</td>\n",
       "    </tr>\n",
       "    <tr>\n",
       "      <th>3</th>\n",
       "      <td>1</td>\n",
       "      <td>0</td>\n",
       "      <td>Filbert St</td>\n",
       "      <td>other</td>\n",
       "      <td>9/18/2018, 12:45:03 AM</td>\n",
       "      <td>Russian Hill</td>\n",
       "      <td>San Francisco</td>\n",
       "      <td>San Francisco County</td>\n",
       "      <td>California</td>\n",
       "      <td>94109</td>\n",
       "      <td>37.799807</td>\n",
       "      <td>-122.422091</td>\n",
       "      <td>1</td>\n",
       "      <td>True</td>\n",
       "      <td>POINT (-122.422090792739 37.7998066128486)</td>\n",
       "      <td>201006.0020953_0</td>\n",
       "    </tr>\n",
       "    <tr>\n",
       "      <th>4</th>\n",
       "      <td>1</td>\n",
       "      <td>0</td>\n",
       "      <td>Polk St</td>\n",
       "      <td>tobacco</td>\n",
       "      <td>9/18/2018, 12:42:13 AM</td>\n",
       "      <td>Russian Hill</td>\n",
       "      <td>San Francisco</td>\n",
       "      <td>San Francisco County</td>\n",
       "      <td>California</td>\n",
       "      <td>94109</td>\n",
       "      <td>37.799505</td>\n",
       "      <td>-122.422302</td>\n",
       "      <td>1</td>\n",
       "      <td>True</td>\n",
       "      <td>POINT (-122.422302477379 37.799504567795)</td>\n",
       "      <td>201006.0031962_0</td>\n",
       "    </tr>\n",
       "  </tbody>\n",
       "</table>\n",
       "</div>"
      ],
      "text/plain": [
       "   itemsTagged  likes      street     type                    time  \\\n",
       "0            1      0  Filbert St  tobacco  9/18/2018, 12:45:07 AM   \n",
       "1            1      0  Filbert St    other  9/18/2018, 12:45:05 AM   \n",
       "2            1      0  Filbert St    other  9/18/2018, 12:45:04 AM   \n",
       "3            1      0  Filbert St    other  9/18/2018, 12:45:03 AM   \n",
       "4            1      0     Polk St  tobacco  9/18/2018, 12:42:13 AM   \n",
       "\n",
       "  userPrimaryCommunityName       userCity      userCityDistrict   userState  \\\n",
       "0             Russian Hill  San Francisco  San Francisco County  California   \n",
       "1             Russian Hill  San Francisco  San Francisco County  California   \n",
       "2             Russian Hill  San Francisco  San Francisco County  California   \n",
       "3             Russian Hill  San Francisco  San Francisco County  California   \n",
       "4             Russian Hill  San Francisco  San Francisco County  California   \n",
       "\n",
       "  userZipCode        lat        long totalNumberOfItemsTagged  pickedUp  \\\n",
       "0       94109  37.799602 -122.422209                        1      True   \n",
       "1       94109  37.799808 -122.422168                        1      True   \n",
       "2       94109  37.799744 -122.422153                        1      True   \n",
       "3       94109  37.799807 -122.422091                        1      True   \n",
       "4       94109  37.799505 -122.422302                        1      True   \n",
       "\n",
       "                                     geometry     sf16_BldgID_n  \n",
       "0  POINT (-122.422208928493 37.7996024350634)  201006.0022929_0  \n",
       "1  POINT (-122.422168068763 37.7998081601673)  201006.0014843_1  \n",
       "2  POINT (-122.422152552981 37.7997437724664)  201006.0022929_0  \n",
       "3  POINT (-122.422090792739 37.7998066128486)  201006.0020953_0  \n",
       "4   POINT (-122.422302477379 37.799504567795)  201006.0031962_0  "
      ]
     },
     "execution_count": 8,
     "metadata": {},
     "output_type": "execute_result"
    }
   ],
   "source": [
    "augmented_trash.head()"
   ]
  },
  {
   "cell_type": "code",
   "execution_count": 9,
   "metadata": {},
   "outputs": [
    {
     "ename": "DriverIOError",
     "evalue": "GeoJSON driver doesn't support creating a layer on a read-only datasource",
     "output_type": "error",
     "traceback": [
      "\u001b[0;31m---------------------------------------------------------------------------\u001b[0m",
      "\u001b[0;31mCPLE_NotSupportedError\u001b[0m                    Traceback (most recent call last)",
      "\u001b[0;32mfiona/ogrext.pyx\u001b[0m in \u001b[0;36mfiona.ogrext.WritingSession.start\u001b[0;34m()\u001b[0m\n",
      "\u001b[0;32mfiona/_err.pyx\u001b[0m in \u001b[0;36mfiona._err.exc_wrap_pointer\u001b[0;34m()\u001b[0m\n",
      "\u001b[0;31mCPLE_NotSupportedError\u001b[0m: GeoJSON driver doesn't support creating a layer on a read-only datasource",
      "\nDuring handling of the above exception, another exception occurred:\n",
      "\u001b[0;31mDriverIOError\u001b[0m                             Traceback (most recent call last)",
      "\u001b[0;32m<ipython-input-9-fbd2ed320464>\u001b[0m in \u001b[0;36m<module>\u001b[0;34m\u001b[0m\n\u001b[1;32m      1\u001b[0m (augmented_trash\n\u001b[1;32m      2\u001b[0m      \u001b[0;34m.\u001b[0m\u001b[0massign\u001b[0m\u001b[0;34m(\u001b[0m\u001b[0mpickedUp\u001b[0m\u001b[0;34m=\u001b[0m\u001b[0maugmented_trash\u001b[0m\u001b[0;34m.\u001b[0m\u001b[0mpickedUp\u001b[0m\u001b[0;34m.\u001b[0m\u001b[0mastype\u001b[0m\u001b[0;34m(\u001b[0m\u001b[0mint\u001b[0m\u001b[0;34m)\u001b[0m\u001b[0;34m)\u001b[0m\u001b[0;34m\u001b[0m\u001b[0m\n\u001b[0;32m----> 3\u001b[0;31m      .to_file('../data/processed/trash-polk.geojson', driver='GeoJSON'))\n\u001b[0m",
      "\u001b[0;32m~/miniconda3/envs/trash-talk/lib/python3.6/site-packages/geopandas/geodataframe.py\u001b[0m in \u001b[0;36mto_file\u001b[0;34m(self, filename, driver, schema, **kwargs)\u001b[0m\n\u001b[1;32m    411\u001b[0m         \"\"\"\n\u001b[1;32m    412\u001b[0m         \u001b[0;32mfrom\u001b[0m \u001b[0mgeopandas\u001b[0m\u001b[0;34m.\u001b[0m\u001b[0mio\u001b[0m\u001b[0;34m.\u001b[0m\u001b[0mfile\u001b[0m \u001b[0;32mimport\u001b[0m \u001b[0mto_file\u001b[0m\u001b[0;34m\u001b[0m\u001b[0m\n\u001b[0;32m--> 413\u001b[0;31m         \u001b[0mto_file\u001b[0m\u001b[0;34m(\u001b[0m\u001b[0mself\u001b[0m\u001b[0;34m,\u001b[0m \u001b[0mfilename\u001b[0m\u001b[0;34m,\u001b[0m \u001b[0mdriver\u001b[0m\u001b[0;34m,\u001b[0m \u001b[0mschema\u001b[0m\u001b[0;34m,\u001b[0m \u001b[0;34m**\u001b[0m\u001b[0mkwargs\u001b[0m\u001b[0;34m)\u001b[0m\u001b[0;34m\u001b[0m\u001b[0m\n\u001b[0m\u001b[1;32m    414\u001b[0m \u001b[0;34m\u001b[0m\u001b[0m\n\u001b[1;32m    415\u001b[0m     \u001b[0;32mdef\u001b[0m \u001b[0mto_crs\u001b[0m\u001b[0;34m(\u001b[0m\u001b[0mself\u001b[0m\u001b[0;34m,\u001b[0m \u001b[0mcrs\u001b[0m\u001b[0;34m=\u001b[0m\u001b[0;32mNone\u001b[0m\u001b[0;34m,\u001b[0m \u001b[0mepsg\u001b[0m\u001b[0;34m=\u001b[0m\u001b[0;32mNone\u001b[0m\u001b[0;34m,\u001b[0m \u001b[0minplace\u001b[0m\u001b[0;34m=\u001b[0m\u001b[0;32mFalse\u001b[0m\u001b[0;34m)\u001b[0m\u001b[0;34m:\u001b[0m\u001b[0;34m\u001b[0m\u001b[0m\n",
      "\u001b[0;32m~/miniconda3/envs/trash-talk/lib/python3.6/site-packages/geopandas/io/file.py\u001b[0m in \u001b[0;36mto_file\u001b[0;34m(df, filename, driver, schema, **kwargs)\u001b[0m\n\u001b[1;32m    108\u001b[0m     \u001b[0;32mwith\u001b[0m \u001b[0mfiona\u001b[0m\u001b[0;34m.\u001b[0m\u001b[0mdrivers\u001b[0m\u001b[0;34m(\u001b[0m\u001b[0;34m)\u001b[0m\u001b[0;34m:\u001b[0m\u001b[0;34m\u001b[0m\u001b[0m\n\u001b[1;32m    109\u001b[0m         with fiona.open(filename, 'w', driver=driver, crs=df.crs,\n\u001b[0;32m--> 110\u001b[0;31m                         schema=schema, **kwargs) as colxn:\n\u001b[0m\u001b[1;32m    111\u001b[0m             \u001b[0mcolxn\u001b[0m\u001b[0;34m.\u001b[0m\u001b[0mwriterecords\u001b[0m\u001b[0;34m(\u001b[0m\u001b[0mdf\u001b[0m\u001b[0;34m.\u001b[0m\u001b[0miterfeatures\u001b[0m\u001b[0;34m(\u001b[0m\u001b[0;34m)\u001b[0m\u001b[0;34m)\u001b[0m\u001b[0;34m\u001b[0m\u001b[0m\n\u001b[1;32m    112\u001b[0m \u001b[0;34m\u001b[0m\u001b[0m\n",
      "\u001b[0;32m~/miniconda3/envs/trash-talk/lib/python3.6/site-packages/fiona/__init__.py\u001b[0m in \u001b[0;36mopen\u001b[0;34m(path, mode, driver, schema, crs, encoding, layer, vfs, enabled_drivers, crs_wkt)\u001b[0m\n\u001b[1;32m    173\u001b[0m         c = Collection(path, mode, crs=crs, driver=driver, schema=this_schema,\n\u001b[1;32m    174\u001b[0m                        \u001b[0mencoding\u001b[0m\u001b[0;34m=\u001b[0m\u001b[0mencoding\u001b[0m\u001b[0;34m,\u001b[0m \u001b[0mlayer\u001b[0m\u001b[0;34m=\u001b[0m\u001b[0mlayer\u001b[0m\u001b[0;34m,\u001b[0m \u001b[0mvsi\u001b[0m\u001b[0;34m=\u001b[0m\u001b[0mvsi\u001b[0m\u001b[0;34m,\u001b[0m \u001b[0marchive\u001b[0m\u001b[0;34m=\u001b[0m\u001b[0marchive\u001b[0m\u001b[0;34m,\u001b[0m\u001b[0;34m\u001b[0m\u001b[0m\n\u001b[0;32m--> 175\u001b[0;31m                        enabled_drivers=enabled_drivers, crs_wkt=crs_wkt)\n\u001b[0m\u001b[1;32m    176\u001b[0m     \u001b[0;32melse\u001b[0m\u001b[0;34m:\u001b[0m\u001b[0;34m\u001b[0m\u001b[0m\n\u001b[1;32m    177\u001b[0m         raise ValueError(\n",
      "\u001b[0;32m~/miniconda3/envs/trash-talk/lib/python3.6/site-packages/fiona/collection.py\u001b[0m in \u001b[0;36m__init__\u001b[0;34m(self, path, mode, driver, schema, crs, encoding, layer, vsi, archive, enabled_drivers, crs_wkt, **kwargs)\u001b[0m\n\u001b[1;32m    154\u001b[0m             \u001b[0;32melif\u001b[0m \u001b[0mself\u001b[0m\u001b[0;34m.\u001b[0m\u001b[0mmode\u001b[0m \u001b[0;32min\u001b[0m \u001b[0;34m(\u001b[0m\u001b[0;34m'a'\u001b[0m\u001b[0;34m,\u001b[0m \u001b[0;34m'w'\u001b[0m\u001b[0;34m)\u001b[0m\u001b[0;34m:\u001b[0m\u001b[0;34m\u001b[0m\u001b[0m\n\u001b[1;32m    155\u001b[0m                 \u001b[0mself\u001b[0m\u001b[0;34m.\u001b[0m\u001b[0msession\u001b[0m \u001b[0;34m=\u001b[0m \u001b[0mWritingSession\u001b[0m\u001b[0;34m(\u001b[0m\u001b[0;34m)\u001b[0m\u001b[0;34m\u001b[0m\u001b[0m\n\u001b[0;32m--> 156\u001b[0;31m                 \u001b[0mself\u001b[0m\u001b[0;34m.\u001b[0m\u001b[0msession\u001b[0m\u001b[0;34m.\u001b[0m\u001b[0mstart\u001b[0m\u001b[0;34m(\u001b[0m\u001b[0mself\u001b[0m\u001b[0;34m,\u001b[0m \u001b[0;34m**\u001b[0m\u001b[0mkwargs\u001b[0m\u001b[0;34m)\u001b[0m\u001b[0;34m\u001b[0m\u001b[0m\n\u001b[0m\u001b[1;32m    157\u001b[0m         \u001b[0;32mexcept\u001b[0m \u001b[0mIOError\u001b[0m\u001b[0;34m:\u001b[0m\u001b[0;34m\u001b[0m\u001b[0m\n\u001b[1;32m    158\u001b[0m             \u001b[0mself\u001b[0m\u001b[0;34m.\u001b[0m\u001b[0msession\u001b[0m \u001b[0;34m=\u001b[0m \u001b[0;32mNone\u001b[0m\u001b[0;34m\u001b[0m\u001b[0m\n",
      "\u001b[0;32mfiona/ogrext.pyx\u001b[0m in \u001b[0;36mfiona.ogrext.WritingSession.start\u001b[0;34m()\u001b[0m\n",
      "\u001b[0;31mDriverIOError\u001b[0m: GeoJSON driver doesn't support creating a layer on a read-only datasource"
     ]
    }
   ],
   "source": [
    "(augmented_trash\n",
    "     .assign(pickedUp=augmented_trash.pickedUp.astype(int))\n",
    "     .to_file('../data/processed/trash-polk.geojson', driver='GeoJSON'))"
   ]
  },
  {
   "cell_type": "code",
   "execution_count": null,
   "metadata": {},
   "outputs": [],
   "source": [
    "frontages_of_interest.to_file(\"../data/processed/frontages-polk.geojson\", driver='GeoJSON')"
   ]
  }
 ],
 "metadata": {
  "kernelspec": {
   "display_name": "Python 3",
   "language": "python",
   "name": "python3"
  },
  "language_info": {
   "codemirror_mode": {
    "name": "ipython",
    "version": 3
   },
   "file_extension": ".py",
   "mimetype": "text/x-python",
   "name": "python",
   "nbconvert_exporter": "python",
   "pygments_lexer": "ipython3",
   "version": "3.7.3"
  }
 },
 "nbformat": 4,
 "nbformat_minor": 2
}
