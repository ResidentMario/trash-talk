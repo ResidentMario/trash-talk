{
 "cells": [
  {
   "cell_type": "markdown",
   "metadata": {},
   "source": [
    "**Note**: this notebook uses the `streetmapper` library, which may have changed since time of writing. To regenerate the datasets, use the version of this library as of commit [`72c332`](https://github.com/ResidentMario/streetmapper/tree/72c3321d92e10db96e2f0b14f232b679e8778b6c).\n",
    "\n",
    "This notebook is a development restart of the `streetmapper` library and the `trash-talk` project."
   ]
  },
  {
   "cell_type": "markdown",
   "metadata": {},
   "source": [
    "## Preprocessing\n",
    "\n",
    "### Linking block, building, blockface, and frontages\n",
    "\n",
    "The central problem in analyzing point GPS data is that it is disconnected from its surrounding geospatial context. We need to assign the trash point data to the block it is located on, and the building on that block it is closest to. This first section of this notebook performs this work, using functions from the `streetmapper` library, which was purpose-developed for this project."
   ]
  },
  {
   "cell_type": "code",
   "execution_count": 1,
   "metadata": {},
   "outputs": [],
   "source": [
    "import pandas as pd\n",
    "import geopandas as gpd\n",
    "\n",
    "# geospatial dataset of building footprints\n",
    "buildings = gpd.read_file(\"../../data/Building Footprints\").to_crs({\"init\": \"epsg:4326\"})\n",
    "\n",
    "# geospatial dataset of street centerlines\n",
    "# streets = gpd.read_file(\"../../data/Streets - Active and Retired.geojson\")\n",
    "\n",
    "# geospatial dataset of blocks\n",
    "blocks = gpd.read_file(\"../../data/Census 2010_ Blocks for San Francisco.geojson\")"
   ]
  },
  {
   "cell_type": "code",
   "execution_count": 2,
   "metadata": {},
   "outputs": [],
   "source": [
    "%load_ext autoreload\n",
    "%autoreload 2\n",
    "\n",
    "import streetmapper as sm"
   ]
  },
  {
   "cell_type": "markdown",
   "metadata": {},
   "source": [
    "First, use `blockfaces_on_blocks` to generate a `DataFrame` of `blockfaces`. Blockfaces are generated using the following algorithm (comment from the code):\n",
    "\n",
    "> We pass a simplification algorithm over the block geometry and examine the points which survive in order to determine which points are geometrically important to the block geometry. These points form the boundaries of the blockfaces we partition the block into. Points not included in the simplified geometry become intermediate points along the blockface boundary.\n",
    "\n",
    "\n",
    "A simple rectangular block will have four blockfaces, one for each side of the block. More complex blocks may have any number of blockfaces, subject to the shape complexity of the block."
   ]
  },
  {
   "cell_type": "code",
   "execution_count": 3,
   "metadata": {},
   "outputs": [
    {
     "name": "stdout",
     "output_type": "stream",
     "text": [
      "CPU times: user 17.8 s, sys: 213 ms, total: 18.1 s\n",
      "Wall time: 18.3 s\n"
     ]
    }
   ],
   "source": [
    "%time blockfaces = sm.blockfaces_on_blocks(blocks, blocks_uid_col='geoid10')"
   ]
  },
  {
   "cell_type": "code",
   "execution_count": 4,
   "metadata": {},
   "outputs": [],
   "source": [
    "blockfaces.columns = ['blockface_id', 'block_id', 'geometry']"
   ]
  },
  {
   "cell_type": "markdown",
   "metadata": {},
   "source": [
    "The resulting `DataFrame` contains the segment of the block geometry selected as the blockface, the original `block_id` of the parent block, and a new `blockface_id` ID unique to the indiviudal blockface that is based on the parent `block_id`."
   ]
  },
  {
   "cell_type": "code",
   "execution_count": 5,
   "metadata": {},
   "outputs": [
    {
     "data": {
      "text/html": [
       "<div>\n",
       "<style scoped>\n",
       "    .dataframe tbody tr th:only-of-type {\n",
       "        vertical-align: middle;\n",
       "    }\n",
       "\n",
       "    .dataframe tbody tr th {\n",
       "        vertical-align: top;\n",
       "    }\n",
       "\n",
       "    .dataframe thead th {\n",
       "        text-align: right;\n",
       "    }\n",
       "</style>\n",
       "<table border=\"1\" class=\"dataframe\">\n",
       "  <thead>\n",
       "    <tr style=\"text-align: right;\">\n",
       "      <th></th>\n",
       "      <th>blockface_id</th>\n",
       "      <th>block_id</th>\n",
       "      <th>geometry</th>\n",
       "    </tr>\n",
       "  </thead>\n",
       "  <tbody>\n",
       "    <tr>\n",
       "      <th>0</th>\n",
       "      <td>060750213002002_1</td>\n",
       "      <td>060750213002002</td>\n",
       "      <td>LINESTRING (-122.440616 37.750902, -122.440459...</td>\n",
       "    </tr>\n",
       "    <tr>\n",
       "      <th>1</th>\n",
       "      <td>060750213002002_2</td>\n",
       "      <td>060750213002002</td>\n",
       "      <td>LINESTRING (-122.440459 37.749301, -122.441538...</td>\n",
       "    </tr>\n",
       "    <tr>\n",
       "      <th>2</th>\n",
       "      <td>060750213002002_3</td>\n",
       "      <td>060750213002002</td>\n",
       "      <td>LINESTRING (-122.441538 37.74923100000001, -12...</td>\n",
       "    </tr>\n",
       "    <tr>\n",
       "      <th>3</th>\n",
       "      <td>060750213002002_4</td>\n",
       "      <td>060750213002002</td>\n",
       "      <td>LINESTRING (-122.441687 37.75083600000001, -12...</td>\n",
       "    </tr>\n",
       "    <tr>\n",
       "      <th>0</th>\n",
       "      <td>060750213002000_1</td>\n",
       "      <td>060750213002000</td>\n",
       "      <td>LINESTRING (-122.438397 37.750226, -122.43832 ...</td>\n",
       "    </tr>\n",
       "  </tbody>\n",
       "</table>\n",
       "</div>"
      ],
      "text/plain": [
       "        blockface_id         block_id  \\\n",
       "0  060750213002002_1  060750213002002   \n",
       "1  060750213002002_2  060750213002002   \n",
       "2  060750213002002_3  060750213002002   \n",
       "3  060750213002002_4  060750213002002   \n",
       "0  060750213002000_1  060750213002000   \n",
       "\n",
       "                                            geometry  \n",
       "0  LINESTRING (-122.440616 37.750902, -122.440459...  \n",
       "1  LINESTRING (-122.440459 37.749301, -122.441538...  \n",
       "2  LINESTRING (-122.441538 37.74923100000001, -12...  \n",
       "3  LINESTRING (-122.441687 37.75083600000001, -12...  \n",
       "0  LINESTRING (-122.438397 37.750226, -122.43832 ...  "
      ]
     },
     "execution_count": 5,
     "metadata": {},
     "output_type": "execute_result"
    }
   ],
   "source": [
    "blockfaces.head()"
   ]
  },
  {
   "cell_type": "markdown",
   "metadata": {},
   "source": [
    "Next we assign buildings to blocks. The docstring for this function is:\n",
    "\n",
    "> Matches buildings to blocks and returns the result.\n",
    ">\n",
    "> This function returns a three-element tuple: `matches` for buildings uniquely joined to blocks, `multimatches` for buildings joined to multiple blocks, and `nonmatches` for buildings joined to no blocks.\n",
    "\n",
    "Multimatches and non-matches are not a problem in the survey zone, so we take just the `matches` component of the output."
   ]
  },
  {
   "cell_type": "code",
   "execution_count": 6,
   "metadata": {},
   "outputs": [
    {
     "name": "stdout",
     "output_type": "stream",
     "text": [
      "CPU times: user 1min 4s, sys: 1.39 s, total: 1min 6s\n",
      "Wall time: 1min 6s\n"
     ]
    }
   ],
   "source": [
    "%%time\n",
    "\n",
    "buildings, _, _ = sm.bldgs_on_blocks(buildings, blocks, buildings_uid_col='globalid')"
   ]
  },
  {
   "cell_type": "markdown",
   "metadata": {},
   "source": [
    "Clean up the names of the columns in the `building` `DataFrame` a bit..."
   ]
  },
  {
   "cell_type": "code",
   "execution_count": 7,
   "metadata": {},
   "outputs": [],
   "source": [
    "buildings = (\n",
    "    buildings.assign(\n",
    "        building_id=buildings.globalid.map(lambda v: v[1:-1].replace('-', '_')), \n",
    "        block_id=buildings.geoid10\n",
    "    )\n",
    "    .drop(['geoid10', 'globalid'], axis='columns')\n",
    ")"
   ]
  },
  {
   "cell_type": "code",
   "execution_count": 8,
   "metadata": {},
   "outputs": [],
   "source": [
    "blocks = blocks.rename(columns={'geoid10': 'block_id'})"
   ]
  },
  {
   "cell_type": "code",
   "execution_count": 9,
   "metadata": {},
   "outputs": [
    {
     "data": {
      "text/html": [
       "<div>\n",
       "<style scoped>\n",
       "    .dataframe tbody tr th:only-of-type {\n",
       "        vertical-align: middle;\n",
       "    }\n",
       "\n",
       "    .dataframe tbody tr th {\n",
       "        vertical-align: top;\n",
       "    }\n",
       "\n",
       "    .dataframe thead th {\n",
       "        text-align: right;\n",
       "    }\n",
       "</style>\n",
       "<table border=\"1\" class=\"dataframe\">\n",
       "  <thead>\n",
       "    <tr style=\"text-align: right;\">\n",
       "      <th></th>\n",
       "      <th>area_id</th>\n",
       "      <th>cells50cm_</th>\n",
       "      <th>gnd1st_del</th>\n",
       "      <th>gnd_cells5</th>\n",
       "      <th>gnd_majori</th>\n",
       "      <th>gnd_maxcm</th>\n",
       "      <th>gnd_meancm</th>\n",
       "      <th>gnd_median</th>\n",
       "      <th>gnd_min_m</th>\n",
       "      <th>gnd_mincm</th>\n",
       "      <th>...</th>\n",
       "      <th>blockce10</th>\n",
       "      <th>awater10</th>\n",
       "      <th>funcstat10</th>\n",
       "      <th>aland10</th>\n",
       "      <th>tractce10</th>\n",
       "      <th>intptlon10</th>\n",
       "      <th>ur10</th>\n",
       "      <th>countyfp10</th>\n",
       "      <th>building_id</th>\n",
       "      <th>block_id</th>\n",
       "    </tr>\n",
       "  </thead>\n",
       "  <tbody>\n",
       "    <tr>\n",
       "      <th>0</th>\n",
       "      <td>1.0</td>\n",
       "      <td>178250.0</td>\n",
       "      <td>9.09</td>\n",
       "      <td>178250.0</td>\n",
       "      <td>643.0</td>\n",
       "      <td>704.0</td>\n",
       "      <td>595.642771</td>\n",
       "      <td>600.0</td>\n",
       "      <td>5.07</td>\n",
       "      <td>507.0</td>\n",
       "      <td>...</td>\n",
       "      <td>1134</td>\n",
       "      <td>0</td>\n",
       "      <td>S</td>\n",
       "      <td>210383</td>\n",
       "      <td>980900</td>\n",
       "      <td>-122.3809075</td>\n",
       "      <td>None</td>\n",
       "      <td>075</td>\n",
       "      <td>CF7EF595_68E6_4950_B361_CC82D77383A0</td>\n",
       "      <td>060759809001134</td>\n",
       "    </tr>\n",
       "    <tr>\n",
       "      <th>4</th>\n",
       "      <td>5.0</td>\n",
       "      <td>102761.0</td>\n",
       "      <td>10.70</td>\n",
       "      <td>102761.0</td>\n",
       "      <td>109.0</td>\n",
       "      <td>422.0</td>\n",
       "      <td>196.438970</td>\n",
       "      <td>154.0</td>\n",
       "      <td>0.81</td>\n",
       "      <td>81.0</td>\n",
       "      <td>...</td>\n",
       "      <td>1001</td>\n",
       "      <td>0</td>\n",
       "      <td>S</td>\n",
       "      <td>116249</td>\n",
       "      <td>010500</td>\n",
       "      <td>-122.3990586</td>\n",
       "      <td>None</td>\n",
       "      <td>075</td>\n",
       "      <td>EF68C9FB_598E_44B7_88FF_0B60B08CD896</td>\n",
       "      <td>060750105001001</td>\n",
       "    </tr>\n",
       "    <tr>\n",
       "      <th>5</th>\n",
       "      <td>6.0</td>\n",
       "      <td>99724.0</td>\n",
       "      <td>14.12</td>\n",
       "      <td>99724.0</td>\n",
       "      <td>685.0</td>\n",
       "      <td>718.0</td>\n",
       "      <td>675.857065</td>\n",
       "      <td>683.0</td>\n",
       "      <td>5.75</td>\n",
       "      <td>575.0</td>\n",
       "      <td>...</td>\n",
       "      <td>2040</td>\n",
       "      <td>0</td>\n",
       "      <td>S</td>\n",
       "      <td>35142</td>\n",
       "      <td>017700</td>\n",
       "      <td>-122.4142837</td>\n",
       "      <td>None</td>\n",
       "      <td>075</td>\n",
       "      <td>92730D93_A833_41DA_B823_342B4DB4F5FC</td>\n",
       "      <td>060750177002040</td>\n",
       "    </tr>\n",
       "    <tr>\n",
       "      <th>6</th>\n",
       "      <td>7.0</td>\n",
       "      <td>93580.0</td>\n",
       "      <td>10.93</td>\n",
       "      <td>93580.0</td>\n",
       "      <td>914.0</td>\n",
       "      <td>1311.0</td>\n",
       "      <td>984.630487</td>\n",
       "      <td>972.0</td>\n",
       "      <td>8.83</td>\n",
       "      <td>883.0</td>\n",
       "      <td>...</td>\n",
       "      <td>1007</td>\n",
       "      <td>0</td>\n",
       "      <td>S</td>\n",
       "      <td>83992</td>\n",
       "      <td>026403</td>\n",
       "      <td>-122.4097639</td>\n",
       "      <td>None</td>\n",
       "      <td>075</td>\n",
       "      <td>AB041BD2_DE81_4230_9AE5_38D5A06021D1</td>\n",
       "      <td>060750264031007</td>\n",
       "    </tr>\n",
       "    <tr>\n",
       "      <th>7</th>\n",
       "      <td>8.0</td>\n",
       "      <td>91973.0</td>\n",
       "      <td>14.38</td>\n",
       "      <td>91973.0</td>\n",
       "      <td>348.0</td>\n",
       "      <td>400.0</td>\n",
       "      <td>326.994868</td>\n",
       "      <td>332.0</td>\n",
       "      <td>2.36</td>\n",
       "      <td>236.0</td>\n",
       "      <td>...</td>\n",
       "      <td>1002</td>\n",
       "      <td>0</td>\n",
       "      <td>S</td>\n",
       "      <td>441831</td>\n",
       "      <td>980900</td>\n",
       "      <td>-122.3815054</td>\n",
       "      <td>None</td>\n",
       "      <td>075</td>\n",
       "      <td>9EE3DC7C_7992_4E17_9C4B_32426607E057</td>\n",
       "      <td>060759809001002</td>\n",
       "    </tr>\n",
       "  </tbody>\n",
       "</table>\n",
       "<p>5 rows × 56 columns</p>\n",
       "</div>"
      ],
      "text/plain": [
       "   area_id  cells50cm_  gnd1st_del  gnd_cells5  gnd_majori  gnd_maxcm  \\\n",
       "0      1.0    178250.0        9.09    178250.0       643.0      704.0   \n",
       "4      5.0    102761.0       10.70    102761.0       109.0      422.0   \n",
       "5      6.0     99724.0       14.12     99724.0       685.0      718.0   \n",
       "6      7.0     93580.0       10.93     93580.0       914.0     1311.0   \n",
       "7      8.0     91973.0       14.38     91973.0       348.0      400.0   \n",
       "\n",
       "   gnd_meancm  gnd_median  gnd_min_m  gnd_mincm  ...  blockce10  awater10  \\\n",
       "0  595.642771       600.0       5.07      507.0  ...       1134         0   \n",
       "4  196.438970       154.0       0.81       81.0  ...       1001         0   \n",
       "5  675.857065       683.0       5.75      575.0  ...       2040         0   \n",
       "6  984.630487       972.0       8.83      883.0  ...       1007         0   \n",
       "7  326.994868       332.0       2.36      236.0  ...       1002         0   \n",
       "\n",
       "   funcstat10  aland10  tractce10    intptlon10  ur10  countyfp10  \\\n",
       "0           S   210383     980900  -122.3809075  None         075   \n",
       "4           S   116249     010500  -122.3990586  None         075   \n",
       "5           S    35142     017700  -122.4142837  None         075   \n",
       "6           S    83992     026403  -122.4097639  None         075   \n",
       "7           S   441831     980900  -122.3815054  None         075   \n",
       "\n",
       "                            building_id         block_id  \n",
       "0  CF7EF595_68E6_4950_B361_CC82D77383A0  060759809001134  \n",
       "4  EF68C9FB_598E_44B7_88FF_0B60B08CD896  060750105001001  \n",
       "5  92730D93_A833_41DA_B823_342B4DB4F5FC  060750177002040  \n",
       "6  AB041BD2_DE81_4230_9AE5_38D5A06021D1  060750264031007  \n",
       "7  9EE3DC7C_7992_4E17_9C4B_32426607E057  060759809001002  \n",
       "\n",
       "[5 rows x 56 columns]"
      ]
     },
     "execution_count": 9,
     "metadata": {},
     "output_type": "execute_result"
    }
   ],
   "source": [
    "buildings.head()"
   ]
  },
  {
   "cell_type": "markdown",
   "metadata": {},
   "source": [
    "We are not interested in *all* buildings and *all* blocks, just those that lie within the survey zone, along the survey axis. This requires manually selecting just the buildings adjacent to the survey area.\n",
    "\n",
    "I used [`geojson.io`](http://geojson.io/#map=17/37.79809/-122.42389) to construct the following simple polygons encapsulating the survey zone:"
   ]
  },
  {
   "cell_type": "code",
   "execution_count": 10,
   "metadata": {},
   "outputs": [],
   "source": [
    "from shapely.geometry import Polygon\n",
    "\n",
    "bldg_selection_area = Polygon([[\n",
    "      -122.42260694503784,\n",
    "      37.79583908920013\n",
    "    ],\n",
    "    [\n",
    "      -122.42072939872742,\n",
    "      37.79609342639563\n",
    "    ],\n",
    "    [\n",
    "      -122.42158770561217,\n",
    "      37.79983208212613\n",
    "    ],\n",
    "    [\n",
    "      -122.42346525192261,\n",
    "      37.79959471278463\n",
    "    ],\n",
    "    [\n",
    "      -122.42260694503784,\n",
    "      37.79583908920013\n",
    "]])\n",
    "\n",
    "block_selection_area = Polygon([[\n",
    "      -122.42069721221922,\n",
    "      37.80017965728568\n",
    "    ],\n",
    "    [\n",
    "      -122.4207615852356,\n",
    "      37.80013727015868\n",
    "    ],\n",
    "    [\n",
    "      -122.4251925945282,\n",
    "      37.799696442595824\n",
    "    ],\n",
    "    [\n",
    "      -122.42442011833191,\n",
    "      37.79545758176509\n",
    "    ],\n",
    "    [\n",
    "      -122.41987109184265,\n",
    "      37.79600016952563\n",
    "    ],\n",
    "    [\n",
    "      -122.42069721221922,\n",
    "      37.80017965728568\n",
    "]])\n",
    "\n",
    "# uncomment these lines to see this selection zone)(s) on a webmap\n",
    "# import geoplot as gplt\n",
    "# import mplleaflet\n",
    "# ax = gplt.polyplot(gpd.GeoDataFrame([], geometry=[bldg_selection_area]))\n",
    "# gplt.polyplot(gpd.GeoDataFrame([], geometry=[block_selection_area]), ax=ax)\n",
    "# mplleaflet.show()"
   ]
  },
  {
   "cell_type": "code",
   "execution_count": 11,
   "metadata": {},
   "outputs": [],
   "source": [
    "blocks_of_interest = sm.select_area_of_interest(blocks, block_selection_area)\n",
    "buildings_of_interest = sm.select_area_of_interest(buildings, bldg_selection_area)"
   ]
  },
  {
   "cell_type": "code",
   "execution_count": 12,
   "metadata": {},
   "outputs": [
    {
     "data": {
      "text/plain": [
       "13"
      ]
     },
     "execution_count": 12,
     "metadata": {},
     "output_type": "execute_result"
    }
   ],
   "source": [
    "len(blocks_of_interest)"
   ]
  },
  {
   "cell_type": "markdown",
   "metadata": {},
   "source": [
    "We need to further process `blocks_of_interest` to remove the street island blocks on either side of the block set:"
   ]
  },
  {
   "cell_type": "code",
   "execution_count": 15,
   "metadata": {
    "scrolled": false
   },
   "outputs": [
    {
     "data": {
      "text/plain": [
       "<matplotlib.axes._subplots.AxesSubplot at 0x11944f400>"
      ]
     },
     "execution_count": 15,
     "metadata": {},
     "output_type": "execute_result"
    },
    {
     "data": {
      "image/png": "[encoded data removed]",
      "text/plain": [
       "<Figure size 576x432 with 1 Axes>"
      ]
     },
     "metadata": {
      "needs_background": "light"
     },
     "output_type": "display_data"
    }
   ],
   "source": [
    "# further processing to remove \"street island blocks\"\n",
    "import geoplot as gplt\n",
    "%matplotlib inline\n",
    "gplt.polyplot(blocks_of_interest)"
   ]
  },
  {
   "cell_type": "markdown",
   "metadata": {},
   "source": [
    "These blocks are actually traffic control features. There is a pedestrian island on Broadway (the street below), and there is some traffic line splitting on Van Ness (the street to the left) that apparently the city is including as \"blocks\" in the dataset."
   ]
  },
  {
   "cell_type": "code",
   "execution_count": 16,
   "metadata": {},
   "outputs": [
    {
     "data": {
      "text/plain": [
       "<matplotlib.axes._subplots.AxesSubplot at 0x121eb8ac8>"
      ]
     },
     "execution_count": 16,
     "metadata": {},
     "output_type": "execute_result"
    },
    {
     "data": {
      "image/png": "[encoded data removed]",
      "text/plain": [
       "<Figure size 576x432 with 1 Axes>"
      ]
     },
     "metadata": {
      "needs_background": "light"
     },
     "output_type": "display_data"
    }
   ],
   "source": [
    "gplt.polyplot(blocks_of_interest.iloc[[1, 6, 7, 8, 9, 10, 11, 12]])"
   ]
  },
  {
   "cell_type": "code",
   "execution_count": 17,
   "metadata": {},
   "outputs": [],
   "source": [
    "blocks_of_interest = blocks_of_interest.iloc[[1, 6, 7, 8, 9, 10, 11, 12]]"
   ]
  },
  {
   "cell_type": "code",
   "execution_count": 18,
   "metadata": {},
   "outputs": [
    {
     "data": {
      "text/plain": [
       "8"
      ]
     },
     "execution_count": 18,
     "metadata": {},
     "output_type": "execute_result"
    }
   ],
   "source": [
    "len(blocks_of_interest)"
   ]
  },
  {
   "cell_type": "code",
   "execution_count": 19,
   "metadata": {},
   "outputs": [
    {
     "data": {
      "text/plain": [
       "137"
      ]
     },
     "execution_count": 19,
     "metadata": {},
     "output_type": "execute_result"
    }
   ],
   "source": [
    "len(buildings_of_interest)"
   ]
  },
  {
   "cell_type": "code",
   "execution_count": 20,
   "metadata": {},
   "outputs": [
    {
     "data": {
      "text/plain": [
       "<matplotlib.axes._subplots.AxesSubplot at 0x11ff24a90>"
      ]
     },
     "execution_count": 20,
     "metadata": {},
     "output_type": "execute_result"
    },
    {
     "data": {
      "image/png": "[encoded data removed]",
      "text/plain": [
       "<Figure size 576x432 with 1 Axes>"
      ]
     },
     "metadata": {
      "needs_background": "light"
     },
     "output_type": "display_data"
    }
   ],
   "source": [
    "gplt.polyplot(buildings_of_interest)"
   ]
  },
  {
   "cell_type": "markdown",
   "metadata": {},
   "source": [
    "Again, we need to filter this down to just the buildings that are located along the street centerline. However because there are many more buildings than there are blocks, this is a much more tedious operation. So we'll approach it in two steps. For now, we'll use this superset of buildings of interest in the frontage assignment algorithm that follows. Later on, we'll select just the blockfaces we care about (were this analysis productionized, this is what a user would do in an app), and exclude all buildings that don't have any frontages attached to those blockfaces."
   ]
  },
  {
   "cell_type": "markdown",
   "metadata": {},
   "source": [
    "At this point we have:\n",
    "\n",
    "* A relevant subselection of blocks from the survey zone.\n",
    "* A relevant subselection of buildings from the survey zone.\n",
    "* Blockfaces for every block in the city.\n",
    "\n",
    "We can assign each building in our sub-selection to a frontage: a stretch of a blockface that is nearest to a building. Thus buildings have a 1-to-N relationship to frontages (a single building many have many frontages), which have an N-to-1 relationship to blockfaces (a blockface may have multiple frontages, each one belonging to a specific chunk of the blockface), which have an N-to-1 relationship to blocks (a block has multiple blockfaces)."
   ]
  },
  {
   "cell_type": "code",
   "execution_count": 99,
   "metadata": {},
   "outputs": [
    {
     "name": "stderr",
     "output_type": "stream",
     "text": [
      "100%|██████████| 8/8 [00:01<00:00,  5.51it/s]\n"
     ]
    },
    {
     "name": "stdout",
     "output_type": "stream",
     "text": [
      "CPU times: user 1.58 s, sys: 32.7 ms, total: 1.61 s\n",
      "Wall time: 1.65 s\n"
     ]
    }
   ],
   "source": [
    "%%time\n",
    "\n",
    "frontages_of_interest = sm.frontages_on_blockfaces(\n",
    "    blocks_of_interest, blockfaces, buildings_of_interest,\n",
    "    blocks_uid_col='block_id',\n",
    "    buildings_uid_col='building_id',\n",
    "    blockfaces_block_uid_col='block_id', \n",
    "    buildings_block_uid_col='block_id',\n",
    "    step_size=0.01\n",
    ")"
   ]
  },
  {
   "cell_type": "code",
   "execution_count": 100,
   "metadata": {},
   "outputs": [
    {
     "data": {
      "text/plain": [
       "<matplotlib.axes._subplots.AxesSubplot at 0x12a4a9cf8>"
      ]
     },
     "execution_count": 100,
     "metadata": {},
     "output_type": "execute_result"
    },
    {
     "data": {
      "image/png": "[encoded data removed]",
      "text/plain": [
       "<Figure size 576x432 with 1 Axes>"
      ]
     },
     "metadata": {
      "needs_background": "light"
     },
     "output_type": "display_data"
    }
   ],
   "source": [
    "gplt.sankey(frontages_of_interest)"
   ]
  },
  {
   "cell_type": "markdown",
   "metadata": {},
   "source": [
    "Our survey zone is just the four streets on Polk. We filter to just those segments:"
   ]
  },
  {
   "cell_type": "code",
   "execution_count": 101,
   "metadata": {},
   "outputs": [
    {
     "data": {
      "text/plain": [
       "<matplotlib.axes._subplots.AxesSubplot at 0x1271c8da0>"
      ]
     },
     "execution_count": 101,
     "metadata": {},
     "output_type": "execute_result"
    },
    {
     "data": {
      "image/png": "[encoded data removed]",
      "text/plain": [
       "<Figure size 576x432 with 1 Axes>"
      ]
     },
     "metadata": {
      "needs_background": "light"
     },
     "output_type": "display_data"
    }
   ],
   "source": [
    "frontage_selection_area = Polygon(\n",
    "          [\n",
    "            [\n",
    "              -122.4227786064148,\n",
    "              37.79978969479967\n",
    "            ],\n",
    "            [\n",
    "              -122.42189884185791,\n",
    "              37.79557627317823\n",
    "            ],\n",
    "            [\n",
    "              -122.42151260375975,\n",
    "              37.795618662922415\n",
    "            ],\n",
    "            [\n",
    "              -122.4223494529724,\n",
    "              37.79985751451035\n",
    "            ],\n",
    "            [\n",
    "              -122.4227786064148,\n",
    "              37.79978969479967\n",
    "            ]\n",
    "          ]\n",
    "\n",
    ")\n",
    "\n",
    "extent = frontages_of_interest.total_bounds\n",
    "ax = gplt.sankey(frontages_of_interest, color='black')\n",
    "frontages_of_interest = sm.select_area_of_interest(frontages_of_interest, frontage_selection_area)\n",
    "frontages_of_interest = (frontages_of_interest\n",
    " .reset_index(drop=True)\n",
    " .iloc[[v for v in range(len(frontages_of_interest)) if v not in [26, 43]]]\n",
    " .reset_index(drop=True)\n",
    ")\n",
    "gplt.sankey(frontages_of_interest, ax=ax, extent=extent, linewidth=3)"
   ]
  },
  {
   "cell_type": "markdown",
   "metadata": {},
   "source": [
    "Recall that we have not completely filtered the buildings. With the frontages we care about selected, we can now easily back up back to the buildings:"
   ]
  },
  {
   "cell_type": "code",
   "execution_count": 102,
   "metadata": {},
   "outputs": [
    {
     "data": {
      "text/plain": [
       "<matplotlib.axes._subplots.AxesSubplot at 0x1248947f0>"
      ]
     },
     "execution_count": 102,
     "metadata": {},
     "output_type": "execute_result"
    },
    {
     "data": {
      "image/png": "[encoded data removed]",
      "text/plain": [
       "<Figure size 576x432 with 1 Axes>"
      ]
     },
     "metadata": {
      "needs_background": "light"
     },
     "output_type": "display_data"
    }
   ],
   "source": [
    "extent = buildings_of_interest.total_bounds\n",
    "ax = gplt.polyplot(buildings_of_interest, edgecolor='None', facecolor='lightgray')\n",
    "buildings_of_interest =\\\n",
    "    buildings_of_interest[buildings_of_interest['building_id'].isin(frontages_of_interest['building_id'])]\n",
    "gplt.polyplot(buildings_of_interest, edgecolor='None', facecolor='steelblue', ax=ax, extent=extent)"
   ]
  },
  {
   "cell_type": "markdown",
   "metadata": {},
   "source": [
    "**TODO**: redress the four buildings that should have been included, but weren't."
   ]
  },
  {
   "cell_type": "markdown",
   "metadata": {},
   "source": [
    "At this point we have all the geometries we need."
   ]
  },
  {
   "cell_type": "code",
   "execution_count": 103,
   "metadata": {},
   "outputs": [
    {
     "data": {
      "text/plain": [
       "<matplotlib.axes._subplots.AxesSubplot at 0x11e96d358>"
      ]
     },
     "execution_count": 103,
     "metadata": {},
     "output_type": "execute_result"
    },
    {
     "data": {
      "image/png": "[encoded data removed]",
      "text/plain": [
       "<Figure size 576x432 with 1 Axes>"
      ]
     },
     "metadata": {
      "needs_background": "light"
     },
     "output_type": "display_data"
    }
   ],
   "source": [
    "ax = gplt.polyplot(buildings_of_interest)\n",
    "gplt.sankey(frontages_of_interest, ax=ax)\n",
    "gplt.polyplot(blocks_of_interest, ax=ax)"
   ]
  },
  {
   "cell_type": "markdown",
   "metadata": {},
   "source": [
    "This `GeoDataFrame` samples shows how the relationship between frontage (unique ID `frontage_id`, which is derived from `building_id`) and `blockface_id` (and from there, `building_id` and `block_id`) is encoded. Each blockface is divided into `n` frontages, each of which is responsible for a certain subsegment of the blockface. The exact span is that encoded by the `geom_offset_end` and `geom_offset_start` values, where 0 is the position of the first point in the blockface and 1 is the position of the last, relative to the total length of the blockface line. Offsets are rounded to the nearest .01 due to how this operation is implemented."
   ]
  },
  {
   "cell_type": "markdown",
   "metadata": {},
   "source": [
    "### Adding contextual information\n",
    "\n",
    "Everything we have done so far has been automated parsing, now it's time to add some human-generated information into the mix. There is limited information that we can gather about our features of interest in an automated manner in the scope of this project. We instead opted to gather certain types of rich contextual information manually. These are:\n",
    "\n",
    "* The types of businesses in the building, e.g. barber, bar, corner store, etc.\n",
    "* The average Yelp rating of those businesses.\n",
    "* The average Yelp \\$ rating of those businesses."
   ]
  },
  {
   "cell_type": "code",
   "execution_count": null,
   "metadata": {},
   "outputs": [],
   "source": [
    "len(buildings_of_interest)"
   ]
  },
  {
   "cell_type": "code",
   "execution_count": null,
   "metadata": {},
   "outputs": [],
   "source": [
    "import mplleaflet\n",
    "gplt.polyplot(buildings_of_interest.iloc[[46]])\n",
    "mplleaflet.show()"
   ]
  },
  {
   "cell_type": "code",
   "execution_count": null,
   "metadata": {},
   "outputs": [],
   "source": [
    "import numpy as np\n",
    "\n",
    "# notes: including \"bagels stores\" under \"bakery\".\n",
    "# indexed per-building and constructed by hand\n",
    "building_class_data =\\\n",
    "{\n",
    "    '5D4F4266_20D0_4676_B7ED_6D0E64DD92BF': [\n",
    "        ['Cole Hardware', 'Fiorella Polk', 'Philz Coffee', 'The Boy\\'s Deli', 'Polk & Green Produce Market'],\n",
    "        ['Hardware Store', 'Pizza Shop', 'Coffee Shop', 'Convenience Store', 'Supermarket'],\n",
    "        [4.5, 4, np.nan, np.nan, 4.5, 1],\n",
    "        [2, np.nan, np.nan, 4, 2]\n",
    "    ],\n",
    "    # the below was formerly the building occuped by Escape from New York, which was very dirty\n",
    "    '561F8CF4_1948_443E_BB07_14D9481FF5B9': [\n",
    "        ['Teaspoon San Francisco', 'MAC\\'D', 'Nick\\'s Crispy Tacos', 'Rogue Night Club'],\n",
    "        ['Bubble Tea', 'Restaurant', 'Nightclub'],\n",
    "        [4, 4, 4, 2.5],\n",
    "        [1, 1, 1, 2]\n",
    "    ],\n",
    "    '31780D91_F8DE_42C8_8F19_0C383DA4859C': [\n",
    "        ['Crunch Fitness'],\n",
    "        ['Gym'],\n",
    "        [3],\n",
    "        [np.nan]\n",
    "    ],\n",
    "    'D99FD788_E73D_44D6_9877_1742C12E5DC1': [\n",
    "        ['Residential'],\n",
    "        ['Residential'],\n",
    "        [np.nan],\n",
    "        [np.nan]\n",
    "    ],\n",
    "    '4BC908C6_542E_4BEC_9E5A_85C6FC9D5AC4': [\n",
    "        ['Walgreen\\'s'],\n",
    "        ['Convenience Store', 'Pharmacy'],\n",
    "        [3.5],\n",
    "        [1]\n",
    "    ],\n",
    "    'D0C1A69D_B035_41B9_AE6E_D34A9B394393': [\n",
    "        ['Lemongrass Thai Cuisine', 'Saint Frank Coffee'],\n",
    "        ['Restaurant', 'Coffee Shop'],\n",
    "        [3.5, 4.5],\n",
    "        [2, 1]\n",
    "    ],\n",
    "    'D32097DD_5E72_4125_8BB1_8590C4CFFB33': [\n",
    "        ['Street Restaurant and Bar', 'Peet\\'s Coffee', 'Bagelry'],\n",
    "        ['Restaurant', 'Bar', 'Coffee Shop', 'Bakery'],\n",
    "        [4, 4, 3.5],\n",
    "        [2, 1, 1]\n",
    "    ],\n",
    "    'D11DE3ED_DA84_49B5_928F_088942F1027D': [\n",
    "        ['Bow Wow Meow SF', 'Russian Hill Bookstore'],\n",
    "        ['Pet Store', 'Bookstore'],\n",
    "        [3.5, 4],\n",
    "        [np.nan, 2]\n",
    "    ],\n",
    "    '2311A996_5CDB_40AB_AD60_7AFE98A2E81D': [\n",
    "        ['Backstage Salon', 'Real Food Company'],\n",
    "        ['Salon', 'Grocery Store'],\n",
    "        [4.5, 2],\n",
    "        [3, 3]\n",
    "    ],\n",
    "    '2E3DF4D4_6266_4632_9318_82315E036985': [\n",
    "        ['Belso Home & Garden by FL!PP'],\n",
    "        ['Home Decor'],\n",
    "        [5],\n",
    "        [2]\n",
    "    ],\n",
    "    '8127AC2E_1D16_4781_AE54_DA60A5A2E215': [\n",
    "        ['Best Choice Cleaners'],\n",
    "        ['Laundromat'],\n",
    "        [4],\n",
    "        [1]\n",
    "    ],\n",
    "    '1AE9E9B8_DAC9_4B02_9D32_D90DACADB4CB': [\n",
    "        ['Loving Cup', 'No.3'],\n",
    "        ['Coffee Shop', 'Jewelry Store'],\n",
    "        [4, 1],\n",
    "        [5, 3]\n",
    "    ],\n",
    "    'C5CC6D88_2842_48DE_B1A2_44D996DE3C78': [\n",
    "        ['Vacant'],\n",
    "        ['Vacant'],\n",
    "        [np.nan],\n",
    "        [np.nan]\n",
    "    ],\n",
    "    '1CB6F0E0_0CEA_4743_9A2C_4ED9BEA24A68': [\n",
    "        ['Starbucks'],\n",
    "        ['Coffee Shop'],\n",
    "        [2.5],\n",
    "        [1]\n",
    "    ],\n",
    "    '574509F5_F656_4291_92F5_4B043728E61D': [\n",
    "        ['Royal Ground Coffee'],\n",
    "        ['Coffee Shop'],\n",
    "        [4],\n",
    "        [1]\n",
    "    ],\n",
    "    'D21D498F_0976_44E3_B9B7_67D355ED7DF8': [\n",
    "        ['Polk Street Cleaners'],\n",
    "        ['Laundromat'],\n",
    "        [3],\n",
    "        [2]\n",
    "    ],\n",
    "    '5423D79A_34D5_41C3_9B7A_2E4E5949BCF5': [\n",
    "        ['Leopold\\'s'],\n",
    "        ['Restaurant'],\n",
    "        [4.5],\n",
    "        [2]\n",
    "    ],\n",
    "    'C84A3FBA_F146_4A30_A2D7_FA9892831308': [\n",
    "        ['Best Choice Cleaners'],\n",
    "        ['Laundromat'],\n",
    "        [4],\n",
    "        [2]\n",
    "    ],\n",
    "    'C64D3FDB_CF39_412F_BDF9_C1C3867738E1': [\n",
    "        ['Royal Oak', 'Sugar Society SF'],\n",
    "        ['Bar', 'Spray Tanning'],\n",
    "        [3, 5],\n",
    "        [2, 2]\n",
    "    ],\n",
    "    'A72E4092_C2AD_411D_9A56_CDD2DDDABB84': [\n",
    "        ['Vacant'],\n",
    "        ['Vacant'],\n",
    "        [np.nan],\n",
    "        [np.nan]\n",
    "    ],\n",
    "    '034904B1_6E6D_4FE3_BCB3_5DF151831DE5': [\n",
    "        ['Les Cent Culottes'],\n",
    "        ['Lingerie Store'],\n",
    "        [4],\n",
    "        [3]\n",
    "    ],\n",
    "    'A3D97542_0E4C_4FC9_A8B9_FFD503B7982E': [\n",
    "        ['Tulip Salon'],\n",
    "        ['Salon'],\n",
    "        [4.5],\n",
    "        [2]\n",
    "    ],\n",
    "    'FCC0D9EB_D614_4055_A3A3_DB3D904B959F': [\n",
    "        ['Cresta\\'s Twenty Two Eleven Club', 'Bullitt'],\n",
    "        ['Bar', 'Bar'],\n",
    "        [4.5, 3],\n",
    "        [1, 2]\n",
    "    ],\n",
    "    '20310060_D1C6_4715_84BC_70AA48DE916A': [\n",
    "        ['Woods Polk Station', 'Project Juice'],\n",
    "        ['Bar', 'Juice and Smoothie Bar'],\n",
    "        [4, 2],\n",
    "        [2, 2]\n",
    "    ],\n",
    "    '79B34F88_1AE9_4AB3_96FB_C4661FE8CEA1': [\n",
    "        ['Optical Works Eyewear'],\n",
    "        ['Optician'],\n",
    "        [5],\n",
    "        [2]\n",
    "    ],\n",
    "    '4CC39306_F6E9_4071_9E16_4DB10BED0D05': [\n",
    "        ['Split'],\n",
    "        ['Restaurant'],\n",
    "        [3.5],\n",
    "        [2]        \n",
    "    ],\n",
    "    '160C3C1F_347E_480A_B890_130B43C7A97D': [\n",
    "        ['Smoke Signals', 'House Rules'],\n",
    "        ['Cigar Shop', 'Bar'],\n",
    "        [5, 4],\n",
    "        [2, 2]        \n",
    "    ],\n",
    "    '3904CC8B_AB17_4571_9318_7F5E6B4E6D3A': [\n",
    "        ['Residential'],\n",
    "        ['Residential'],\n",
    "        [np.nan],\n",
    "        [np.nan]\n",
    "    ],\n",
    "    '685BC04F_97DC_492E_B6F5_487FC054B4BE': [\n",
    "        ['Blue Barn'],\n",
    "        ['Restaurant'],\n",
    "        [4],\n",
    "        [2]\n",
    "    ],\n",
    "    'C04E26FB_B8AD_4DC2_AA57_2D26CC20F479': [\n",
    "        ['Residential'],\n",
    "        ['Residential'],\n",
    "        [np.nan],\n",
    "        [np.nan]\n",
    "    ],\n",
    "    '48D0D3C4_BBA4_4FB0_9BB0_9F03D0A1117D': [\n",
    "        ['Residential'],\n",
    "        ['Residential'],\n",
    "        [np.nan],\n",
    "        [np.nan]\n",
    "    ],\n",
    "    'DD6801D5_4B09_4995_8625_175D5A39707F': [\n",
    "        ['Residential'],\n",
    "        ['Residential'],\n",
    "        [np.nan],\n",
    "        [np.nan]        \n",
    "    ],\n",
    "    '504D27C7_8110_45EA_960F_CC1965FBB564': [\n",
    "        ['Greens Sports Bar'],\n",
    "        ['Bar'],\n",
    "        [3.5],\n",
    "        [1]\n",
    "    ],\n",
    "    'B6110223_D173_4463_8DEB_2FDA83536EA0': [\n",
    "        ['La Folie'],\n",
    "        ['Wine Bar'],\n",
    "        [4.5],\n",
    "        [4]\n",
    "    ],\n",
    "    'E8EDE761_E216_43BA_A035_BF797CAE87CC': [\n",
    "        ['Cocoon Bare'],\n",
    "        ['Salon'],\n",
    "        [4.5],\n",
    "        [2]        \n",
    "    ],\n",
    "    '7698EF27_E3CF_47EE_B096_8F04C4FAB369': [\n",
    "        ['William Cross Wine Merchants & Wine Bar'],\n",
    "        ['Alcohol Store', 'Wine Bar'],\n",
    "        [4.5],\n",
    "        [2]\n",
    "    ],\n",
    "    'CDF0835C_E84F_49E2_93B2_F506EDEA7636': [\n",
    "        ['Vacant'],\n",
    "        ['Vacant'],\n",
    "        [np.nan],\n",
    "        [np.nan]\n",
    "    ],\n",
    "    'D042970E_5E3F_4384_90D1_E8E7E12D4604': [\n",
    "        ['Ferme à Papier by Cat Seto'],\n",
    "        ['Stationery Store'],\n",
    "        [4.5],\n",
    "        [2]\n",
    "    ],\n",
    "    '5A9A69CD_62F1_47F2_B4E0_EF7DB2DD9A88': [        \n",
    "        ['Vacant'],\n",
    "        ['Vacant'],\n",
    "        [np.nan],\n",
    "        [np.nan]\n",
    "    ],\n",
    "    '812F1BF4_C5E5_4A98_9C11_CB77AA148CC6': [\n",
    "        ['The New Spot On Polk'],\n",
    "        ['Coffee Shop'],\n",
    "        [4.5],\n",
    "        [2]\n",
    "    ],\n",
    "    '41C761F2_B097_4C04_95BC_0D31E086A8CD': [\n",
    "        ['Residential'],\n",
    "        ['Residential'],\n",
    "        [np.nan],\n",
    "        [np.nan]\n",
    "    ],\n",
    "    'B16328D1_BE81_448E_A468_FE2692B4C6A9': [\n",
    "        ['Fueling Station Cafe'],\n",
    "        ['Coffee Shop'],\n",
    "        [4.5],\n",
    "        [1]\n",
    "    ],\n",
    "    'FB1BE0F4_6014_4D9C_AA0D_E4A2B844A60A': [\n",
    "        ['Pelo Fitness - San Francisco', 'Aux Delices', 'Mezcalito'],\n",
    "        ['Gym', 'Restaurant', 'Bar'],\n",
    "        [5, 4, 3.5],\n",
    "        [np.nan, 2, 2]\n",
    "    ],\n",
    "    '4BA419C4_FA2F_4F24_8FE4_831B67815447': [\n",
    "        ['Buccaneer', 'House of Sushi'],\n",
    "        ['Bar', 'Restaurant'],\n",
    "        [4, 3.5],\n",
    "        [1, 2]\n",
    "    ],\n",
    "    '63B4E43A_02B7_4CEC_800B_4A88B6B6A012': [\n",
    "        ['DE iPhone Repair'],\n",
    "        ['Phone Repair'],\n",
    "        [4.5],\n",
    "        [2]\n",
    "    ],\n",
    "    '35F0D1AA_CD20_41EA_BAB7_D0C046DE989A': [\n",
    "        ['Vacant'],\n",
    "        ['Vacant'],\n",
    "        [np.nan],\n",
    "        [np.nan]\n",
    "    ],\n",
    "    'DA143B09_64EF_40CA_BB42_D8B1BFB52019': [\n",
    "        ['Parking Lot'],\n",
    "        ['Parking Lot'],\n",
    "        [np.nan],\n",
    "        [np.nan]\n",
    "    ],\n",
    "    \n",
    "}"
   ]
  },
  {
   "cell_type": "markdown",
   "metadata": {},
   "source": [
    "With this manual assignment process done, we can attach this contextual information to the buildings data."
   ]
  },
  {
   "cell_type": "code",
   "execution_count": null,
   "metadata": {},
   "outputs": [],
   "source": [
    "# there are recipes for doing this but I brute-forced it because I don't remember them\n",
    "class_map = {val: n for n, val in enumerate(\n",
    "    np.unique(list(itertools.chain(*[np.array(building_class_data[d][1]) for d in building_class_data]))))\n",
    "}\n",
    "\n",
    "arr = np.zeros((len(building_class_data), len(class_map)))\n",
    "\n",
    "for n, lst in enumerate([building_class_data[d][1] for d in building_class_data]):\n",
    "    for elem in lst:\n",
    "        arr[n][class_map[elem]] = 1\n",
    "        \n",
    "class_map = {'has_' + key.replace(' ', '_').lower(): class_map[key] for key in class_map}"
   ]
  },
  {
   "cell_type": "code",
   "execution_count": null,
   "metadata": {},
   "outputs": [],
   "source": [
    "def nan_avg(lst):\n",
    "    if pd.isnull(lst).all():\n",
    "        return np.nan\n",
    "    else:\n",
    "        return np.average([l for l in lst if pd.notnull(l)])\n",
    "\n",
    "def nan_max(lst):\n",
    "    if pd.isnull(lst).all():\n",
    "        return np.nan\n",
    "    else:\n",
    "        return np.max([l for l in lst if pd.notnull(l)])\n",
    "\n",
    "def nan_min(lst):\n",
    "    if pd.isnull(lst).all():\n",
    "        return np.nan\n",
    "    else:\n",
    "        return np.max([l for l in lst if pd.notnull(l)])\n",
    "\n",
    "    \n",
    "processed_buildings_of_interest = (buildings_of_interest.set_index('building_id').assign(\n",
    "    n_businesses=pd.Series({d: len(building_class_data[d][0]) for d in building_class_data}),\n",
    "    max_yelp_stars=pd.Series(\n",
    "        {d: np.nanmax(building_class_data[d][2]) for d in building_class_data}\n",
    "    ),\n",
    "    min_yelp_stars=pd.Series(\n",
    "        {d: np.nanmin(building_class_data[d][2]) for d in building_class_data}\n",
    "    ),\n",
    "    avg_yelp_stars=pd.Series(\n",
    "        {d: np.nanmean(building_class_data[d][2]) for d in building_class_data}\n",
    "    ),\n",
    "    max_yelp_dollars=pd.Series(\n",
    "        {d: np.nanmax(building_class_data[d][3]) for d in building_class_data}\n",
    "    ),\n",
    "    min_yelp_dollars=pd.Series(\n",
    "        {d: np.nanmin(building_class_data[d][3]) for d in building_class_data}\n",
    "    ),\n",
    "    avg_yelp_dollars=pd.Series(\n",
    "        {d: np.nanmean(building_class_data[d][3]) for d in building_class_data}\n",
    "    )\n",
    ")\n",
    " .reset_index()\n",
    " .join(pd.DataFrame(arr, columns=class_map))\n",
    " .set_index('building_id')\n",
    " .iloc[:, 40:]\n",
    " .pipe(lambda df: df.drop(columns=[c for c in df if '10' in c]))\n",
    ")"
   ]
  },
  {
   "cell_type": "markdown",
   "metadata": {},
   "source": [
    "## Save to disk"
   ]
  },
  {
   "cell_type": "code",
   "execution_count": null,
   "metadata": {},
   "outputs": [],
   "source": [
    "!mkdir ../../data/processed/"
   ]
  },
  {
   "cell_type": "code",
   "execution_count": null,
   "metadata": {},
   "outputs": [],
   "source": [
    "processed_buildings_of_interest.reset_index().to_file('../../data/processed/buildings.json', driver='GeoJSON')"
   ]
  },
  {
   "cell_type": "code",
   "execution_count": null,
   "metadata": {},
   "outputs": [],
   "source": [
    "blocks_of_interest.to_file('../../data/processed/blocks.json', driver='GeoJSON')"
   ]
  },
  {
   "cell_type": "code",
   "execution_count": 104,
   "metadata": {},
   "outputs": [],
   "source": [
    "frontages_of_interest.to_file('../../data/processed/frontages.json', driver='GeoJSON')"
   ]
  },
  {
   "cell_type": "code",
   "execution_count": null,
   "metadata": {},
   "outputs": [],
   "source": [
    "blockfaces_of_interest = blockfaces[blockfaces.block_id.isin(blocks_of_interest.block_id.values)]\n",
    "blockfaces_of_interest.to_file('../../data/processed/blockfaces.json', driver='GeoJSON')"
   ]
  },
  {
   "cell_type": "markdown",
   "metadata": {},
   "source": [
    "## Process trash data"
   ]
  },
  {
   "cell_type": "code",
   "execution_count": 105,
   "metadata": {},
   "outputs": [
    {
     "name": "stderr",
     "output_type": "stream",
     "text": [
      "/Users/alex/miniconda3/envs/trash-talk-dev/lib/python3.7/site-packages/IPython/core/interactiveshell.py:3049: DtypeWarning: Columns (18) have mixed types. Specify dtype option on import or set low_memory=False.\n",
      "  interactivity=interactivity, compiler=compiler, result=result)\n"
     ]
    }
   ],
   "source": [
    "trash = pd.concat([\n",
    "    pd.read_csv('../../data/rubbish_stories_2018-08-01_2018-10-31.csv'),\n",
    "    pd.read_csv('../../data/rubbish_stories_2018-08-01_2019-07-02.csv')\n",
    "])"
   ]
  },
  {
   "cell_type": "code",
   "execution_count": 106,
   "metadata": {},
   "outputs": [],
   "source": [
    "frontages_of_interest = gpd.read_file('../../data/processed/frontages.json')"
   ]
  },
  {
   "cell_type": "code",
   "execution_count": 107,
   "metadata": {},
   "outputs": [],
   "source": [
    "from shapely.geometry import Point"
   ]
  },
  {
   "cell_type": "code",
   "execution_count": 108,
   "metadata": {},
   "outputs": [
    {
     "name": "stdout",
     "output_type": "stream",
     "text": [
      "CPU times: user 4.89 s, sys: 87 ms, total: 4.98 s\n",
      "Wall time: 5.03 s\n"
     ]
    }
   ],
   "source": [
    "%%time\n",
    "\n",
    "trash = gpd.GeoDataFrame(\n",
    "    trash,\n",
    "    geometry=trash.apply(lambda srs: Point(srs.long, srs.lat), axis='columns')\n",
    ")"
   ]
  },
  {
   "cell_type": "code",
   "execution_count": 109,
   "metadata": {},
   "outputs": [],
   "source": [
    "import streetmapper as sm"
   ]
  },
  {
   "cell_type": "code",
   "execution_count": 110,
   "metadata": {},
   "outputs": [
    {
     "name": "stdout",
     "output_type": "stream",
     "text": [
      "CPU times: user 7min 8s, sys: 7.15 s, total: 7min 15s\n",
      "Wall time: 7min 36s\n"
     ]
    }
   ],
   "source": [
    "%%time\n",
    "\n",
    "trash = sm.points_on_frontages(trash, frontages_of_interest)"
   ]
  },
  {
   "cell_type": "code",
   "execution_count": 111,
   "metadata": {},
   "outputs": [
    {
     "name": "stdout",
     "output_type": "stream",
     "text": [
      "CPU times: user 51.1 s, sys: 747 ms, total: 51.8 s\n",
      "Wall time: 52.2 s\n"
     ]
    }
   ],
   "source": [
    "%time trash.to_file('../../data/processed/trash.json', driver='GeoJSON')"
   ]
  }
 ],
 "metadata": {
  "kernelspec": {
   "display_name": "Python 3",
   "language": "python",
   "name": "python3"
  },
  "language_info": {
   "codemirror_mode": {
    "name": "ipython",
    "version": 3
   },
   "file_extension": ".py",
   "mimetype": "text/x-python",
   "name": "python",
   "nbconvert_exporter": "python",
   "pygments_lexer": "ipython3",
   "version": "3.7.3"
  }
 },
 "nbformat": 4,
 "nbformat_minor": 2
}
