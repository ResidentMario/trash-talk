{
 "cells": [
  {
   "cell_type": "markdown",
   "metadata": {},
   "source": [
    "# Supplemental work\n",
    "\n",
    "After meeting with the team again, we determined that were a few additional things we wanted to tweak and/or try out."
   ]
  },
  {
   "cell_type": "code",
   "execution_count": 1,
   "metadata": {},
   "outputs": [
    {
     "name": "stdout",
     "output_type": "stream",
     "text": [
      "CPU times: user 20.7 s, sys: 1 s, total: 21.7 s\n",
      "Wall time: 22.4 s\n"
     ]
    }
   ],
   "source": [
    "%%time\n",
    "\n",
    "import geopandas as gpd\n",
    "import pandas as pd\n",
    "import geoplot as gplt\n",
    "import geoplot.crs as gcrs\n",
    "import numpy as np\n",
    "import seaborn as sns\n",
    "\n",
    "import matplotlib.pyplot as plt\n",
    "plt.style.use('fivethirtyeight')\n",
    "%matplotlib inline\n",
    "\n",
    "frontages = gpd.read_file('../../data/processed/frontages.json').set_index('frontage_id')\n",
    "blocks = gpd.read_file('../../data/processed/blocks.json').set_index('block_id')\n",
    "buildings = gpd.read_file('../../data/processed/buildings.json').set_index('building_id')\n",
    "blockfaces = gpd.read_file('../../data/processed/blockfaces.json').set_index('blockface_id')\n",
    "sf = gpd.read_file('https://raw.githubusercontent.com/ResidentMario/geoplot-data/master/san-francisco.geojson')\n",
    "\n",
    "trash = gpd.read_file('../../data/processed/trash.json').set_index('id')\n",
    "trash = trash.assign(\n",
    "    time=pd.to_datetime(trash.time)\n",
    ")\n",
    "filter_dates = (trash\n",
    " .assign(n=0)\n",
    " .set_index('time')\n",
    " .resample('D')\n",
    " .n.count()\n",
    " .where(lambda v: v < 100)\n",
    " .dropna()\n",
    " .index\n",
    ")\n",
    "trash = trash[~trash.time.map(lambda v: v.replace(hour=0, minute=0, second=0)).isin(filter_dates)]\n",
    "trash = trash.drop(columns=['isSponsored', 'isValidated', 'likes'])\n",
    "trash = trash[trash['time'] >= pd.to_datetime('October 1 2018')]"
   ]
  },
  {
   "cell_type": "code",
   "execution_count": 2,
   "metadata": {},
   "outputs": [
    {
     "name": "stderr",
     "output_type": "stream",
     "text": [
      "/Users/alex/miniconda3/envs/trash-talk-dev/lib/python3.7/site-packages/geopandas/tools/sjoin.py:56: UserWarning: CRS of frames being joined does not match!({'init': 'epsg:4326'} != None)\n",
      "  '(%s != %s)' % (left_df.crs, right_df.crs))\n"
     ]
    },
    {
     "name": "stdout",
     "output_type": "stream",
     "text": [
      "CPU times: user 6.13 s, sys: 179 ms, total: 6.31 s\n",
      "Wall time: 7.52 s\n"
     ]
    }
   ],
   "source": [
    "%%time\n",
    "\n",
    "trash = (\n",
    "    gpd.sjoin(\n",
    "        trash, gpd.GeoDataFrame([], geometry=[frontages.unary_union.buffer(0.0005)]),\n",
    "        how=\"inner\", op='intersects'\n",
    "    )\n",
    ")"
   ]
  },
  {
   "cell_type": "code",
   "execution_count": 3,
   "metadata": {},
   "outputs": [
    {
     "name": "stdout",
     "output_type": "stream",
     "text": [
      "CPU times: user 1min 4s, sys: 1.33 s, total: 1min 5s\n",
      "Wall time: 1min 29s\n"
     ]
    }
   ],
   "source": [
    "%%time\n",
    "\n",
    "import spaghetti as spgh\n",
    "net = spgh.Network(in_data=frontages)\n",
    "net.snapobservations(trash, 'trash')\n",
    "updated_trash_points = spgh.element_as_gdf(net, pp_name='trash', snapped=True)"
   ]
  },
  {
   "cell_type": "code",
   "execution_count": 4,
   "metadata": {},
   "outputs": [
    {
     "name": "stdout",
     "output_type": "stream",
     "text": [
      "CPU times: user 10.9 s, sys: 256 ms, total: 11.2 s\n",
      "Wall time: 16.8 s\n"
     ]
    }
   ],
   "source": [
    "%%time\n",
    "\n",
    "from shapely.geometry import Point\n",
    "\n",
    "trash_point_distances = (\n",
    "    updated_trash_points.geometry.distance(Point(*frontages.total_bounds[[0, 3]])) * (360 / 0.001)\n",
    ")\n",
    "\n",
    "A = Point(frontages.total_bounds[[0, 3]])\n",
    "B = Point(frontages.total_bounds[[2, 1]])\n",
    "\n",
    "def lr(p):\n",
    "    return 'right' if (B.x - A.x) * (p.y - A.y) - (B.y - A.y) * (p.x - A.x) > 0 else 'left'\n",
    "\n",
    "trash = trash.assign(\n",
    "    side=trash.geometry.map(lr),\n",
    "    snap_distance=trash_point_distances.values,\n",
    "    snap_geometry=updated_trash_points.geometry.values\n",
    ")"
   ]
  },
  {
   "cell_type": "code",
   "execution_count": 5,
   "metadata": {},
   "outputs": [],
   "source": [
    "trash = trash.assign(type=trash['type'].map(lambda v: v if v != 'bottlesCans' else 'plastic'))"
   ]
  },
  {
   "cell_type": "markdown",
   "metadata": {},
   "source": [
    "## Boxplot of business types\n",
    "\n",
    "A cleaned up version of an exploratory plot communicating the fact that businesses are very similar to one another in trash volume, on average.\n",
    "\n",
    "We originally discussed a violinplot, but this plot type does not show effects as clearly as a boxplot does when (as here) the number of elements is small."
   ]
  },
  {
   "cell_type": "code",
   "execution_count": 6,
   "metadata": {},
   "outputs": [
    {
     "data": {
      "image/png": "[encoded data removed]",
      "text/plain": [
       "<Figure size 864x576 with 1 Axes>"
      ]
     },
     "metadata": {
      "needs_background": "light"
     },
     "output_type": "display_data"
    }
   ],
   "source": [
    "bldg_frontage_lengths = (\n",
    "    frontages.groupby('building_id').geometry.apply(lambda srs: srs.length.sum()) * (360 / 0.001)\n",
    ")\n",
    "\n",
    "n_days = (trash.time.max() - trash.time.min()).days\n",
    "bldg_trash_per_unit_length = (\n",
    " trash\n",
    " .set_index('building_id')\n",
    " .join(buildings, how='left', lsuffix='_trash', rsuffix='_building')\n",
    " .reset_index()\n",
    " .groupby('building_id')\n",
    " .apply(lambda df: len(df) / n_days * 365 / bldg_frontage_lengths[df.name])\n",
    " .rename('trash_density')\n",
    " .to_frame()\n",
    " .assign(avg_yelp_stars=buildings['avg_yelp_stars'])\n",
    ")\n",
    "\n",
    "rows = []\n",
    "\n",
    "for c in [c for c in buildings.columns if 'has_' in c]:\n",
    "    _type = c[4:]\n",
    "    for building_id, srs in buildings[c].iteritems():\n",
    "        if buildings.loc[building_id, 'has_' + _type]:\n",
    "            rows.append([building_id, _type])\n",
    "\n",
    "bldg_business_types = (\n",
    "    pd.DataFrame(rows, columns=['building_id', 'business_type'])\n",
    "    .set_index('building_id')\n",
    "    .assign(trash_rate=bldg_trash_per_unit_length.trash_density)\n",
    ")\n",
    "\n",
    "fig, ax = plt.subplots(1, figsize=(12, 8))\n",
    "plt.style.use('seaborn-poster')\n",
    "sns.set_style('white')\n",
    "\n",
    "sns.boxplot(\n",
    "    data=bldg_business_types.assign(\n",
    "        business_type=bldg_business_types.business_type.map(\n",
    "            lambda v: v if v in ['bar', 'coffee_shop', 'restaurant'] else 'other'\n",
    "        )\n",
    "    ).pipe(lambda df: df.assign(business_type=df.business_type.str.title().str.replace('_', ' '))),\n",
    "    x='business_type', y='trash_rate', ax=ax,\n",
    "    order=['Restaurant', 'Bar', 'Coffee Shop', 'Other']\n",
    ")\n",
    "ax.set_xlabel(None)\n",
    "ax.set_ylabel(None)\n",
    "sns.despine()"
   ]
  },
  {
   "cell_type": "markdown",
   "metadata": {},
   "source": [
    "## Choropleth of block by trash volume"
   ]
  },
  {
   "cell_type": "code",
   "execution_count": 7,
   "metadata": {},
   "outputs": [
    {
     "data": {
      "text/html": [
       "<div>\n",
       "<style scoped>\n",
       "    .dataframe tbody tr th:only-of-type {\n",
       "        vertical-align: middle;\n",
       "    }\n",
       "\n",
       "    .dataframe tbody tr th {\n",
       "        vertical-align: top;\n",
       "    }\n",
       "\n",
       "    .dataframe thead th {\n",
       "        text-align: right;\n",
       "    }\n",
       "</style>\n",
       "<table border=\"1\" class=\"dataframe\">\n",
       "  <thead>\n",
       "    <tr style=\"text-align: right;\">\n",
       "      <th></th>\n",
       "      <th>statefp10</th>\n",
       "      <th>mtfcc10</th>\n",
       "      <th>uace10</th>\n",
       "      <th>name10</th>\n",
       "      <th>intptlat10</th>\n",
       "      <th>blockce10</th>\n",
       "      <th>awater10</th>\n",
       "      <th>funcstat10</th>\n",
       "      <th>aland10</th>\n",
       "      <th>tractce10</th>\n",
       "      <th>intptlon10</th>\n",
       "      <th>ur10</th>\n",
       "      <th>countyfp10</th>\n",
       "      <th>geometry</th>\n",
       "    </tr>\n",
       "    <tr>\n",
       "      <th>block_id</th>\n",
       "      <th></th>\n",
       "      <th></th>\n",
       "      <th></th>\n",
       "      <th></th>\n",
       "      <th></th>\n",
       "      <th></th>\n",
       "      <th></th>\n",
       "      <th></th>\n",
       "      <th></th>\n",
       "      <th></th>\n",
       "      <th></th>\n",
       "      <th></th>\n",
       "      <th></th>\n",
       "      <th></th>\n",
       "    </tr>\n",
       "  </thead>\n",
       "  <tbody>\n",
       "    <tr>\n",
       "      <th>060750109002002</th>\n",
       "      <td>06</td>\n",
       "      <td>G5040</td>\n",
       "      <td>None</td>\n",
       "      <td>Block 2002</td>\n",
       "      <td>+37.7974669</td>\n",
       "      <td>2002</td>\n",
       "      <td>0</td>\n",
       "      <td>S</td>\n",
       "      <td>15248</td>\n",
       "      <td>010900</td>\n",
       "      <td>-122.4212319</td>\n",
       "      <td>None</td>\n",
       "      <td>075</td>\n",
       "      <td>(POLYGON ((-122.420317 37.797109, -122.421961 ...</td>\n",
       "    </tr>\n",
       "    <tr>\n",
       "      <th>060750109002003</th>\n",
       "      <td>06</td>\n",
       "      <td>G5040</td>\n",
       "      <td>None</td>\n",
       "      <td>Block 2003</td>\n",
       "      <td>+37.7965361</td>\n",
       "      <td>2003</td>\n",
       "      <td>0</td>\n",
       "      <td>S</td>\n",
       "      <td>15480</td>\n",
       "      <td>010900</td>\n",
       "      <td>-122.4210349</td>\n",
       "      <td>None</td>\n",
       "      <td>075</td>\n",
       "      <td>(POLYGON ((-122.42011 37.796095, -122.420217 3...</td>\n",
       "    </tr>\n",
       "    <tr>\n",
       "      <th>060750109003000</th>\n",
       "      <td>06</td>\n",
       "      <td>G5040</td>\n",
       "      <td>None</td>\n",
       "      <td>Block 3000</td>\n",
       "      <td>+37.7993320</td>\n",
       "      <td>3000</td>\n",
       "      <td>0</td>\n",
       "      <td>S</td>\n",
       "      <td>15368</td>\n",
       "      <td>010900</td>\n",
       "      <td>-122.4216084</td>\n",
       "      <td>None</td>\n",
       "      <td>075</td>\n",
       "      <td>(POLYGON ((-122.420689 37.798971, -122.422337 ...</td>\n",
       "    </tr>\n",
       "    <tr>\n",
       "      <th>060750109003001</th>\n",
       "      <td>06</td>\n",
       "      <td>G5040</td>\n",
       "      <td>None</td>\n",
       "      <td>Block 3001</td>\n",
       "      <td>+37.7991292</td>\n",
       "      <td>3001</td>\n",
       "      <td>0</td>\n",
       "      <td>S</td>\n",
       "      <td>14520</td>\n",
       "      <td>010900</td>\n",
       "      <td>-122.4232078</td>\n",
       "      <td>None</td>\n",
       "      <td>075</td>\n",
       "      <td>(POLYGON ((-122.422337 37.798762, -122.423982 ...</td>\n",
       "    </tr>\n",
       "    <tr>\n",
       "      <th>060750109003003</th>\n",
       "      <td>06</td>\n",
       "      <td>G5040</td>\n",
       "      <td>None</td>\n",
       "      <td>Block 3003</td>\n",
       "      <td>+37.7981949</td>\n",
       "      <td>3003</td>\n",
       "      <td>0</td>\n",
       "      <td>S</td>\n",
       "      <td>14572</td>\n",
       "      <td>010900</td>\n",
       "      <td>-122.4230188</td>\n",
       "      <td>None</td>\n",
       "      <td>075</td>\n",
       "      <td>(POLYGON ((-122.422148 37.797825, -122.423793 ...</td>\n",
       "    </tr>\n",
       "    <tr>\n",
       "      <th>060750109003004</th>\n",
       "      <td>06</td>\n",
       "      <td>G5040</td>\n",
       "      <td>None</td>\n",
       "      <td>Block 3004</td>\n",
       "      <td>+37.7983978</td>\n",
       "      <td>3004</td>\n",
       "      <td>0</td>\n",
       "      <td>S</td>\n",
       "      <td>15484</td>\n",
       "      <td>010900</td>\n",
       "      <td>-122.4214186</td>\n",
       "      <td>None</td>\n",
       "      <td>075</td>\n",
       "      <td>(POLYGON ((-122.420501 37.798033, -122.422148 ...</td>\n",
       "    </tr>\n",
       "    <tr>\n",
       "      <th>060750109003006</th>\n",
       "      <td>06</td>\n",
       "      <td>G5040</td>\n",
       "      <td>None</td>\n",
       "      <td>Block 3006</td>\n",
       "      <td>+37.7972641</td>\n",
       "      <td>3006</td>\n",
       "      <td>0</td>\n",
       "      <td>S</td>\n",
       "      <td>14409</td>\n",
       "      <td>010900</td>\n",
       "      <td>-122.4228310</td>\n",
       "      <td>None</td>\n",
       "      <td>075</td>\n",
       "      <td>(POLYGON ((-122.423601 37.796691, -122.423521 ...</td>\n",
       "    </tr>\n",
       "    <tr>\n",
       "      <th>060750109003008</th>\n",
       "      <td>06</td>\n",
       "      <td>G5040</td>\n",
       "      <td>None</td>\n",
       "      <td>Block 3008</td>\n",
       "      <td>+37.7963237</td>\n",
       "      <td>3008</td>\n",
       "      <td>0</td>\n",
       "      <td>S</td>\n",
       "      <td>14864</td>\n",
       "      <td>010900</td>\n",
       "      <td>-122.4226412</td>\n",
       "      <td>None</td>\n",
       "      <td>075</td>\n",
       "      <td>(POLYGON ((-122.421768 37.795945, -122.423413 ...</td>\n",
       "    </tr>\n",
       "  </tbody>\n",
       "</table>\n",
       "</div>"
      ],
      "text/plain": [
       "                statefp10 mtfcc10 uace10      name10   intptlat10 blockce10  \\\n",
       "block_id                                                                      \n",
       "060750109002002        06   G5040   None  Block 2002  +37.7974669      2002   \n",
       "060750109002003        06   G5040   None  Block 2003  +37.7965361      2003   \n",
       "060750109003000        06   G5040   None  Block 3000  +37.7993320      3000   \n",
       "060750109003001        06   G5040   None  Block 3001  +37.7991292      3001   \n",
       "060750109003003        06   G5040   None  Block 3003  +37.7981949      3003   \n",
       "060750109003004        06   G5040   None  Block 3004  +37.7983978      3004   \n",
       "060750109003006        06   G5040   None  Block 3006  +37.7972641      3006   \n",
       "060750109003008        06   G5040   None  Block 3008  +37.7963237      3008   \n",
       "\n",
       "                awater10 funcstat10 aland10 tractce10    intptlon10  ur10  \\\n",
       "block_id                                                                    \n",
       "060750109002002        0          S   15248    010900  -122.4212319  None   \n",
       "060750109002003        0          S   15480    010900  -122.4210349  None   \n",
       "060750109003000        0          S   15368    010900  -122.4216084  None   \n",
       "060750109003001        0          S   14520    010900  -122.4232078  None   \n",
       "060750109003003        0          S   14572    010900  -122.4230188  None   \n",
       "060750109003004        0          S   15484    010900  -122.4214186  None   \n",
       "060750109003006        0          S   14409    010900  -122.4228310  None   \n",
       "060750109003008        0          S   14864    010900  -122.4226412  None   \n",
       "\n",
       "                countyfp10                                           geometry  \n",
       "block_id                                                                       \n",
       "060750109002002        075  (POLYGON ((-122.420317 37.797109, -122.421961 ...  \n",
       "060750109002003        075  (POLYGON ((-122.42011 37.796095, -122.420217 3...  \n",
       "060750109003000        075  (POLYGON ((-122.420689 37.798971, -122.422337 ...  \n",
       "060750109003001        075  (POLYGON ((-122.422337 37.798762, -122.423982 ...  \n",
       "060750109003003        075  (POLYGON ((-122.422148 37.797825, -122.423793 ...  \n",
       "060750109003004        075  (POLYGON ((-122.420501 37.798033, -122.422148 ...  \n",
       "060750109003006        075  (POLYGON ((-122.423601 37.796691, -122.423521 ...  \n",
       "060750109003008        075  (POLYGON ((-122.421768 37.795945, -122.423413 ...  "
      ]
     },
     "execution_count": 7,
     "metadata": {},
     "output_type": "execute_result"
    }
   ],
   "source": [
    "blocks.sort_index()"
   ]
  },
  {
   "cell_type": "code",
   "execution_count": 8,
   "metadata": {
    "scrolled": false
   },
   "outputs": [
    {
     "name": "stderr",
     "output_type": "stream",
     "text": [
      "/Users/alex/miniconda3/envs/trash-talk-dev/lib/python3.7/_collections_abc.py:841: MatplotlibDeprecationWarning: \n",
      "The examples.directory rcparam was deprecated in Matplotlib 3.0 and will be removed in 3.2. In the future, examples will be found relative to the 'datapath' directory.\n",
      "  self[key] = other[key]\n",
      "/Users/alex/miniconda3/envs/trash-talk-dev/lib/python3.7/_collections_abc.py:841: MatplotlibDeprecationWarning: \n",
      "The savefig.frameon rcparam was deprecated in Matplotlib 3.1 and will be removed in 3.3.\n",
      "  self[key] = other[key]\n",
      "/Users/alex/miniconda3/envs/trash-talk-dev/lib/python3.7/_collections_abc.py:841: MatplotlibDeprecationWarning: \n",
      "The text.latex.unicode rcparam was deprecated in Matplotlib 3.0 and will be removed in 3.2.\n",
      "  self[key] = other[key]\n",
      "/Users/alex/miniconda3/envs/trash-talk-dev/lib/python3.7/_collections_abc.py:841: MatplotlibDeprecationWarning: \n",
      "The verbose.fileo rcparam was deprecated in Matplotlib 3.1 and will be removed in 3.3.\n",
      "  self[key] = other[key]\n",
      "/Users/alex/miniconda3/envs/trash-talk-dev/lib/python3.7/_collections_abc.py:841: MatplotlibDeprecationWarning: \n",
      "The verbose.level rcparam was deprecated in Matplotlib 3.1 and will be removed in 3.3.\n",
      "  self[key] = other[key]\n"
     ]
    },
    {
     "data": {
      "text/plain": [
       "<matplotlib.axes._subplots.AxesSubplot at 0x129260630>"
      ]
     },
     "execution_count": 8,
     "metadata": {},
     "output_type": "execute_result"
    },
    {
     "data": {
      "image/png": "[encoded data removed]",
      "text/plain": [
       "<Figure size 1728x1152 with 1 Axes>"
      ]
     },
     "metadata": {},
     "output_type": "display_data"
    }
   ],
   "source": [
    "fig, ax = plt.subplots(1, figsize=(24, 16))\n",
    "import matplotlib as mpl\n",
    "# import mplleaflet\n",
    "\n",
    "mpl.rcParams.update(mpl.rcParamsDefault)\n",
    "sns.reset_orig()\n",
    "\n",
    "gplt.choropleth(\n",
    "    blocks.assign(\n",
    "        trash_volume=(trash.block_id.value_counts().sort_index() / (trash.time.max() - trash.time.min()).days)\n",
    "    ).pipe(\n",
    "        lambda df: df.assign(geometry=df.geometry.scale(xfact=0.87, yfact=0.87))\n",
    "    ),\n",
    "    hue='trash_volume',\n",
    "    cmap='Reds', k=None, linewidth=2, edgecolor='#888888',\n",
    "    extent=blocks.geometry.scale(xfact=1.05, yfact=1.05).total_bounds,\n",
    "    ax=ax\n",
    ")"
   ]
  },
  {
   "cell_type": "code",
   "execution_count": 9,
   "metadata": {},
   "outputs": [
    {
     "data": {
      "text/plain": [
       "060750109002002    41.575092\n",
       "060750109002003    37.025641\n",
       "060750109003000    15.684982\n",
       "060750109003001    29.494505\n",
       "060750109003003    48.769231\n",
       "060750109003004    22.692308\n",
       "060750109003006    53.124542\n",
       "060750109003008    89.571429\n",
       "Name: block_id, dtype: float64"
      ]
     },
     "execution_count": 9,
     "metadata": {},
     "output_type": "execute_result"
    }
   ],
   "source": [
    "(trash.block_id.value_counts().sort_index() / (trash.time.max() - trash.time.min()).days)"
   ]
  },
  {
   "cell_type": "markdown",
   "metadata": {},
   "source": [
    "I added text labels by hand in Inkscape."
   ]
  },
  {
   "cell_type": "markdown",
   "metadata": {},
   "source": [
    "## Generalized plot of trash"
   ]
  },
  {
   "cell_type": "code",
   "execution_count": 32,
   "metadata": {},
   "outputs": [
    {
     "name": "stdout",
     "output_type": "stream",
     "text": [
      "(0.5, -0.5)\n"
     ]
    },
    {
     "data": {
      "image/png": "[encoded data removed]",
      "text/plain": [
       "<Figure size 1200x800 with 1 Axes>"
      ]
     },
     "metadata": {},
     "output_type": "display_data"
    }
   ],
   "source": [
    "fig, ax = plt.subplots(1, figsize=(12, 8))\n",
    "plt.style.use('seaborn-poster')\n",
    "sns.set_style('white')\n",
    "\n",
    "ax = sns.boxplot(\n",
    "    data=bldg_trash_per_unit_length.trash_density, orient='h',\n",
    "    color='white',\n",
    "    width=0.3\n",
    ")\n",
    "sns.swarmplot(\n",
    "    bldg_trash_per_unit_length.trash_density,\n",
    "    # hue=pd.Series(\n",
    "    #     bldg_trash_per_unit_length.index.map(lambda v: buildings.loc[v].block_id))\\\n",
    "    #     .astype('category').cat.codes,\n",
    "    size=16, ax=ax\n",
    ")\n",
    "sns.despine(left=True, bottom=True)\n",
    "plt.gca().set_xlabel(None)\n",
    "plt.gca().set_xticks([8, 19, 36, 48, 84, 117])\n",
    "print(plt.gca().get_ylim())\n",
    "plt.gca().set_ylim([0.25, -0.25])\n",
    "pass"
   ]
  },
  {
   "cell_type": "code",
   "execution_count": 37,
   "metadata": {},
   "outputs": [
    {
     "data": {
      "text/plain": [
       "123347.27106227109"
      ]
     },
     "execution_count": 37,
     "metadata": {},
     "output_type": "execute_result"
    }
   ],
   "source": [
    "# Check that the numbers roughly make sense.\n",
    "(bldg_frontage_lengths * bldg_trash_per_unit_length.trash_density).sum()"
   ]
  },
  {
   "cell_type": "markdown",
   "metadata": {},
   "source": [
    "## Investigate the Rubbish cig disposal unit"
   ]
  },
  {
   "cell_type": "markdown",
   "metadata": {},
   "source": [
    "I can't think of anything that would not have already shown up in the plots I tried, if it was detectable."
   ]
  },
  {
   "cell_type": "code",
   "execution_count": 11,
   "metadata": {},
   "outputs": [],
   "source": [
    "# import spaghetti as spgh\n",
    "# net = spgh.Network(in_data=frontages)\n",
    "# net.snapobservations(trash, 'trash')\n",
    "# updated_trash_points = spgh.element_as_gdf(net, pp_name='trash', snapped=True)\n",
    "\n",
    "# 37.79709, -122.4221"
   ]
  },
  {
   "cell_type": "markdown",
   "metadata": {},
   "source": [
    "## Scrap\n",
    "\n",
    "Used in article writing."
   ]
  },
  {
   "cell_type": "code",
   "execution_count": 12,
   "metadata": {},
   "outputs": [
    {
     "data": {
      "text/plain": [
       "131391"
      ]
     },
     "execution_count": 12,
     "metadata": {},
     "output_type": "execute_result"
    }
   ],
   "source": [
    "len(gpd.read_file('../../data/processed/trash.json'))"
   ]
  }
 ],
 "metadata": {
  "kernelspec": {
   "display_name": "Python 3",
   "language": "python",
   "name": "python3"
  },
  "language_info": {
   "codemirror_mode": {
    "name": "ipython",
    "version": 3
   },
   "file_extension": ".py",
   "mimetype": "text/x-python",
   "name": "python",
   "nbconvert_exporter": "python",
   "pygments_lexer": "ipython3",
   "version": "3.7.3"
  }
 },
 "nbformat": 4,
 "nbformat_minor": 2
}
