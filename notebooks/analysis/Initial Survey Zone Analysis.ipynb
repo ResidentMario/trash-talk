{
 "cells": [
  {
   "cell_type": "markdown",
   "metadata": {},
   "source": [
    "This notebook is a development restart of the `streetmapper` library and the `trash-talk` project."
   ]
  },
  {
   "cell_type": "markdown",
   "metadata": {},
   "source": [
    "## Data munging\n",
    "\n",
    "We use a subset of the datasets mentioned in the `README.md` and the `streetmapper` library, developed as part of this project, to map trash locations onto (1) blocks and (2) buildings."
   ]
  },
  {
   "cell_type": "code",
   "execution_count": 1,
   "metadata": {},
   "outputs": [],
   "source": [
    "import pandas as pd\n",
    "import geopandas as gpd\n",
    "\n",
    "buildings = gpd.read_file(\"../../data/Building Footprints\").to_crs({\"init\": \"epsg:4326\"})\n",
    "streets = gpd.read_file(\"../../data/Streets - Active and Retired.geojson\")\n",
    "blocks = gpd.read_file(\"../../data/Census 2010_ Blocks for San Francisco.geojson\")"
   ]
  },
  {
   "cell_type": "code",
   "execution_count": 2,
   "metadata": {},
   "outputs": [],
   "source": [
    "%load_ext autoreload\n",
    "%autoreload 2\n",
    "\n",
    "import streetmapper as sm"
   ]
  },
  {
   "cell_type": "code",
   "execution_count": 3,
   "metadata": {},
   "outputs": [
    {
     "name": "stdout",
     "output_type": "stream",
     "text": [
      "CPU times: user 21.6 s, sys: 401 ms, total: 22 s\n",
      "Wall time: 23.9 s\n"
     ]
    }
   ],
   "source": [
    "%time blockfaces = sm.blockfaces_on_blocks(blocks, blocks_uid_col='geoid10')"
   ]
  },
  {
   "cell_type": "code",
   "execution_count": 16,
   "metadata": {},
   "outputs": [
    {
     "data": {
      "text/html": [
       "<div>\n",
       "<style scoped>\n",
       "    .dataframe tbody tr th:only-of-type {\n",
       "        vertical-align: middle;\n",
       "    }\n",
       "\n",
       "    .dataframe tbody tr th {\n",
       "        vertical-align: top;\n",
       "    }\n",
       "\n",
       "    .dataframe thead th {\n",
       "        text-align: right;\n",
       "    }\n",
       "</style>\n",
       "<table border=\"1\" class=\"dataframe\">\n",
       "  <thead>\n",
       "    <tr style=\"text-align: right;\">\n",
       "      <th></th>\n",
       "      <th>blockface_id</th>\n",
       "      <th>block_id</th>\n",
       "      <th>geometry</th>\n",
       "    </tr>\n",
       "  </thead>\n",
       "  <tbody>\n",
       "    <tr>\n",
       "      <th>0</th>\n",
       "      <td>060750213002002_1</td>\n",
       "      <td>060750213002002</td>\n",
       "      <td>LINESTRING (-122.440616 37.750902, -122.440459...</td>\n",
       "    </tr>\n",
       "    <tr>\n",
       "      <th>1</th>\n",
       "      <td>060750213002002_2</td>\n",
       "      <td>060750213002002</td>\n",
       "      <td>LINESTRING (-122.440459 37.749301, -122.441538...</td>\n",
       "    </tr>\n",
       "    <tr>\n",
       "      <th>2</th>\n",
       "      <td>060750213002002_3</td>\n",
       "      <td>060750213002002</td>\n",
       "      <td>LINESTRING (-122.441538 37.74923100000001, -12...</td>\n",
       "    </tr>\n",
       "    <tr>\n",
       "      <th>3</th>\n",
       "      <td>060750213002002_4</td>\n",
       "      <td>060750213002002</td>\n",
       "      <td>LINESTRING (-122.441687 37.75083600000001, -12...</td>\n",
       "    </tr>\n",
       "    <tr>\n",
       "      <th>0</th>\n",
       "      <td>060750213002000_1</td>\n",
       "      <td>060750213002000</td>\n",
       "      <td>LINESTRING (-122.438397 37.750226, -122.43832 ...</td>\n",
       "    </tr>\n",
       "  </tbody>\n",
       "</table>\n",
       "</div>"
      ],
      "text/plain": [
       "        blockface_id         block_id  \\\n",
       "0  060750213002002_1  060750213002002   \n",
       "1  060750213002002_2  060750213002002   \n",
       "2  060750213002002_3  060750213002002   \n",
       "3  060750213002002_4  060750213002002   \n",
       "0  060750213002000_1  060750213002000   \n",
       "\n",
       "                                            geometry  \n",
       "0  LINESTRING (-122.440616 37.750902, -122.440459...  \n",
       "1  LINESTRING (-122.440459 37.749301, -122.441538...  \n",
       "2  LINESTRING (-122.441538 37.74923100000001, -12...  \n",
       "3  LINESTRING (-122.441687 37.75083600000001, -12...  \n",
       "0  LINESTRING (-122.438397 37.750226, -122.43832 ...  "
      ]
     },
     "execution_count": 16,
     "metadata": {},
     "output_type": "execute_result"
    }
   ],
   "source": [
    "blockfaces.columns = ['blockface_id', 'block_id', 'geometry']\n",
    "blockfaces.head()"
   ]
  },
  {
   "cell_type": "code",
   "execution_count": 5,
   "metadata": {},
   "outputs": [
    {
     "data": {
      "text/plain": [
       "<function streetmapper.pipeline.bldgs_on_blocks(bldgs, blocks, buildings_uid_col='building_id')>"
      ]
     },
     "execution_count": 5,
     "metadata": {},
     "output_type": "execute_result"
    }
   ],
   "source": [
    "sm.bldgs_on_blocks"
   ]
  },
  {
   "cell_type": "code",
   "execution_count": 9,
   "metadata": {},
   "outputs": [
    {
     "name": "stdout",
     "output_type": "stream",
     "text": [
      "CPU times: user 1min 7s, sys: 1.52 s, total: 1min 8s\n",
      "Wall time: 1min 11s\n"
     ]
    }
   ],
   "source": [
    "%%time\n",
    "\n",
    "buildings, _, _ = sm.bldgs_on_blocks(buildings, blocks, buildings_uid_col='globalid')"
   ]
  },
  {
   "cell_type": "code",
   "execution_count": 10,
   "metadata": {},
   "outputs": [],
   "source": [
    "buildings = (\n",
    "    buildings.assign(\n",
    "        building_id=buildings.globalid.map(lambda v: v[1:-1].replace('-', '_')), \n",
    "        block_id=buildings.geoid10\n",
    "    )\n",
    "    .drop(['geoid10', 'globalid'], axis='columns')\n",
    ")"
   ]
  },
  {
   "cell_type": "code",
   "execution_count": 12,
   "metadata": {},
   "outputs": [],
   "source": [
    "df = pd.read_excel(\"../../data/Month 1 Open Source Data.xlsx\")\n",
    "from shapely.geometry import Point\n",
    "trash = gpd.GeoDataFrame(df, geometry=df.apply(lambda srs: Point((srs['long'], srs['lat'])), axis='columns'))\n",
    "del df"
   ]
  },
  {
   "cell_type": "markdown",
   "metadata": {},
   "source": [
    "To keep the amount of work involved in performing matches reasonable, we restrict the zone of interest to roughly the buildings located along the survey zone."
   ]
  },
  {
   "cell_type": "code",
   "execution_count": 28,
   "metadata": {},
   "outputs": [],
   "source": [
    "blocks = blocks.rename(columns={'geoid10': 'block_id'})"
   ]
  },
  {
   "cell_type": "code",
   "execution_count": 31,
   "metadata": {},
   "outputs": [],
   "source": [
    "from shapely.geometry import Polygon\n",
    "\n",
    "selection_area = Polygon(\n",
    "    ((-122.422836714479, 37.7849452051136), \n",
    "     (-122.419309755901, 37.7849452051136), \n",
    "     (-122.419309755901, 37.7998665826739), \n",
    "     (-122.422836714479, 37.7998665826739), \n",
    "     (-122.422836714479, 37.7849452051136))\n",
    ").buffer(0.001)\n",
    "\n",
    "\n",
    "blocks_of_interest = (\n",
    "    sm.select_area_of_interest(blocks, selection_area)\n",
    ")\n",
    "buildings_of_interest = sm.select_area_of_interest(buildings, selection_area)"
   ]
  },
  {
   "cell_type": "code",
   "execution_count": 33,
   "metadata": {},
   "outputs": [
    {
     "name": "stderr",
     "output_type": "stream",
     "text": [
      "100%|██████████| 71/71 [00:09<00:00,  8.53it/s]\n"
     ]
    },
    {
     "name": "stdout",
     "output_type": "stream",
     "text": [
      "CPU times: user 10.2 s, sys: 106 ms, total: 10.3 s\n",
      "Wall time: 10.3 s\n"
     ]
    }
   ],
   "source": [
    "%%time\n",
    "\n",
    "frontages_of_interest = sm.frontages_on_blockfaces(\n",
    "    blocks_of_interest, blockfaces, buildings_of_interest,\n",
    "    blocks_uid_col='block_id',\n",
    "    buildings_uid_col='building_id',\n",
    "    blockfaces_block_uid_col='block_id', \n",
    "    buildings_block_uid_col='block_id'\n",
    ")"
   ]
  },
  {
   "cell_type": "code",
   "execution_count": 35,
   "metadata": {},
   "outputs": [],
   "source": [
    "trash_of_interest = sm.points_on_frontages(\n",
    "    trash.head(100), frontages_of_interest\n",
    ")"
   ]
  },
  {
   "cell_type": "code",
   "execution_count": 36,
   "metadata": {
    "scrolled": false
   },
   "outputs": [
    {
     "data": {
      "text/html": [
       "<div>\n",
       "<style scoped>\n",
       "    .dataframe tbody tr th:only-of-type {\n",
       "        vertical-align: middle;\n",
       "    }\n",
       "\n",
       "    .dataframe tbody tr th {\n",
       "        vertical-align: top;\n",
       "    }\n",
       "\n",
       "    .dataframe thead th {\n",
       "        text-align: right;\n",
       "    }\n",
       "</style>\n",
       "<table border=\"1\" class=\"dataframe\">\n",
       "  <thead>\n",
       "    <tr style=\"text-align: right;\">\n",
       "      <th></th>\n",
       "      <th>itemsTagged</th>\n",
       "      <th>likes</th>\n",
       "      <th>street</th>\n",
       "      <th>type</th>\n",
       "      <th>time</th>\n",
       "      <th>userPrimaryCommunityName</th>\n",
       "      <th>userCity</th>\n",
       "      <th>userCityDistrict</th>\n",
       "      <th>userState</th>\n",
       "      <th>userZipCode</th>\n",
       "      <th>lat</th>\n",
       "      <th>long</th>\n",
       "      <th>totalNumberOfItemsTagged</th>\n",
       "      <th>pickedUp</th>\n",
       "      <th>geometry</th>\n",
       "      <th>frontage_id</th>\n",
       "      <th>block_id</th>\n",
       "      <th>building_id</th>\n",
       "      <th>blockface_id</th>\n",
       "    </tr>\n",
       "  </thead>\n",
       "  <tbody>\n",
       "    <tr>\n",
       "      <th>0</th>\n",
       "      <td>1</td>\n",
       "      <td>0</td>\n",
       "      <td>Filbert St</td>\n",
       "      <td>tobacco</td>\n",
       "      <td>9/18/2018, 12:45:07 AM</td>\n",
       "      <td>Russian Hill</td>\n",
       "      <td>San Francisco</td>\n",
       "      <td>San Francisco County</td>\n",
       "      <td>California</td>\n",
       "      <td>94109</td>\n",
       "      <td>37.799602</td>\n",
       "      <td>-122.422209</td>\n",
       "      <td>1</td>\n",
       "      <td>True</td>\n",
       "      <td>POINT (-122.422208928493 37.7996024350634)</td>\n",
       "      <td>BF7B2D3E_9565_4BDB_B3CB_70B7A6CD9B56_0</td>\n",
       "      <td>060750102002002</td>\n",
       "      <td>BF7B2D3E_9565_4BDB_B3CB_70B7A6CD9B56</td>\n",
       "      <td>060750102002002_1</td>\n",
       "    </tr>\n",
       "    <tr>\n",
       "      <th>1</th>\n",
       "      <td>1</td>\n",
       "      <td>0</td>\n",
       "      <td>Filbert St</td>\n",
       "      <td>other</td>\n",
       "      <td>9/18/2018, 12:45:05 AM</td>\n",
       "      <td>Russian Hill</td>\n",
       "      <td>San Francisco</td>\n",
       "      <td>San Francisco County</td>\n",
       "      <td>California</td>\n",
       "      <td>94109</td>\n",
       "      <td>37.799808</td>\n",
       "      <td>-122.422168</td>\n",
       "      <td>1</td>\n",
       "      <td>True</td>\n",
       "      <td>POINT (-122.422168068763 37.7998081601673)</td>\n",
       "      <td>C84A3FBA_F146_4A30_A2D7_FA9892831308_1</td>\n",
       "      <td>060750109003000</td>\n",
       "      <td>C84A3FBA_F146_4A30_A2D7_FA9892831308</td>\n",
       "      <td>060750109003000_3</td>\n",
       "    </tr>\n",
       "    <tr>\n",
       "      <th>2</th>\n",
       "      <td>1</td>\n",
       "      <td>0</td>\n",
       "      <td>Filbert St</td>\n",
       "      <td>other</td>\n",
       "      <td>9/18/2018, 12:45:04 AM</td>\n",
       "      <td>Russian Hill</td>\n",
       "      <td>San Francisco</td>\n",
       "      <td>San Francisco County</td>\n",
       "      <td>California</td>\n",
       "      <td>94109</td>\n",
       "      <td>37.799744</td>\n",
       "      <td>-122.422153</td>\n",
       "      <td>1</td>\n",
       "      <td>True</td>\n",
       "      <td>POINT (-122.422152552981 37.7997437724664)</td>\n",
       "      <td>BF7B2D3E_9565_4BDB_B3CB_70B7A6CD9B56_0</td>\n",
       "      <td>060750102002002</td>\n",
       "      <td>BF7B2D3E_9565_4BDB_B3CB_70B7A6CD9B56</td>\n",
       "      <td>060750102002002_1</td>\n",
       "    </tr>\n",
       "    <tr>\n",
       "      <th>3</th>\n",
       "      <td>1</td>\n",
       "      <td>0</td>\n",
       "      <td>Filbert St</td>\n",
       "      <td>other</td>\n",
       "      <td>9/18/2018, 12:45:03 AM</td>\n",
       "      <td>Russian Hill</td>\n",
       "      <td>San Francisco</td>\n",
       "      <td>San Francisco County</td>\n",
       "      <td>California</td>\n",
       "      <td>94109</td>\n",
       "      <td>37.799807</td>\n",
       "      <td>-122.422091</td>\n",
       "      <td>1</td>\n",
       "      <td>True</td>\n",
       "      <td>POINT (-122.422090792739 37.7998066128486)</td>\n",
       "      <td>F9B7661F_3478_47E1_8B6D_D3AF74B95225_0</td>\n",
       "      <td>060750102002002</td>\n",
       "      <td>F9B7661F_3478_47E1_8B6D_D3AF74B95225</td>\n",
       "      <td>060750102002002_1</td>\n",
       "    </tr>\n",
       "    <tr>\n",
       "      <th>4</th>\n",
       "      <td>1</td>\n",
       "      <td>0</td>\n",
       "      <td>Polk St</td>\n",
       "      <td>tobacco</td>\n",
       "      <td>9/18/2018, 12:42:13 AM</td>\n",
       "      <td>Russian Hill</td>\n",
       "      <td>San Francisco</td>\n",
       "      <td>San Francisco County</td>\n",
       "      <td>California</td>\n",
       "      <td>94109</td>\n",
       "      <td>37.799505</td>\n",
       "      <td>-122.422302</td>\n",
       "      <td>1</td>\n",
       "      <td>True</td>\n",
       "      <td>POINT (-122.422302477379 37.799504567795)</td>\n",
       "      <td>48D0D3C4_BBA4_4FB0_9BB0_9F03D0A1117D_0</td>\n",
       "      <td>060750109003000</td>\n",
       "      <td>48D0D3C4_BBA4_4FB0_9BB0_9F03D0A1117D</td>\n",
       "      <td>060750109003000_2</td>\n",
       "    </tr>\n",
       "  </tbody>\n",
       "</table>\n",
       "</div>"
      ],
      "text/plain": [
       "   itemsTagged  likes      street     type                    time  \\\n",
       "0            1      0  Filbert St  tobacco  9/18/2018, 12:45:07 AM   \n",
       "1            1      0  Filbert St    other  9/18/2018, 12:45:05 AM   \n",
       "2            1      0  Filbert St    other  9/18/2018, 12:45:04 AM   \n",
       "3            1      0  Filbert St    other  9/18/2018, 12:45:03 AM   \n",
       "4            1      0     Polk St  tobacco  9/18/2018, 12:42:13 AM   \n",
       "\n",
       "  userPrimaryCommunityName       userCity      userCityDistrict   userState  \\\n",
       "0             Russian Hill  San Francisco  San Francisco County  California   \n",
       "1             Russian Hill  San Francisco  San Francisco County  California   \n",
       "2             Russian Hill  San Francisco  San Francisco County  California   \n",
       "3             Russian Hill  San Francisco  San Francisco County  California   \n",
       "4             Russian Hill  San Francisco  San Francisco County  California   \n",
       "\n",
       "  userZipCode        lat        long totalNumberOfItemsTagged  pickedUp  \\\n",
       "0       94109  37.799602 -122.422209                        1      True   \n",
       "1       94109  37.799808 -122.422168                        1      True   \n",
       "2       94109  37.799744 -122.422153                        1      True   \n",
       "3       94109  37.799807 -122.422091                        1      True   \n",
       "4       94109  37.799505 -122.422302                        1      True   \n",
       "\n",
       "                                     geometry  \\\n",
       "0  POINT (-122.422208928493 37.7996024350634)   \n",
       "1  POINT (-122.422168068763 37.7998081601673)   \n",
       "2  POINT (-122.422152552981 37.7997437724664)   \n",
       "3  POINT (-122.422090792739 37.7998066128486)   \n",
       "4   POINT (-122.422302477379 37.799504567795)   \n",
       "\n",
       "                              frontage_id         block_id  \\\n",
       "0  BF7B2D3E_9565_4BDB_B3CB_70B7A6CD9B56_0  060750102002002   \n",
       "1  C84A3FBA_F146_4A30_A2D7_FA9892831308_1  060750109003000   \n",
       "2  BF7B2D3E_9565_4BDB_B3CB_70B7A6CD9B56_0  060750102002002   \n",
       "3  F9B7661F_3478_47E1_8B6D_D3AF74B95225_0  060750102002002   \n",
       "4  48D0D3C4_BBA4_4FB0_9BB0_9F03D0A1117D_0  060750109003000   \n",
       "\n",
       "                            building_id       blockface_id  \n",
       "0  BF7B2D3E_9565_4BDB_B3CB_70B7A6CD9B56  060750102002002_1  \n",
       "1  C84A3FBA_F146_4A30_A2D7_FA9892831308  060750109003000_3  \n",
       "2  BF7B2D3E_9565_4BDB_B3CB_70B7A6CD9B56  060750102002002_1  \n",
       "3  F9B7661F_3478_47E1_8B6D_D3AF74B95225  060750102002002_1  \n",
       "4  48D0D3C4_BBA4_4FB0_9BB0_9F03D0A1117D  060750109003000_2  "
      ]
     },
     "execution_count": 36,
     "metadata": {},
     "output_type": "execute_result"
    }
   ],
   "source": [
    "trash_of_interest.head()"
   ]
  },
  {
   "cell_type": "markdown",
   "metadata": {},
   "source": [
    "Unfortunately, the best land use data available is rather thin-on-the-ground when it comes to detail:"
   ]
  },
  {
   "cell_type": "markdown",
   "metadata": {},
   "source": [
    "import geopandas as gpd\n",
    "land_use = gpd.read_file('../../data/Land Use.geojson')"
   ]
  },
  {
   "cell_type": "code",
   "execution_count": 39,
   "metadata": {},
   "outputs": [
    {
     "data": {
      "text/plain": [
       "RESIDENT        115169\n",
       "MIXRES           22826\n",
       "VACANT            4593\n",
       "RETAIL/ENT        2726\n",
       "PDR               2090\n",
       "MISSING DATA      1985\n",
       "MIXED             1939\n",
       "CIE               1367\n",
       "MIPS              1352\n",
       "OpenSpace          932\n",
       "VISITOR            273\n",
       "MED                213\n",
       "Right of Way         3\n",
       "Name: landuse, dtype: int64"
      ]
     },
     "execution_count": 39,
     "metadata": {},
     "output_type": "execute_result"
    }
   ],
   "source": [
    "land_use['landuse'].value_counts()"
   ]
  },
  {
   "cell_type": "markdown",
   "metadata": {},
   "source": [
    "(note also the data sources available via the [Property Information Map](https://sfplanninggis.org/pim/) tool, which are documented [here](https://sfplanninggis.org/pim/help.html); and the SF Public Works datasets [here](https://bsm.sfdpw.org/datasf/))"
   ]
  },
  {
   "cell_type": "markdown",
   "metadata": {},
   "source": [
    "## Ontology\n",
    "\n",
    "Since the survey zones are small, it's only a few man-hours at most to manually tag buildings using Google Street Maps or, better yet, a walk through the neighborhood. This would allow us to generate a more useful, descriptive ontology."
   ]
  }
 ],
 "metadata": {
  "kernelspec": {
   "display_name": "Python 3",
   "language": "python",
   "name": "python3"
  },
  "language_info": {
   "codemirror_mode": {
    "name": "ipython",
    "version": 3
   },
   "file_extension": ".py",
   "mimetype": "text/x-python",
   "name": "python",
   "nbconvert_exporter": "python",
   "pygments_lexer": "ipython3",
   "version": "3.7.3"
  }
 },
 "nbformat": 4,
 "nbformat_minor": 2
}
