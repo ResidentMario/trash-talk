{
 "cells": [
  {
   "cell_type": "code",
   "execution_count": 1,
   "metadata": {},
   "outputs": [],
   "source": [
    "%load_ext autoreload\n",
    "%autoreload 2\n",
    "import garbageman"
   ]
  },
  {
   "cell_type": "code",
   "execution_count": 2,
   "metadata": {},
   "outputs": [],
   "source": [
    "import pandas as pd\n",
    "import numpy as np\n",
    "import geopandas as gpd"
   ]
  },
  {
   "cell_type": "code",
   "execution_count": 3,
   "metadata": {},
   "outputs": [],
   "source": [
    "street_segments = gpd.read_file(\"../data/processed/street_segments.geojson\")\n",
    "blocks = gpd.read_file(\"../data/processed/blocks.geojson\")\n",
    "buildings = gpd.read_file(\"../data/processed/buildings.geojson\")\n",
    "blockfaces = gpd.read_file(\"../data/processed/blockfaces.geojson\")"
   ]
  },
  {
   "cell_type": "code",
   "execution_count": 4,
   "metadata": {},
   "outputs": [],
   "source": [
    "trash = pd.read_excel(\"../data/one-month-data.xlsx\")"
   ]
  },
  {
   "cell_type": "code",
   "execution_count": 7,
   "metadata": {},
   "outputs": [],
   "source": [
    "from shapely.geometry import Polygon\n",
    "blocks_of_interest = garbageman.pipeline.select_area_of_interest(\n",
    "    blocks,\n",
    "    Polygon(\n",
    "        ((-122.422836714479, 37.7849452051136), \n",
    "         (-122.419309755901, 37.7849452051136), \n",
    "         (-122.419309755901, 37.7998665826739), \n",
    "         (-122.422836714479, 37.7998665826739), \n",
    "         (-122.422836714479, 37.7849452051136))\n",
    "    ).buffer(0.001)\n",
    ")"
   ]
  },
  {
   "cell_type": "code",
   "execution_count": 8,
   "metadata": {},
   "outputs": [
    {
     "name": "stderr",
     "output_type": "stream",
     "text": [
      "100%|██████████| 71/71 [01:08<00:00,  1.07it/s]\n"
     ]
    }
   ],
   "source": [
    "frontages_of_interest = garbageman.pipeline.calculate_frontages(blocks_of_interest, \n",
    "                                                                street_segments, blockfaces, buildings)"
   ]
  },
  {
   "cell_type": "code",
   "execution_count": 23,
   "metadata": {},
   "outputs": [
    {
     "data": {
      "text/html": [
       "<div>\n",
       "<style scoped>\n",
       "    .dataframe tbody tr th:only-of-type {\n",
       "        vertical-align: middle;\n",
       "    }\n",
       "\n",
       "    .dataframe tbody tr th {\n",
       "        vertical-align: top;\n",
       "    }\n",
       "\n",
       "    .dataframe thead th {\n",
       "        text-align: right;\n",
       "    }\n",
       "</style>\n",
       "<table border=\"1\" class=\"dataframe\">\n",
       "  <thead>\n",
       "    <tr style=\"text-align: right;\">\n",
       "      <th></th>\n",
       "      <th>geoid10</th>\n",
       "      <th>sf16_BldgID</th>\n",
       "      <th>geoid10_n</th>\n",
       "      <th>geom_offset_start</th>\n",
       "      <th>geom_offset_end</th>\n",
       "      <th>geometry</th>\n",
       "      <th>sf16_BldgID_n</th>\n",
       "    </tr>\n",
       "  </thead>\n",
       "  <tbody>\n",
       "    <tr>\n",
       "      <th>894</th>\n",
       "      <td>060750102002002</td>\n",
       "      <td>201006.0064911</td>\n",
       "      <td>060750102002002_3</td>\n",
       "      <td>0.65</td>\n",
       "      <td>0.72</td>\n",
       "      <td>LINESTRING (-122.4216405 37.8007605, -122.4215...</td>\n",
       "      <td>201006.0064911_0</td>\n",
       "    </tr>\n",
       "    <tr>\n",
       "      <th>284</th>\n",
       "      <td>060750111003006</td>\n",
       "      <td>201006.0007007</td>\n",
       "      <td>060750111003006_3</td>\n",
       "      <td>0.0</td>\n",
       "      <td>0.2</td>\n",
       "      <td>LINESTRING (-122.420401 37.789165, -122.420070...</td>\n",
       "      <td>201006.0007007_1</td>\n",
       "    </tr>\n",
       "    <tr>\n",
       "      <th>630</th>\n",
       "      <td>060750110003003</td>\n",
       "      <td>201006.0020027</td>\n",
       "      <td>060750110003003_4</td>\n",
       "      <td>0.51</td>\n",
       "      <td>1.00</td>\n",
       "      <td>LINESTRING (-122.41966426 37.79390163, -122.41...</td>\n",
       "      <td>201006.0020027_1</td>\n",
       "    </tr>\n",
       "    <tr>\n",
       "      <th>96</th>\n",
       "      <td>060750120001006</td>\n",
       "      <td>201006.0002421</td>\n",
       "      <td>060750120001006_1</td>\n",
       "      <td>0.67</td>\n",
       "      <td>1.00</td>\n",
       "      <td>LINESTRING (-122.41957117 37.78782597, -122.42...</td>\n",
       "      <td>201006.0002421_0</td>\n",
       "    </tr>\n",
       "    <tr>\n",
       "      <th>846</th>\n",
       "      <td>060750109002003</td>\n",
       "      <td>201006.0052810</td>\n",
       "      <td>060750109002003_1</td>\n",
       "      <td>0.12</td>\n",
       "      <td>0.18</td>\n",
       "      <td>LINESTRING (-122.4203074119338 37.796118626680...</td>\n",
       "      <td>201006.0052810_0</td>\n",
       "    </tr>\n",
       "    <tr>\n",
       "      <th>509</th>\n",
       "      <td>060750110003003</td>\n",
       "      <td>201006.0014374</td>\n",
       "      <td>060750110003003_4</td>\n",
       "      <td>0.0</td>\n",
       "      <td>0.29</td>\n",
       "      <td>LINESTRING (-122.419753 37.794354, -122.419702...</td>\n",
       "      <td>201006.0014374_1</td>\n",
       "    </tr>\n",
       "    <tr>\n",
       "      <th>580</th>\n",
       "      <td>060750110001007</td>\n",
       "      <td>201006.0016394</td>\n",
       "      <td>060750110001007_1</td>\n",
       "      <td>0.61</td>\n",
       "      <td>1.00</td>\n",
       "      <td>LINESTRING (-122.42000386 37.79557223, -122.41...</td>\n",
       "      <td>201006.0016394_0</td>\n",
       "    </tr>\n",
       "    <tr>\n",
       "      <th>216</th>\n",
       "      <td>060750111001006</td>\n",
       "      <td>201006.0004929</td>\n",
       "      <td>060750111001006_1</td>\n",
       "      <td>0.4100</td>\n",
       "      <td>0.61</td>\n",
       "      <td>LINESTRING (-122.42136022 37.79049272, -122.42...</td>\n",
       "      <td>201006.0004929_0</td>\n",
       "    </tr>\n",
       "    <tr>\n",
       "      <th>917</th>\n",
       "      <td>060750109002002</td>\n",
       "      <td>201006.0074467</td>\n",
       "      <td>060750109002002_4</td>\n",
       "      <td>0.59</td>\n",
       "      <td>0.65</td>\n",
       "      <td>LINESTRING (-122.42039244 37.79748784, -122.42...</td>\n",
       "      <td>201006.0074467_0</td>\n",
       "    </tr>\n",
       "    <tr>\n",
       "      <th>297</th>\n",
       "      <td>060750110003006</td>\n",
       "      <td>201006.0007402</td>\n",
       "      <td>060750110003006_4</td>\n",
       "      <td>0.27</td>\n",
       "      <td>0.4700</td>\n",
       "      <td>LINESTRING (-122.42118221 37.79302175, -122.42...</td>\n",
       "      <td>201006.0007402_0</td>\n",
       "    </tr>\n",
       "  </tbody>\n",
       "</table>\n",
       "</div>"
      ],
      "text/plain": [
       "             geoid10     sf16_BldgID          geoid10_n geom_offset_start  \\\n",
       "894  060750102002002  201006.0064911  060750102002002_3              0.65   \n",
       "284  060750111003006  201006.0007007  060750111003006_3               0.0   \n",
       "630  060750110003003  201006.0020027  060750110003003_4              0.51   \n",
       "96   060750120001006  201006.0002421  060750120001006_1              0.67   \n",
       "846  060750109002003  201006.0052810  060750109002003_1              0.12   \n",
       "509  060750110003003  201006.0014374  060750110003003_4               0.0   \n",
       "580  060750110001007  201006.0016394  060750110001007_1              0.61   \n",
       "216  060750111001006  201006.0004929  060750111001006_1            0.4100   \n",
       "917  060750109002002  201006.0074467  060750109002002_4              0.59   \n",
       "297  060750110003006  201006.0007402  060750110003006_4              0.27   \n",
       "\n",
       "    geom_offset_end                                           geometry  \\\n",
       "894            0.72  LINESTRING (-122.4216405 37.8007605, -122.4215...   \n",
       "284             0.2  LINESTRING (-122.420401 37.789165, -122.420070...   \n",
       "630            1.00  LINESTRING (-122.41966426 37.79390163, -122.41...   \n",
       "96             1.00  LINESTRING (-122.41957117 37.78782597, -122.42...   \n",
       "846            0.18  LINESTRING (-122.4203074119338 37.796118626680...   \n",
       "509            0.29  LINESTRING (-122.419753 37.794354, -122.419702...   \n",
       "580            1.00  LINESTRING (-122.42000386 37.79557223, -122.41...   \n",
       "216            0.61  LINESTRING (-122.42136022 37.79049272, -122.42...   \n",
       "917            0.65  LINESTRING (-122.42039244 37.79748784, -122.42...   \n",
       "297          0.4700  LINESTRING (-122.42118221 37.79302175, -122.42...   \n",
       "\n",
       "        sf16_BldgID_n  \n",
       "894  201006.0064911_0  \n",
       "284  201006.0007007_1  \n",
       "630  201006.0020027_1  \n",
       "96   201006.0002421_0  \n",
       "846  201006.0052810_0  \n",
       "509  201006.0014374_1  \n",
       "580  201006.0016394_0  \n",
       "216  201006.0004929_0  \n",
       "917  201006.0074467_0  \n",
       "297  201006.0007402_0  "
      ]
     },
     "execution_count": 23,
     "metadata": {},
     "output_type": "execute_result"
    }
   ],
   "source": [
    "frontages_of_interest.sample(10)"
   ]
  },
  {
   "cell_type": "code",
   "execution_count": 25,
   "metadata": {},
   "outputs": [
    {
     "data": {
      "text/plain": [
       "<matplotlib.axes._subplots.AxesSubplot at 0x1283bf160>"
      ]
     },
     "execution_count": 25,
     "metadata": {},
     "output_type": "execute_result"
    },
    {
     "data": {
      "image/png": "[encoded data removed]",
      "text/plain": [
       "<Figure size 432x288 with 1 Axes>"
      ]
     },
     "metadata": {
      "needs_background": "light"
     },
     "output_type": "display_data"
    }
   ],
   "source": [
    "frontages_of_interest.query(\"geoid10 == '060750110003003'\").plot()"
   ]
  },
  {
   "cell_type": "code",
   "execution_count": 27,
   "metadata": {},
   "outputs": [
    {
     "data": {
      "text/plain": [
       "'201006.0003192'"
      ]
     },
     "execution_count": 27,
     "metadata": {},
     "output_type": "execute_result"
    }
   ],
   "source": [
    "frontages_of_interest.query(\"geoid10 == '060750110003003'\").iloc[0]['sf16_BldgID']"
   ]
  },
  {
   "cell_type": "code",
   "execution_count": 40,
   "metadata": {},
   "outputs": [
    {
     "data": {
      "text/plain": [
       "<matplotlib.axes._subplots.AxesSubplot at 0x1290d6710>"
      ]
     },
     "execution_count": 40,
     "metadata": {},
     "output_type": "execute_result"
    },
    {
     "data": {
      "image/png": "[encoded data removed]",
      "text/plain": [
       "<Figure size 432x288 with 1 Axes>"
      ]
     },
     "metadata": {
      "needs_background": "light"
     },
     "output_type": "display_data"
    }
   ],
   "source": [
    "ax = gpd.GeoSeries(frontages_of_interest.query(\"geoid10 == '060750110003003'\").iloc[0]).plot()\n",
    "gpd.GeoSeries(frontages_of_interest.query(\"geoid10 == '060750110003003'\").iloc[1]).plot(ax=ax)\n",
    "buildings.query(\"sf16_BldgID == '201006.0003192'\").plot(ax=ax)"
   ]
  },
  {
   "cell_type": "code",
   "execution_count": 43,
   "metadata": {},
   "outputs": [],
   "source": [
    "trash = gpd.GeoDataFrame(trash, geometry=trash.apply(lambda srs: Point(srs['long'], srs['lat']),axis='columns'))"
   ]
  },
  {
   "cell_type": "code",
   "execution_count": 198,
   "metadata": {},
   "outputs": [],
   "source": [
    "def frontage_index(frontages):\n",
    "    import rtree\n",
    "    index = rtree.index.Index()\n",
    "\n",
    "    for idx, frontage in frontages.iterrows():\n",
    "        index.insert(idx, frontage.geometry.bounds)\n",
    "\n",
    "    return index\n",
    "\n",
    "\n",
    "def assign_points_to_frontages(points, frontages, index):\n",
    "    idxs = points.geometry.map(lambda g: list(f_index.nearest(g.bounds, 5)))\n",
    "    frontage_groups = idxs.map(lambda idx_group: frontages.iloc[idx_group]).values\n",
    "    \n",
    "    out = []\n",
    "    for i in range(len(points)):\n",
    "        point = points.iloc[i]\n",
    "        frontage_group = frontage_groups[i]\n",
    "        \n",
    "        distances = [nearest_distance(frontage.geometry, point.geometry) for _, frontage in frontage_group.iterrows()]\n",
    "        frontage_idx = np.argmin(distances)\n",
    "        out.append(frontages.iloc[frontage_group.index[frontage_idx]])\n",
    "        \n",
    "    return pd.concat(out, axis='columns').T.sf16_BldgID_n"
   ]
  },
  {
   "cell_type": "code",
   "execution_count": 202,
   "metadata": {},
   "outputs": [],
   "source": [
    "def nearest_distance(line, point):\n",
    "    proj_pos = line.project(point, normalized=True)\n",
    "    proj_point = line.interpolate(proj_pos, normalized=True)\n",
    "    dist = proj_point.distance(point)\n",
    "    return dist"
   ]
  },
  {
   "cell_type": "code",
   "execution_count": 209,
   "metadata": {},
   "outputs": [],
   "source": [
    "f_index = frontage_index(frontages_of_interest)"
   ]
  },
  {
   "cell_type": "code",
   "execution_count": 210,
   "metadata": {},
   "outputs": [],
   "source": [
    "ax = trash.head(5).plot()\n",
    "trash_assignments = assign_points_to_frontages(trash.head(5), frontages_of_interest, f_index)\n",
    "frontages_of_interest[frontages_of_interest['sf16_BldgID_n'] == trash_assignments.iloc[0]].plot(ax=ax)\n",
    "mplleaflet.show()"
   ]
  },
  {
   "cell_type": "code",
   "execution_count": 221,
   "metadata": {},
   "outputs": [],
   "source": [
    "def plot_trash_assignment():\n",
    "    sample_trash_point = trash.query(\"street == 'Polk St'\").sample(1)\n",
    "    sample_frontage_id = assign_points_to_frontages(sample_trash_point, frontages_of_interest, f_index).iloc[0]\n",
    "    frontage = frontages_of_interest.query(f\"sf16_BldgID_n == '{sample_frontage_id}'\").iloc[0]\n",
    "    ax = sample_trash_point.plot(color='black')\n",
    "    gpd.GeoSeries(frontage).plot(ax=ax)"
   ]
  },
  {
   "cell_type": "code",
   "execution_count": 227,
   "metadata": {},
   "outputs": [],
   "source": [
    "plot_trash_assignment()\n",
    "mplleaflet.show()"
   ]
  },
  {
   "cell_type": "code",
   "execution_count": 152,
   "metadata": {},
   "outputs": [],
   "source": [
    "# frontages_of_interest.plot()\n",
    "# mplleaflet.show()"
   ]
  }
 ],
 "metadata": {
  "kernelspec": {
   "display_name": "Python 3",
   "language": "python",
   "name": "python3"
  },
  "language_info": {
   "codemirror_mode": {
    "name": "ipython",
    "version": 3
   },
   "file_extension": ".py",
   "mimetype": "text/x-python",
   "name": "python",
   "nbconvert_exporter": "python",
   "pygments_lexer": "ipython3",
   "version": "3.6.6"
  }
 },
 "nbformat": 4,
 "nbformat_minor": 2
}
