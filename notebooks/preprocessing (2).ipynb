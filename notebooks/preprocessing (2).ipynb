{
 "cells": [
  {
   "cell_type": "markdown",
   "metadata": {},
   "source": [
    "## preprocessing using the library functions\n",
    "\n",
    "I've poured all of the preprocessing steps so far into a `garbageman` library, which should handle all of the intermediate steps no problem."
   ]
  },
  {
   "cell_type": "code",
   "execution_count": 1,
   "metadata": {},
   "outputs": [],
   "source": [
    "import garbageman"
   ]
  },
  {
   "cell_type": "code",
   "execution_count": 2,
   "metadata": {},
   "outputs": [],
   "source": [
    "import pandas as pd\n",
    "import geopandas as gpd\n",
    "\n",
    "buildings = gpd.read_file(\"../data/SF_Bldg_201610.gdb.zip\").to_crs({\"init\": \"epsg:4326\"})\n",
    "blocks = gpd.read_file(\"../data/sf-census-blocks.geojson\")"
   ]
  },
  {
   "cell_type": "code",
   "execution_count": 11,
   "metadata": {},
   "outputs": [
    {
     "name": "stdout",
     "output_type": "stream",
     "text": [
      "CPU times: user 979 ms, sys: 7.93 ms, total: 987 ms\n",
      "Wall time: 989 ms\n"
     ]
    }
   ],
   "source": [
    "%time blocks = garbageman.pipeline.drop_noncontiguous_blocks(blocks)"
   ]
  },
  {
   "cell_type": "code",
   "execution_count": 12,
   "metadata": {},
   "outputs": [
    {
     "name": "stdout",
     "output_type": "stream",
     "text": [
      "CPU times: user 2min 6s, sys: 2.79 s, total: 2min 9s\n",
      "Wall time: 2min 13s\n"
     ]
    }
   ],
   "source": [
    "%time matches, _, _ = garbageman.pipeline.join_bldgs_blocks(buildings, blocks)"
   ]
  },
  {
   "cell_type": "code",
   "execution_count": 17,
   "metadata": {},
   "outputs": [
    {
     "name": "stdout",
     "output_type": "stream",
     "text": [
      "CPU times: user 28.2 s, sys: 320 ms, total: 28.5 s\n",
      "Wall time: 28.8 s\n"
     ]
    }
   ],
   "source": [
    "%time blockfaces = garbageman.pipeline.blockfaces_for_blocks(blocks)"
   ]
  },
  {
   "cell_type": "code",
   "execution_count": 14,
   "metadata": {},
   "outputs": [
    {
     "name": "stdout",
     "output_type": "stream",
     "text": [
      "CPU times: user 2.24 s, sys: 60.6 ms, total: 2.3 s\n",
      "Wall time: 2.36 s\n"
     ]
    }
   ],
   "source": [
    "%time streets = gpd.read_file(\"../data/sf-street-centerlines.geojson\")"
   ]
  },
  {
   "cell_type": "code",
   "execution_count": 18,
   "metadata": {},
   "outputs": [
    {
     "name": "stdout",
     "output_type": "stream",
     "text": [
      "CPU times: user 4.4 s, sys: 30.4 ms, total: 4.43 s\n",
      "Wall time: 4.47 s\n"
     ]
    }
   ],
   "source": [
    "%time street_geospatial_index = garbageman.pipeline.build_streets_geospatial_index(streets)"
   ]
  },
  {
   "cell_type": "code",
   "execution_count": 20,
   "metadata": {},
   "outputs": [
    {
     "name": "stderr",
     "output_type": "stream",
     "text": [
      "36182it [05:18, 113.72it/s]\n",
      "36182it [00:55, 657.17it/s] \n"
     ]
    },
    {
     "name": "stdout",
     "output_type": "stream",
     "text": [
      "CPU times: user 6min 18s, sys: 8.54 s, total: 6min 26s\n",
      "Wall time: 6min 35s\n"
     ]
    }
   ],
   "source": [
    "%time street_segments = garbageman.pipeline.merge_street_segments_blockfaces_blocks(blockfaces, streets, street_geospatial_index)"
   ]
  },
  {
   "cell_type": "code",
   "execution_count": 47,
   "metadata": {},
   "outputs": [
    {
     "name": "stdout",
     "output_type": "stream",
     "text": [
      "rm: ../data/blockfaces.*: No such file or directory\r\n"
     ]
    }
   ],
   "source": [
    "!rm ../data/blockfaces.*"
   ]
  },
  {
   "cell_type": "code",
   "execution_count": 48,
   "metadata": {
    "scrolled": true
   },
   "outputs": [
    {
     "name": "stdout",
     "output_type": "stream",
     "text": [
      "CPU times: user 7min 55s, sys: 5.04 s, total: 8min\n",
      "Wall time: 8min 19s\n"
     ]
    }
   ],
   "source": [
    "%time matches.to_file('../data/processed/buildings.geojson', driver='GeoJSON')"
   ]
  },
  {
   "cell_type": "code",
   "execution_count": 53,
   "metadata": {},
   "outputs": [
    {
     "name": "stdout",
     "output_type": "stream",
     "text": [
      "CPU times: user 6.01 s, sys: 301 ms, total: 6.31 s\n",
      "Wall time: 6.34 s\n"
     ]
    }
   ],
   "source": [
    "%time blocks.to_file('../data/processed/blocks.geojson', driver='GeoJSON')"
   ]
  },
  {
   "cell_type": "code",
   "execution_count": 59,
   "metadata": {},
   "outputs": [],
   "source": [
    "!rm ../data/processed/blockfaces.geojson"
   ]
  },
  {
   "cell_type": "code",
   "execution_count": 57,
   "metadata": {},
   "outputs": [
    {
     "data": {
      "text/html": [
       "<div>\n",
       "<style scoped>\n",
       "    .dataframe tbody tr th:only-of-type {\n",
       "        vertical-align: middle;\n",
       "    }\n",
       "\n",
       "    .dataframe tbody tr th {\n",
       "        vertical-align: top;\n",
       "    }\n",
       "\n",
       "    .dataframe thead th {\n",
       "        text-align: right;\n",
       "    }\n",
       "</style>\n",
       "<table border=\"1\" class=\"dataframe\">\n",
       "  <thead>\n",
       "    <tr style=\"text-align: right;\">\n",
       "      <th></th>\n",
       "      <th>geoid10</th>\n",
       "      <th>geoid10_n</th>\n",
       "      <th>geometry</th>\n",
       "      <th>simplified_geometry</th>\n",
       "    </tr>\n",
       "  </thead>\n",
       "  <tbody>\n",
       "    <tr>\n",
       "      <th>0</th>\n",
       "      <td>060750213002002</td>\n",
       "      <td>060750213002002_1</td>\n",
       "      <td>LINESTRING (-122.440616 37.750902, -122.440459...</td>\n",
       "      <td>LINESTRING (-122.440616 37.750902, -122.440459...</td>\n",
       "    </tr>\n",
       "    <tr>\n",
       "      <th>1</th>\n",
       "      <td>060750213002002</td>\n",
       "      <td>060750213002002_2</td>\n",
       "      <td>LINESTRING (-122.440459 37.749301, -122.441538...</td>\n",
       "      <td>LINESTRING (-122.440459 37.749301, -122.441538...</td>\n",
       "    </tr>\n",
       "    <tr>\n",
       "      <th>2</th>\n",
       "      <td>060750213002002</td>\n",
       "      <td>060750213002002_3</td>\n",
       "      <td>LINESTRING (-122.441538 37.74923100000001, -12...</td>\n",
       "      <td>LINESTRING (-122.441538 37.74923100000001, -12...</td>\n",
       "    </tr>\n",
       "    <tr>\n",
       "      <th>3</th>\n",
       "      <td>060750213002002</td>\n",
       "      <td>060750213002002_4</td>\n",
       "      <td>LINESTRING (-122.441687 37.75083600000001, -12...</td>\n",
       "      <td>LINESTRING (-122.441687 37.75083600000001, -12...</td>\n",
       "    </tr>\n",
       "    <tr>\n",
       "      <th>0</th>\n",
       "      <td>060750213002000</td>\n",
       "      <td>060750213002000_1</td>\n",
       "      <td>LINESTRING (-122.438397 37.750226, -122.43832 ...</td>\n",
       "      <td>LINESTRING (-122.438397 37.750226, -122.43832 ...</td>\n",
       "    </tr>\n",
       "  </tbody>\n",
       "</table>\n",
       "</div>"
      ],
      "text/plain": [
       "           geoid10          geoid10_n  \\\n",
       "0  060750213002002  060750213002002_1   \n",
       "1  060750213002002  060750213002002_2   \n",
       "2  060750213002002  060750213002002_3   \n",
       "3  060750213002002  060750213002002_4   \n",
       "0  060750213002000  060750213002000_1   \n",
       "\n",
       "                                            geometry  \\\n",
       "0  LINESTRING (-122.440616 37.750902, -122.440459...   \n",
       "1  LINESTRING (-122.440459 37.749301, -122.441538...   \n",
       "2  LINESTRING (-122.441538 37.74923100000001, -12...   \n",
       "3  LINESTRING (-122.441687 37.75083600000001, -12...   \n",
       "0  LINESTRING (-122.438397 37.750226, -122.43832 ...   \n",
       "\n",
       "                                 simplified_geometry  \n",
       "0  LINESTRING (-122.440616 37.750902, -122.440459...  \n",
       "1  LINESTRING (-122.440459 37.749301, -122.441538...  \n",
       "2  LINESTRING (-122.441538 37.74923100000001, -12...  \n",
       "3  LINESTRING (-122.441687 37.75083600000001, -12...  \n",
       "0  LINESTRING (-122.438397 37.750226, -122.43832 ...  "
      ]
     },
     "execution_count": 57,
     "metadata": {},
     "output_type": "execute_result"
    }
   ],
   "source": [
    "blockfaces.head()"
   ]
  },
  {
   "cell_type": "code",
   "execution_count": 68,
   "metadata": {},
   "outputs": [],
   "source": [
    "%time blockfaces.to_file('../data/processed/blockfaces.geojson', driver='GeoJSON')"
   ]
  },
  {
   "cell_type": "code",
   "execution_count": 66,
   "metadata": {},
   "outputs": [
    {
     "name": "stdout",
     "output_type": "stream",
     "text": [
      "CPU times: user 25.5 s, sys: 213 ms, total: 25.8 s\n",
      "Wall time: 26.7 s\n"
     ]
    }
   ],
   "source": [
    "%time street_segments.to_file('../data/processed/street_segments.geojson', driver='GeoJSON')"
   ]
  }
 ],
 "metadata": {
  "kernelspec": {
   "display_name": "Python 3",
   "language": "python",
   "name": "python3"
  },
  "language_info": {
   "codemirror_mode": {
    "name": "ipython",
    "version": 3
   },
   "file_extension": ".py",
   "mimetype": "text/x-python",
   "name": "python",
   "nbconvert_exporter": "python",
   "pygments_lexer": "ipython3",
   "version": "3.7.3"
  }
 },
 "nbformat": 4,
 "nbformat_minor": 2
}
